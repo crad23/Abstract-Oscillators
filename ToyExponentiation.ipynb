{
 "cells": [
  {
   "cell_type": "markdown",
   "metadata": {},
   "source": [
    "#### Here we try out the `exponentiation_with_depth_constraint` function of classiq that produces a quantum gate that approximates $e^{iHt}$, for any input **Hermitian operator** $H$. Since the Hamiltonian for this algorithm is Hermitian by definition, exponentiation methods can be used straightforwardly. This function automatically generates a higher order Suzuki-Trotter expansion, within the depth constraint, provided by the user. "
   ]
  },
  {
   "cell_type": "markdown",
   "metadata": {},
   "source": [
    "<!-- Another crucial point is bra-ket notation. Bra-ket notation is just a different way of representing vectors introduced by Paul Dirac. Indeed, they are different from vectors and useful especially for quantum mechanics and computation with quantum operators and states. However, we can illustrate them as vectors for our case. Ordering them as increasing, they represent the unit vectors in turn. For the above example, bases can be illustrated as\n",
    "\\begin{align}\n",
    "    |{1}\\rangle &= \\begin{pmatrix}\n",
    "            1\\\\\n",
    "            0\n",
    "            \\end{pmatrix} \\qquad (13)\\\\\n",
    "    |{2}\\rangle &= \\begin{pmatrix}\n",
    "        0\\\\\n",
    "        1\n",
    "        \\end{pmatrix} \\qquad (14)\n",
    "\\end{align} -->"
   ]
  },
  {
   "cell_type": "markdown",
   "metadata": {},
   "source": [
    "##  The Simplest Possible Case: Toy Example 1\n",
    "In this example, let exist two masses with $m_1 = 1$ and $m_2 = 1$. Also, assume spring constants are $\\kappa_{11} = \\kappa_{22} = 0$ and $\\kappa_{12} = 1$. Initial states are chosen as $\\vec{x}(t) = (0,1)^T$ and $\\vec{\\dot{x}}(t) = (0,0)^T$\n",
    "\n",
    "\n",
    "![Toy Example](Figures/Toy_Example.png)\n",
    "\n"
   ]
  },
  {
   "cell_type": "markdown",
   "metadata": {},
   "source": [
    "## Pre-Processing\n",
    "\n",
    "Create necessary matrix and initial states using functions created in `ccho_helpers.py`"
   ]
  },
  {
   "cell_type": "code",
   "execution_count": 26,
   "metadata": {},
   "outputs": [],
   "source": [
    "## Import Libraries\n",
    "import numpy as np\n",
    "import matplotlib.pyplot as plt\n",
    "import scipy\n",
    "from ccho_helpers import *\n",
    "from classiq import *\n",
    "from classiq.execution import ExecutionPreferences, ClassiqBackendPreferences"
   ]
  },
  {
   "cell_type": "code",
   "execution_count": 38,
   "metadata": {},
   "outputs": [
    {
     "name": "stdout",
     "output_type": "stream",
     "text": [
      "Initial Energy:  0.5\n",
      "B matrix:  [[ 0.+0.j  1.+0.j  0.+0.j]\n",
      " [ 0.+0.j -1.+0.j  0.+0.j]]\n",
      "Hamiltonian formed: [[-0.-0.j -0.-0.j -0.-0.j -0.-0.j -0.-0.j -1.-0.j -0.-0.j -0.-0.j]\n",
      " [-0.-0.j -0.-0.j -0.-0.j -0.-0.j -0.-0.j  1.-0.j -0.-0.j -0.-0.j]\n",
      " [-0.-0.j -0.-0.j -0.-0.j -0.-0.j -0.-0.j -0.-0.j -0.-0.j -0.-0.j]\n",
      " [-0.-0.j -0.-0.j -0.-0.j -0.-0.j -0.-0.j -0.-0.j -0.-0.j -0.-0.j]\n",
      " [-0.+0.j -0.+0.j -0.+0.j -0.+0.j -0.-0.j -0.-0.j -0.-0.j -0.-0.j]\n",
      " [-1.+0.j  1.+0.j -0.+0.j -0.+0.j -0.-0.j -0.-0.j -0.-0.j -0.-0.j]\n",
      " [-0.+0.j -0.+0.j -0.+0.j -0.+0.j -0.-0.j -0.-0.j -0.-0.j -0.-0.j]\n",
      " [-0.+0.j -0.+0.j -0.+0.j -0.+0.j -0.-0.j -0.-0.j -0.-0.j -0.-0.j]]\n",
      "Initial State: [[ 0.+0.j]\n",
      " [ 0.+0.j]\n",
      " [ 0.+0.j]\n",
      " [ 0.+0.j]\n",
      " [ 0.+0.j]\n",
      " [-0.-1.j]\n",
      " [ 0.+0.j]\n",
      " [ 0.+0.j]]\n"
     ]
    }
   ],
   "source": [
    "## Creating the 2 masses system\n",
    "\n",
    "# Number of masses\n",
    "N =2**1\n",
    "\n",
    "# ass Matrix\n",
    "M = np.array([[1,0],[0,1]])\n",
    "\n",
    "# Spring Matrix\n",
    "K = np.array([[0,1],[1,0]])\n",
    "\n",
    "# Initial Conditions\n",
    "x_0 = np.zeros([N,1])\n",
    "xdot_0 = np.zeros([N,1])\n",
    "x_0[1] = 1\n",
    "\n",
    "# F Matrix\n",
    "F= create_matrix_F(K, N)\n",
    "\n",
    "# A Matrix\n",
    "A = create_matrix_A(M, F)\n",
    "\n",
    "# Transform coordinates\n",
    "y = coordinate_transformation(M, x_0, xdot_0)\n",
    "y_0 = y[\"y_0\"]\n",
    "ydot_0 = y[\"ydot_0\"]\n",
    "\n",
    "# B Matrix\n",
    "B = create_matrix_B(M, K, A, N)\n",
    "\n",
    "# Stacking B with zeros to get square matrix N^2 x N^2\n",
    "B_padded = padding_B(B, N)\n",
    "\n",
    "# Hamiltonian\n",
    "Ham = create_Hamiltonian(B_padded)\n",
    "\n",
    "# Initial State\n",
    "init_state = create_init_state(B_padded, y_0, ydot_0, N)\n",
    "E0_y = calculate_energy(y_0, ydot_0, M, K)\n",
    "\n",
    "# Normalize the Initial State\n",
    "normalization = normalize_init_state(init_state)\n",
    "normalized_init_state = normalization[\"normalized_init_state\"]\n",
    "norm = normalization[\"norm\"]\n",
    "\n",
    "# Print the results\n",
    "print(\"Initial Energy: \", E0_y)\n",
    "print(\"B matrix: \", B)\n",
    "print(\"Hamiltonian formed:\", Ham)\n",
    "print(\"Initial State:\", init_state)"
   ]
  },
  {
   "cell_type": "markdown",
   "metadata": {},
   "source": [
    "## Pauli Matrix Decomposition\n",
    "\n",
    "Create the Pauli List for the Hamiltonian. Pauli Decomposition is taken from [Classiq Library](https://github.com/Classiq/classiq-library/blob/main/algorithms/hhl/hhl/hhl.ipynb) thanks a lot to the authors!"
   ]
  },
  {
   "cell_type": "code",
   "execution_count": 39,
   "metadata": {},
   "outputs": [
    {
     "name": "stderr",
     "output_type": "stream",
     "text": [
      "100%|██████████| 64/64 [00:00<00:00, 26294.00it/s]"
     ]
    },
    {
     "name": "stdout",
     "output_type": "stream",
     "text": [
      "[('XII', (0.25+0j)), ('XIZ', (-0.25+0j)), ('XIX', (-0.25+0j)), ('XZI', (0.25+0j)), ('XZZ', (-0.25+0j)), ('XZX', (-0.25+0j)), ('YIY', (0.25+0j)), ('YZY', (0.25+0j))]\n"
     ]
    },
    {
     "name": "stderr",
     "output_type": "stream",
     "text": [
      "\n"
     ]
    }
   ],
   "source": [
    "## Pauli Decomposition and transforming it into Classiq syntax\n",
    "\n",
    "# Create the Pauli Matrix Decomposition of the Hamiltonian\n",
    "pauli_list = lcu_naive(Ham)\n",
    "\n",
    "# Transform Pauli Matrix Decomposition to Classiq compatible\n",
    "classiq_pauli_list = pauli_list_to_hamiltonian(pauli_list)\n",
    "\n",
    "print(pauli_list)"
   ]
  },
  {
   "cell_type": "markdown",
   "metadata": {},
   "source": [
    "## Hamiltonian Simulation\n",
    "\n",
    "We use the `exponantion_with_depth_constraint` function of classiq that produces a quantum gate that approximates $e^{iHt}$, for any input **Hermitian operator** $H$. Since the Hamiltonian for this algorithm is Hermitian by definition, exponentiation methods can be used straightforwardly."
   ]
  },
  {
   "cell_type": "code",
   "execution_count": 40,
   "metadata": {},
   "outputs": [],
   "source": [
    "# Add i phase for the last half\n",
    "@qfunc\n",
    "def init_state_phase(state: QNum):\n",
    "    \"\"\"\n",
    "        Definition:\n",
    "            Imply -pi/2 phase to the last half (msb qubit) of the QNum state in order to add -i factor\n",
    "        Args:\n",
    "            state (QNum): Initial state with bare amplitudes\n",
    "        Outputs:\n",
    "            state (QNum): Initial state with phase\n",
    "    \"\"\"\n",
    "\n",
    "    state_in_qubit = QArray(\"state_in_qubit\")\n",
    "    msb = QArray(\"msb\", QBit)\n",
    "    \n",
    "    size = np.log2(init_state.size)\n",
    "    allocate(size, msb)\n",
    "\n",
    "    bind(state, state_in_qubit)\n",
    "    repeat(state_in_qubit.len, lambda i: CX(state_in_qubit[i], msb[i]))\n",
    "    control(msb[size-1], lambda: PHASE(np.pi/2, state_in_qubit[size-1]))\n",
    "    bind(state_in_qubit, state)\n",
    "\n",
    "# Main function with suzuki_trotter\n",
    "@qfunc\n",
    "def main(state: Output[QNum]):\n",
    "    \"\"\"\n",
    "        Definition:\n",
    "            Main function to make evolution\n",
    "\n",
    "        Outputs:\n",
    "            state (Output[QNum]): Resulting state at the t = evolution_coefficient\n",
    "    \"\"\"\n",
    "        \n",
    "    prepare_amplitudes(amplitudes=list(normalized_init_state), out=state, bound=0.00000000000001)\n",
    "    init_state_phase(state)\n",
    "\n",
    "    exponentiation_with_depth_constraint(\n",
    "        classiq_pauli_list,\n",
    "        evolution_coefficient=0.5,\n",
    "        max_depth=500,\n",
    "        qbv=state)\n",
    "\n",
    "qmod = create_model(main)"
   ]
  },
  {
   "cell_type": "code",
   "execution_count": 41,
   "metadata": {},
   "outputs": [
    {
     "name": "stdout",
     "output_type": "stream",
     "text": [
      "Opening: https://platform.classiq.io/circuit/c640d357-b025-4392-bc58-6a563c7f3817?version=0.43.3\n"
     ]
    }
   ],
   "source": [
    "#  Synthesis. Use \"simulator_statevector\" to take phases into account\n",
    "backend_preferences = ClassiqBackendPreferences(backend_name=\"simulator_statevector\")\n",
    "model_pref = set_execution_preferences(qmod, ExecutionPreferences(num_shots=1, backend_preferences=backend_preferences))\n",
    "qprog = synthesize(model_pref)\n",
    "show(qprog)\n",
    "write_qmod(qmod, \"t=0.5Exponentiation1\", decimal_precision=16)"
   ]
  },
  {
   "cell_type": "markdown",
   "metadata": {},
   "source": [
    "<img src=\"./Figures/ResourcesToyCase1EXP.png\" alt=\"Toy Example\" width=\"250\"/>"
   ]
  },
  {
   "cell_type": "code",
   "execution_count": 42,
   "metadata": {},
   "outputs": [],
   "source": [
    "# Execute the job\n",
    "job = execute(qprog)\n",
    "parsed_state_vector = job.result()[0].value.parsed_state_vector"
   ]
  },
  {
   "cell_type": "markdown",
   "metadata": {},
   "source": [
    "## Post-Processing\n",
    "- Obtain final state and derive final velocity and positions"
   ]
  },
  {
   "cell_type": "code",
   "execution_count": 43,
   "metadata": {},
   "outputs": [
    {
     "name": "stdout",
     "output_type": "stream",
     "text": [
      "Final Positions [[0.11986601+0.j]\n",
      " [0.88013398+0.j]]\n",
      "Final Velocities [[ 0.4593153 +0.j]\n",
      " [-0.45937138+0.j]]\n"
     ]
    }
   ],
   "source": [
    "# Combine the final results\n",
    "state_amplitudes = sum_amplitudes_by_state(parsed_state_vector, N)\n",
    "\n",
    "# Normalize the global phase\n",
    "normalized_final_state = normalize_final_state(state_amplitudes, parsed_state_vector)\n",
    "\n",
    "# Eliminate small numbers\n",
    "simplified_final_state = simplify_final_state(normalized_final_state)\n",
    "\n",
    "# Renormalize the final state using the norm of initial state\n",
    "final_state = norm * simplified_final_state[..., None]\n",
    "\n",
    "# Get the final position and velocity vectors\n",
    "final_results = post_process_final_state(final_state, B_padded, N, y_0)\n",
    "y_final = final_results[\"y_final\"]\n",
    "ydot_final = final_results[\"ydot_final\"]\n",
    "\n",
    "# Transform coordinates from y to x\n",
    "x_final_results = back_coordinate_transformation(M, y_final, ydot_final)\n",
    "x_final = x_final_results[\"x_final\"]\n",
    "xdot_final = x_final_results[\"xdot_final\"]\n",
    "\n",
    "print(\"Final Positions\", x_final)\n",
    "print(\"Final Velocities\", xdot_final)"
   ]
  },
  {
   "cell_type": "markdown",
   "metadata": {},
   "source": [
    "## Classical Solution and Comparision\n",
    "Obtain the result numerically"
   ]
  },
  {
   "cell_type": "code",
   "execution_count": 44,
   "metadata": {},
   "outputs": [
    {
     "name": "stdout",
     "output_type": "stream",
     "text": [
      "Position Vectors at t=0.5 classically\n",
      "[0.11988439 0.88011561]\n",
      "Velocity Vectors at t=0.5 classically\n",
      "[ 0.45936539 -0.45936539]\n"
     ]
    }
   ],
   "source": [
    "## Get classical results\n",
    "\n",
    "def equations_of_motion(t, init, N, M, K):\n",
    "    \"\"\"\n",
    "    Definition:\n",
    "        EOM for classical coupled oscillator system with N masses\n",
    "    Args:\n",
    "        t (array): Time array\n",
    "        init (list): Initial Conditions\n",
    "        N (int): Number of masses\n",
    "        M (array): Mass matrix (diagonal)\n",
    "        K (array): Spring constant matrix\n",
    "    Output:\n",
    "        (list): List of final equations\n",
    "    \"\"\"\n",
    "\n",
    "    x = init[:N]\n",
    "    v = init[N:]\n",
    "    dxdt = v\n",
    "    dvdt = np.zeros(N)\n",
    "    \n",
    "    for i in range(N):\n",
    "        if i == 0:\n",
    "            dvdt[i] = (-K[i, i] * x[i] + K[i, i+1] * (x[i+1] - x[i])) / M[i, i]\n",
    "        elif i == N-1:\n",
    "            dvdt[i] = (-K[i, i] * x[i] + K[i, i-1] * (x[i-1] - x[i])) / M[i, i]\n",
    "        else:\n",
    "            dvdt[i] = (-K[i, i] * x[i] + K[i, i-1] * (x[i-1] - x[i]) + K[i, i+1] * (x[i+1] - x[i])) / M[i, i]\n",
    "\n",
    "    return np.concatenate((dxdt, dvdt))\n",
    "\n",
    "\n",
    "# Initial conditions: [x1(0), x2(0), ..., xN(0), v1(0), v2(0), ..., vN(0)]\n",
    "initial_conditions = np.concatenate((x_0, xdot_0))\n",
    "\n",
    "\n",
    "# Time span for the simulation\n",
    "t_span = (0, 0.5)\n",
    "t_eval = np.linspace(t_span[0], t_span[1], 100)\n",
    "\n",
    "# Solve the system of differential equations\n",
    "solution = scipy.integrate.solve_ivp(equations_of_motion, t_span, initial_conditions.flatten(), t_eval=t_eval, args=(N, M, K))\n",
    "\n",
    "# Extract the results\n",
    "t = solution.t\n",
    "x = solution.y[:N, :]\n",
    "v = solution.y[N:, :]\n",
    "\n",
    "# Get the results numerically\n",
    "x_classic =np.array([x[0][-1], x[1][-1]])\n",
    "xdot_classic =np.array([v[0][-1], v[1][-1]])\n",
    "\n",
    "print(\"Position Vectors at t=0.5 classically\")\n",
    "print(x_classic)\n",
    "print(\"Velocity Vectors at t=0.5 classically\")\n",
    "print(xdot_classic)\n"
   ]
  },
  {
   "cell_type": "code",
   "execution_count": 45,
   "metadata": {},
   "outputs": [
    {
     "name": "stdout",
     "output_type": "stream",
     "text": [
      "Error Percentage in Position of Mass 1:  0.01533162758561238 Sign Check:  +\n",
      "Error Percentage in Position of Mass 2:  0.002087656170664253 Sign Check:  +\n",
      "Error Percentage in Velocity of Mass 1:  0.010904723246940085 Sign Check:  +\n",
      "Error Percentage in Velocity of Mass 2:  0.0013024915626240145 Sign Check:  +\n"
     ]
    }
   ],
   "source": [
    "## Compare classical and quantum results\n",
    "# Compare two solutions\n",
    "comparision = calculate_error(x_final, xdot_final, x_classic, xdot_classic, N)\n",
    "amplitude_error = comparision[\"amplitude_error\"]\n",
    "sign_error = comparision[\"sign_error\"]\n",
    "\n",
    "for i in range(1, N+1):\n",
    "    print(f\"Error Percentage in Position of Mass {i}: \", amplitude_error[f\"Position of Mass {i}\"], \"Sign Check: \", sign_error[f\"Position of Mass {i}\"])\n",
    "    \n",
    "for j in range(1, N+1):\n",
    "    print(f\"Error Percentage in Velocity of Mass {j}: \", amplitude_error[f\"Velocity of Mass {j}\"], \"Sign Check: \", sign_error[f\"Velocity of Mass {i}\"])"
   ]
  },
  {
   "cell_type": "markdown",
   "metadata": {},
   "source": [
    "#### The results are very accurate for the first toy example. \n",
    "\n",
    "___\n",
    "___"
   ]
  },
  {
   "cell_type": "markdown",
   "metadata": {},
   "source": [
    "##  Toy Example 2\n",
    "In this example, let exist two masses with $m_1 = 1$ and $m_2 = 1$. Also, assume spring constants are $\\kappa_{11} = \\kappa_{22} = 1$ and $\\kappa_{12} = 1$. Initial states are chosen as $\\vec{x}(t) = (0,1)^T$ and $\\vec{\\dot{x}}(t) = (1,1)^T$\n"
   ]
  },
  {
   "cell_type": "code",
   "execution_count": 16,
   "metadata": {},
   "outputs": [
    {
     "name": "stdout",
     "output_type": "stream",
     "text": [
      "Initial Energy:  2.0\n",
      "B matrix:  [[ 1.+0.j  1.+0.j  0.+0.j]\n",
      " [ 0.+0.j -1.+0.j  1.+0.j]]\n",
      "Hamiltonian formed: [[-0.-0.j -0.-0.j -0.-0.j -0.-0.j -1.-0.j -1.-0.j -0.-0.j -0.-0.j]\n",
      " [-0.-0.j -0.-0.j -0.-0.j -0.-0.j -0.-0.j  1.-0.j -1.-0.j -0.-0.j]\n",
      " [-0.-0.j -0.-0.j -0.-0.j -0.-0.j -0.-0.j -0.-0.j -0.-0.j -0.-0.j]\n",
      " [-0.-0.j -0.-0.j -0.-0.j -0.-0.j -0.-0.j -0.-0.j -0.-0.j -0.-0.j]\n",
      " [-1.+0.j -0.+0.j -0.+0.j -0.+0.j -0.-0.j -0.-0.j -0.-0.j -0.-0.j]\n",
      " [-1.+0.j  1.+0.j -0.+0.j -0.+0.j -0.-0.j -0.-0.j -0.-0.j -0.-0.j]\n",
      " [-0.+0.j -1.+0.j -0.+0.j -0.+0.j -0.-0.j -0.-0.j -0.-0.j -0.-0.j]\n",
      " [-0.+0.j -0.+0.j -0.+0.j -0.+0.j -0.-0.j -0.-0.j -0.-0.j -0.-0.j]]\n",
      "Initial State: [[ 1.+0.j]\n",
      " [ 1.+0.j]\n",
      " [ 0.+0.j]\n",
      " [ 0.+0.j]\n",
      " [ 0.+0.j]\n",
      " [-0.-1.j]\n",
      " [ 0.+1.j]\n",
      " [ 0.+0.j]]\n"
     ]
    }
   ],
   "source": [
    "## Creating the 2 masses system\n",
    "\n",
    "# Number of masses\n",
    "N =2**1\n",
    "\n",
    "# ass Matrix\n",
    "M = np.array([[1,0],[0,1]])\n",
    "\n",
    "# Spring Matrix\n",
    "K = np.array([[1,1],[1,1]])\n",
    "\n",
    "# Initial Conditions\n",
    "x_0 = np.array([[0],[1]])\n",
    "xdot_0 = np.array([[1],[1]])\n",
    "\n",
    "# F Matrix\n",
    "F= create_matrix_F(K, N)\n",
    "\n",
    "# A Matrix\n",
    "A = create_matrix_A(M, F)\n",
    "\n",
    "# Transform coordinates\n",
    "y = coordinate_transformation(M, x_0, xdot_0)\n",
    "y_0 = y[\"y_0\"]\n",
    "ydot_0 = y[\"ydot_0\"]\n",
    "\n",
    "# B Matrix\n",
    "B = create_matrix_B(M, K, A, N)\n",
    "\n",
    "# Stacking B with zeros to get square matrix N^2 x N^2\n",
    "B_padded = padding_B(B, N)\n",
    "\n",
    "# Hamiltonian\n",
    "Ham = create_Hamiltonian(B_padded)\n",
    "\n",
    "# Initial State\n",
    "init_state = create_init_state(B_padded, y_0, ydot_0, N)\n",
    "E0_y = calculate_energy(y_0, ydot_0, M, K)\n",
    "\n",
    "# Normalize the Initial State\n",
    "normalization = normalize_init_state(init_state)\n",
    "normalized_init_state = normalization[\"normalized_init_state\"]\n",
    "norm = normalization[\"norm\"]\n",
    "\n",
    "# Print the results\n",
    "print(\"Initial Energy: \", E0_y)\n",
    "print(\"B matrix: \", B)\n",
    "print(\"Hamiltonian formed:\", Ham)\n",
    "print(\"Initial State:\", init_state)"
   ]
  },
  {
   "cell_type": "code",
   "execution_count": 17,
   "metadata": {},
   "outputs": [
    {
     "name": "stderr",
     "output_type": "stream",
     "text": [
      "100%|██████████| 64/64 [00:00<00:00, 28268.27it/s]"
     ]
    },
    {
     "name": "stdout",
     "output_type": "stream",
     "text": [
      "[('XIZ', (-0.5+0j)), ('XIX', (-0.25+0j)), ('XZZ', (-0.5+0j)), ('XZX', (-0.25+0j)), ('XXX', (-0.25+0j)), ('XYY', (-0.25+0j)), ('YIY', (0.25+0j)), ('YZY', (0.25+0j)), ('YXY', (-0.25+0j)), ('YYX', (0.25+0j))]\n"
     ]
    },
    {
     "name": "stderr",
     "output_type": "stream",
     "text": [
      "\n"
     ]
    }
   ],
   "source": [
    "# Create the Pauli Matrix Decomposition of the Hamiltonian\n",
    "pauli_list = lcu_naive(Ham)\n",
    "\n",
    "# Transform Pauli Matrix Decomposition to Classiq compatible\n",
    "classiq_pauli_list = pauli_list_to_hamiltonian(pauli_list)\n",
    "\n",
    "print(pauli_list)"
   ]
  },
  {
   "cell_type": "code",
   "execution_count": 32,
   "metadata": {},
   "outputs": [],
   "source": [
    "# Add i phase for the last half\n",
    "@qfunc\n",
    "def init_state_phase(state: QNum):\n",
    "    \"\"\"\n",
    "        Definition:\n",
    "            Imply pi/2 phase to the last half (msb qubit) of the QNum state in order to add -i factor\n",
    "        Args:\n",
    "            state (QNum): Initial state with bare amplitudes\n",
    "        Outputs:\n",
    "            state (QNum): Initial state with phase\n",
    "    \"\"\"\n",
    "\n",
    "    state_in_qubit = QArray(\"state_in_qubit\")\n",
    "    msb = QArray(\"msb\", QBit)\n",
    "    \n",
    "    size = np.log2(init_state.size)\n",
    "    allocate(size, msb)\n",
    "\n",
    "    bind(state, state_in_qubit)\n",
    "    repeat(state_in_qubit.len, lambda i: CX(state_in_qubit[i], msb[i]))\n",
    "    control(msb[size-1], lambda: PHASE(np.pi/2, state_in_qubit[size-1]))\n",
    "    bind(state_in_qubit, state)\n",
    "\n",
    "# Main function with suzuki_trotter\n",
    "@qfunc\n",
    "def main(state: Output[QNum]):\n",
    "    \"\"\"\n",
    "        Definition:\n",
    "            Main function to make evolution\n",
    "\n",
    "        Outputs:\n",
    "            state (Output[QNum]): Resulting state at the t = evolution_coefficient\n",
    "    \"\"\"\n",
    "        \n",
    "    prepare_amplitudes(amplitudes=list(normalized_init_state), out=state, bound=0.0000000001)\n",
    "    init_state_phase(state)\n",
    "\n",
    "    exponentiation_with_depth_constraint(\n",
    "        classiq_pauli_list,\n",
    "        evolution_coefficient=0.5,\n",
    "        max_depth=900,\n",
    "        qbv=state)\n"
   ]
  },
  {
   "cell_type": "code",
   "execution_count": 33,
   "metadata": {},
   "outputs": [
    {
     "name": "stdout",
     "output_type": "stream",
     "text": [
      "Opening: https://platform.classiq.io/circuit/ae9e990d-f434-455e-bd39-9c841b6fc830?version=0.43.3\n"
     ]
    }
   ],
   "source": [
    "# Create model and synthesis. Use \"simulator_statevector\" to take phases into account\n",
    "\n",
    "\n",
    "qmod = create_model(main)\n",
    "backend_preferences = ClassiqBackendPreferences(backend_name=\"simulator_statevector\")\n",
    "model_pref = set_execution_preferences(qmod, ExecutionPreferences(num_shots=1, backend_preferences=backend_preferences))\n",
    "qprog = synthesize(model_pref)\n",
    "show(qprog)\n",
    "write_qmod(qmod, \"t=0.5Exponentiation\", decimal_precision=16)\n"
   ]
  },
  {
   "cell_type": "code",
   "execution_count": 34,
   "metadata": {},
   "outputs": [],
   "source": [
    "# Execute the job\n",
    "job = execute(qprog)\n",
    "parsed_state_vector = job.result()[0].value.parsed_state_vector"
   ]
  },
  {
   "cell_type": "code",
   "execution_count": 35,
   "metadata": {},
   "outputs": [
    {
     "name": "stdout",
     "output_type": "stream",
     "text": [
      "Final Positions [[0.5936723 +0.j]\n",
      " [1.24085981+0.j]]\n",
      "Final Velocities [[ 1.29933939+0.j]\n",
      " [-0.02553784+0.j]]\n"
     ]
    }
   ],
   "source": [
    "# Combine the final results\n",
    "state_amplitudes = sum_amplitudes_by_state(parsed_state_vector, N)\n",
    "\n",
    "# Normalize the global phase\n",
    "normalized_final_state = normalize_final_state(state_amplitudes, parsed_state_vector)\n",
    "\n",
    "# Eliminate small numbers\n",
    "simplified_final_state = simplify_final_state(normalized_final_state)\n",
    "\n",
    "# Renormalize the final state using the norm of initial state\n",
    "final_state = norm * simplified_final_state[..., None]\n",
    "\n",
    "# Get the final position and velocity vectors\n",
    "final_results = post_process_final_state(final_state, B_padded, N, y_0)\n",
    "y_final = final_results[\"y_final\"]\n",
    "ydot_final = final_results[\"ydot_final\"]\n",
    "\n",
    "# Transform coordinates from y to x\n",
    "x_final_results = back_coordinate_transformation(M, y_final, ydot_final)\n",
    "x_final = x_final_results[\"x_final\"]\n",
    "xdot_final = x_final_results[\"xdot_final\"]\n",
    "\n",
    "print(\"Final Positions\", x_final)\n",
    "print(\"Final Velocities\", xdot_final)"
   ]
  },
  {
   "cell_type": "markdown",
   "metadata": {},
   "source": [
    "## Classical Solution and Comparision\n",
    "Obtain the result numerically"
   ]
  },
  {
   "cell_type": "code",
   "execution_count": 36,
   "metadata": {},
   "outputs": [
    {
     "name": "stdout",
     "output_type": "stream",
     "text": [
      "Position Vectors at t=0.5 classically\n",
      "[0.59429062 1.24214278]\n",
      "Velocity Vectors at t=0.5 classically\n",
      "[ 1.2975731  -0.02183403]\n"
     ]
    }
   ],
   "source": [
    "## Get classical results\n",
    "\n",
    "def equations_of_motion(t, init, N, M, K):\n",
    "    \"\"\"\n",
    "    Definition:\n",
    "        EOM for classical coupled oscillator system with N masses\n",
    "    Args:\n",
    "        t (array): Time array\n",
    "        init (list): Initial Conditions\n",
    "        N (int): Number of masses\n",
    "        M (array): Mass matrix (diagonal)\n",
    "        K (array): Spring constant matrix\n",
    "    Output:\n",
    "        (list): List of final equations\n",
    "    \"\"\"\n",
    "\n",
    "    x = init[:N]\n",
    "    v = init[N:]\n",
    "    dxdt = v\n",
    "    dvdt = np.zeros(N)\n",
    "    \n",
    "    for i in range(N):\n",
    "        if i == 0:\n",
    "            dvdt[i] = (-K[i, i] * x[i] + K[i, i+1] * (x[i+1] - x[i])) / M[i, i]\n",
    "        elif i == N-1:\n",
    "            dvdt[i] = (-K[i, i] * x[i] + K[i, i-1] * (x[i-1] - x[i])) / M[i, i]\n",
    "        else:\n",
    "            dvdt[i] = (-K[i, i] * x[i] + K[i, i-1] * (x[i-1] - x[i]) + K[i, i+1] * (x[i+1] - x[i])) / M[i, i]\n",
    "\n",
    "    return np.concatenate((dxdt, dvdt))\n",
    "\n",
    "\n",
    "# Initial conditions: [x1(0), x2(0), ..., xN(0), v1(0), v2(0), ..., vN(0)]\n",
    "initial_conditions = np.concatenate((x_0, xdot_0))\n",
    "\n",
    "\n",
    "# Time span for the simulation\n",
    "t_span = (0, 0.5)\n",
    "t_eval = np.linspace(t_span[0], t_span[1], 100)\n",
    "\n",
    "# Solve the system of differential equations\n",
    "solution = scipy.integrate.solve_ivp(equations_of_motion, t_span, initial_conditions.flatten(), t_eval=t_eval, args=(N, M, K))\n",
    "\n",
    "# Extract the results\n",
    "t = solution.t\n",
    "x = solution.y[:N, :]\n",
    "v = solution.y[N:, :]\n",
    "\n",
    "# Get the results numerically\n",
    "x_classic =np.array([x[0][-1], x[1][-1]])\n",
    "xdot_classic =np.array([v[0][-1], v[1][-1]])\n",
    "\n",
    "print(\"Position Vectors at t=0.5 classically\")\n",
    "print(x_classic)\n",
    "print(\"Velocity Vectors at t=0.5 classically\")\n",
    "print(xdot_classic)\n"
   ]
  },
  {
   "cell_type": "code",
   "execution_count": 37,
   "metadata": {},
   "outputs": [
    {
     "name": "stdout",
     "output_type": "stream",
     "text": [
      "Error Percentage in Position of Mass 1:  0.10404256517824492 Sign Check:  +\n",
      "Error Percentage in Position of Mass 2:  0.10328638178086573 Sign Check:  +\n",
      "Error Percentage in Velocity of Mass 1:  0.1361226174076713 Sign Check:  +\n",
      "Error Percentage in Velocity of Mass 2:  16.96350335298973 Sign Check:  +\n"
     ]
    }
   ],
   "source": [
    "## Compare classical and quantum results\n",
    "# Compare two solutions\n",
    "comparision = calculate_error(x_final, xdot_final, x_classic, xdot_classic, N)\n",
    "amplitude_error = comparision[\"amplitude_error\"]\n",
    "sign_error = comparision[\"sign_error\"]\n",
    "\n",
    "for i in range(1, N+1):\n",
    "    print(f\"Error Percentage in Position of Mass {i}: \", amplitude_error[f\"Position of Mass {i}\"], \"Sign Check: \", sign_error[f\"Position of Mass {i}\"])\n",
    "    \n",
    "for j in range(1, N+1):\n",
    "    print(f\"Error Percentage in Velocity of Mass {j}: \", amplitude_error[f\"Velocity of Mass {j}\"], \"Sign Check: \", sign_error[f\"Velocity of Mass {i}\"])"
   ]
  },
  {
   "cell_type": "markdown",
   "metadata": {},
   "source": [
    "## Discussion and Results\n",
    "Results show that, at least for the toy example, quantum algorithm works quite well. However, there are some points to be mentioned:\n",
    "\n",
    "- In this file, we have shown that for the simplest case, using `exponentiation_with_depth_constraint` can give us a model with lower depths and nearly accurate results (in case 1), but there is a compromise with velocities(in case 2), we have found that increasing the depth limit would reduce the error percentage in velocities.\n",
    "- Even though velocities are post-processed straightforwardly from the final state, positions can be computed uniquely only if $B$ is not singular. That is because of the $B^\\dagger$ factor multiplying the amplitudes at the second half of the state. Positions can also be estimated using the sum of initial positions if there is no initial velocities since in that case, masses would displace in a way such that the absolute displacement can be protected. In our toy example, initial velocities equal to zero, so the results are pretty accurate. For general case, it is more reasonable to look at the fidelity of the final states computed classically and quantum algorithmically.\n",
    "- State vector simulations are equivalent up to a global phase. We try to eliminate global phase by making the phase of first entry 0, yet that may create a sign flip in certain situations, which can result in reversed positions"
   ]
  }
 ],
 "metadata": {
  "kernelspec": {
   "display_name": "base",
   "language": "python",
   "name": "python3"
  },
  "language_info": {
   "codemirror_mode": {
    "name": "ipython",
    "version": 3
   },
   "file_extension": ".py",
   "mimetype": "text/x-python",
   "name": "python",
   "nbconvert_exporter": "python",
   "pygments_lexer": "ipython3",
   "version": "3.11.9"
  }
 },
 "nbformat": 4,
 "nbformat_minor": 2
}
