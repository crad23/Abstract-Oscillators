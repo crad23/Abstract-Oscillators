{
  "cells": [
    {
      "cell_type": "markdown",
      "metadata": {
        "id": "FxSrhhcYXWsW"
      },
      "source": [
        "# Simulating coupled Classical Harmonic oscillators using Classiq\n",
        "\n"
      ]
    },
    {
      "cell_type": "markdown",
      "metadata": {
        "id": "oUZXikoCXf9F"
      },
      "source": [
        "## Theoretical Background:\n",
        "___\n",
        "\n",
        "We are trying to find a solution for a system of classical coupled harmonic oscillators with $N=2^n$ masses. Let $\\vec{x}$ be the displacement vector\n",
        "$$\n",
        "    \\vec{x} = \\left(x_1(t),.....,x_N(t) \\right)^T \\in \\mathbb{R}^N\n",
        "    \\qquad (1)\n",
        "$$\n",
        "So, for the system of $N$ masses connected by springs, Newton's equation becomes\n",
        "$$\n",
        "    m_j \\ddot{x}_j(t) = \\sum_{k \\neq j} \\kappa_{jk} \\left( x_k(t) - x_j(t) \\right) - \\kappa_{jj} x_j(t) \\qquad (2)\n",
        "$$\n",
        "where $j \\in [N] := \\{1,...,N\\}$ and $\\kappa_{jk}$ is the spring constant of the spring connecting the $j ^{th}$ and the $k ^{th}$ masses.\n",
        "\n",
        "Representing Newton's Equation in matrix form:\n",
        "$$\n",
        "    \\mathbf{M}\\ddot{\\vec{x}}(t) = - \\mathbf{F}\\vec{x}(t)\n",
        "    \\qquad (3)\n",
        "$$\n",
        "where $\\mathbf{M}$ is the $N\\times N$ diagonal matrix with entries $m_j > 0$ and $\\mathbf{F}$ is an $N\\times N$ matrix with $f_{jj}=\\sum_k \\kappa_{jk}$ and $f_{jk} = -\\kappa_{jk}$.\n",
        "\n",
        "___"
      ]
    },
    {
      "cell_type": "markdown",
      "metadata": {
        "id": "tjSnSm-NYmnM"
      },
      "source": [
        "\n",
        "\n",
        "In order to reduce Newton's Equation to a Quantum Evolution, we perform a change of variable where $\\vec{y}(t) := \\sqrt{\\mathbf{M}}\\vec{x}(t)$. Equation $(3)$ becomes:\n",
        "$$\n",
        "    \\ddot{\\vec{y}}(t) = -\\mathbf{A}\\vec{y}(t)\n",
        "    \\qquad (4)\n",
        "$$\n",
        "where $\\mathbf{A} := \\sqrt{\\mathbf{M}}^{-1}\\mathbf{F}\\sqrt{\\mathbf{M}}^{-1}$. Convert equation (4) into a similar form of Schrödinger's Equation by adding $i\\sqrt{\\mathbf{A}}\\dot{\\vec{y}}(t)$ on both sides of equation $4$,\n",
        "$$\n",
        "    \\ddot{\\vec{y}}(t) + i\\sqrt{\\mathbf{A}}\\dot{\\vec{y}}(t)=i\\sqrt{\\mathbf{A}}\\left(\\dot{\\vec{y}}(t) + i\\sqrt{\\mathbf{A}}\\vec{y}(t)\\right)\n",
        "    \\qquad (5)\n",
        "$$\n",
        "Solution to (5) is\n",
        "$$\n",
        "    \\dot{\\vec{y}}(t) + i\\sqrt{\\mathbf{A}}\\vec{y}(t) = e^{it\\sqrt{\\mathbf{A}}}\\left(\\dot{\\vec{y}}(0) + i\\sqrt{\\mathbf{A}}\\vec{y}(0)\\right)\n",
        "    \\qquad (6)\n",
        "$$\n",
        "\n",
        "___"
      ]
    },
    {
      "cell_type": "markdown",
      "metadata": {
        "id": "kYhq877MdXtn"
      },
      "source": [
        "In order to access $\\sqrt{\\mathbf{A}}$, define $\\mathbf{B}\\mathbf{B^\\dagger} = \\mathbf{A}$ where B is $N\\times M$ and $M = N\\times (N+1) /2$. However, to simulate the Hamiltonian using qubits, we need it to be a square matrix of dimension $2^{q}$ where $q$ is the number of qubits simulating $H$. To achieve this, we  pad $B$ with zeros to make its dimension $N^2\\times N^2$, so that $H$ becomes a $2N^{2}X2N^{2}$ matrix which can be simulated with $q=2n+1$ qubits, where $N=2^{n}$. So, the hamiltonian after padding becomes\n",
        "$$\n",
        "    \\mathbf{H} := -\\begin{pmatrix}\n",
        "\\mathbf{0}{_{N^{2}XN^{2}}} & \\mathbf{B}{_{N^{2}XN^{2}}}\\\\\n",
        "\\mathbf{B^\\dagger}{_{N^{2}XN^{2}}} & \\mathbf{0}{_{N^{2}XN^{2}}}\n",
        "\\end{pmatrix}_{2N^{2}X2N^{2}}\n",
        "\\qquad (7)\n",
        "$$\n",
        "(5) can be stated as:\n",
        "$$\n",
        "    |{\\dot{\\psi}(t)}\\rangle = -i\\mathbf{H} |{\\psi(t)}\\rangle\n",
        "    \\qquad (8)\n",
        "$$\n",
        "where\n",
        "$$\n",
        "    |{\\psi(t)}\\rangle \\propto \\begin{pmatrix}\n",
        "\\dot{\\vec{y}}(t)\\\\\n",
        "i\\mathbf{B^\\dagger}\\vec{y}(t)\n",
        "\\end{pmatrix}\n",
        "\\qquad (9)\n",
        "$$\n",
        "is an appropriate solution to equation $(8)$"
      ]
    },
    {
      "cell_type": "markdown",
      "metadata": {
        "id": "Sf3xGkEyeiOw"
      },
      "source": [
        "Here $\\mathbf{A}$ is positive-semi definite and Hermitian by definition, Cholesky decomposition cannot be used to find $\\mathbf{B}$ always since it requires $A$ to be positive definite. A method to find $\\mathbf{B}$ is given by the paper\n",
        "$$\n",
        "    \\sqrt{\\mathbf{M}}\\mathbf{B}|{j,k}\\rangle=\n",
        "    \\begin{cases}\n",
        "        \\sqrt{\\kappa_{jj}} & \\text{if } j = k\\\\\n",
        "        \\sqrt{\\kappa_{jk}}\\left(|{j}\\rangle-|{k}\\rangle \\right) & \\text{if } j < k\n",
        "    \\end{cases}\n",
        "    \\qquad (10)\n",
        "$$\n",
        "where $|{j,k}\\rangle$ is the bra-ket notation for the basis of complex space $\\mathbb{C}^{M}$ over $\\mathbb{C}$ and $j \\leq k \\in [N]$.\n",
        "___\n",
        "\n",
        "<!-- ##### A brief background on vector spaces:\n",
        "\n",
        "Here is a crucial point for the difference between basis over $\\mathbb{C}$ and basis over $\\mathbb{R}$. If basis are given over $\\mathbb{C}$, they are the complex combinations of the bases and if bases are given over $\\mathbb{R}$, they are the real combinations of the basis vectors. To illustrate, let us take the bases of $\\mathbb{C}^2$ and $\\gamma \\in \\mathbb{C}^2$.\n",
        "$$\n",
        "    \\vec{\\gamma} = a_1\\begin{pmatrix}\n",
        "            1\\\\\n",
        "            0\n",
        "            \\end{pmatrix} + a_2\\begin{pmatrix}\n",
        "            0\\\\\n",
        "            1\n",
        "            \\end{pmatrix} + a_3\\begin{pmatrix}\n",
        "            i\\\\\n",
        "            0\n",
        "            \\end{pmatrix} + a_4\\begin{pmatrix}\n",
        "            0\\\\\n",
        "            i\n",
        "            \\end{pmatrix}\n",
        "    \\qquad (11)\n",
        "$$\n",
        "(11) is the span for $\\gamma$ using bases of $\\mathbb{C}^2$ over $\\mathbb{R}$ and $a_i \\in \\mathbb{R}$.\n",
        "$$\n",
        "    \\vec{\\gamma} = c_1\\begin{pmatrix}\n",
        "            1\\\\\n",
        "            0\n",
        "            \\end{pmatrix} + c_2\\begin{pmatrix}\n",
        "            0\\\\\n",
        "            1\n",
        "            \\end{pmatrix}\n",
        "    \\qquad (12)\n",
        "$$\n",
        "(12) is the span for  $\\gamma$ using bases of $\\mathbb{C}^2$ over $\\mathbb{C}$ and $c_i \\in \\mathbb{C}$. -->\n"
      ]
    },
    {
      "cell_type": "markdown",
      "metadata": {
        "id": "giBShtv4f1Mq"
      },
      "source": [
        "<!-- Another crucial point is bra-ket notation. Bra-ket notation is just a different way of representing vectors introduced by Paul Dirac. Indeed, they are different from vectors and useful especially for quantum mechanics and computation with quantum operators and states. However, we can illustrate them as vectors for our case. Ordering them as increasing, they represent the unit vectors in turn. For the above example, bases can be illustrated as\n",
        "\\begin{align}\n",
        "    |{1}\\rangle &= \\begin{pmatrix}\n",
        "            1\\\\\n",
        "            0\n",
        "            \\end{pmatrix} \\qquad (13)\\\\\n",
        "    |{2}\\rangle &= \\begin{pmatrix}\n",
        "        0\\\\\n",
        "        1\n",
        "        \\end{pmatrix} \\qquad (14)\n",
        "\\end{align} -->"
      ]
    },
    {
      "cell_type": "markdown",
      "metadata": {
        "id": "_iXJb7fstUSv"
      },
      "source": [
        "###  The Simplest Possible Case: 2-Coupled Classical Oscillators\n",
        "In this example, let exist two masses with $m_1 = 1$ and $m_2 = 1$. Also, assume spring constants are $\\kappa_{11} = \\kappa_{22} = 0$ and $\\kappa_{12} = 1$.\n",
        "\n",
        "![2oscillators.png](data:image/png;base64,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)\n",
        "\n",
        "So, matrix representations are\n",
        "$$\n",
        "    \\mathbf{M} = \\begin{pmatrix}\n",
        "            1 & 0\\\\\n",
        "            0 & 1\n",
        "            \\end{pmatrix}\n",
        "            \\qquad (11)\n",
        "            \\\n",
        "$$\n",
        "$$\n",
        "    \\mathbf{F} = \\begin{pmatrix}\n",
        "            1 & -1\\\\\n",
        "            -1 & 1\n",
        "            \\end{pmatrix}\n",
        "            \\qquad (12)\n",
        "$$\n",
        "and $\\mathbf{A}$ is\n",
        "\\begin{align}\n",
        "    \\mathbf{A} &= \\sqrt{\\mathbf{M}}^{-1}\\mathbf{F}\\sqrt{\\mathbf{M}}^{-1}\n",
        "    \\qquad  (13)\\\\\n",
        "    &=  \\begin{pmatrix}\n",
        "            1 & 0\\\\\n",
        "            0 & 1\n",
        "            \\end{pmatrix} \\begin{pmatrix}\n",
        "            1 & -1\\\\\n",
        "            -1 & 1\n",
        "            \\end{pmatrix} \\begin{pmatrix}\n",
        "            1 & 0\\\\\n",
        "            0 & 1\n",
        "            \\end{pmatrix} \\\\\n",
        "    \\mathbf{A} &= \\begin{pmatrix}\n",
        "            1 & -1\\\\\n",
        "            -1 & 1\n",
        "            \\end{pmatrix} = \\mathbf{F}  \\qquad (14)\n",
        "\\end{align}\n"
      ]
    },
    {
      "cell_type": "markdown",
      "metadata": {
        "id": "D40oKnfNhnI5"
      },
      "source": [
        "In order to create $\\mathbf{B}$, use (10).\n",
        "\n",
        "For $k=j=1$:\n",
        "$$\n",
        "\\sqrt{\\mathbf{M}}\\mathbf{B}|{1,1}\\rangle = \\sqrt{\\kappa_{11}}|{1}\\rangle\n",
        "\n",
        "$$\n",
        "\n",
        "$$\n",
        "\\mathbf{B}|{1,1}\\rangle = \\begin{pmatrix}\n",
        "    0 \\\\\n",
        "    0\n",
        "\\end{pmatrix} \n",
        "$$\n",
        "\n",
        "$$\n",
        "\\mathbf{B}\\begin{pmatrix}\n",
        "    1 \\\\\n",
        "    0 \\\\\n",
        "    0\n",
        "\\end{pmatrix} = \\begin{pmatrix}\n",
        "    0 \\\\\n",
        "    0\n",
        "\\end{pmatrix} \\qquad (15)\n",
        "$$"
      ]
    },
    {
      "cell_type": "markdown",
      "metadata": {
        "id": "M17hkoHLjkpT"
      },
      "source": [
        "For $k=1$ and $j=2$:\n",
        "$$\n",
        "\\sqrt{\\mathbf{M}}\\mathbf{B}|{1,2}\\rangle = \\sqrt{\\kappa_{12}}\\left( |{1}\\rangle - |{2} \\rangle \\right) \n",
        "$$\n",
        "\n",
        "$$\n",
        "\\mathbf{B}|{1,2}\\rangle = \\left( |{1}\\rangle - |{2} \\rangle \\right) \n",
        "$$\n",
        "\n",
        "$$\n",
        "\\mathbf{B} \\begin{pmatrix}\n",
        "    0 \\\\\n",
        "    1 \\\\\n",
        "    0\n",
        "\\end{pmatrix} = \\begin{pmatrix}\n",
        "    1 \\\\\n",
        "    0\n",
        "\\end{pmatrix} - \\begin{pmatrix}\n",
        "    0 \\\\\n",
        "    1\n",
        "\\end{pmatrix} \n",
        "$$\n",
        "\n",
        "$$\n",
        "\\mathbf{B} \\begin{pmatrix}\n",
        "    0 \\\\\n",
        "    1 \\\\\n",
        "    0\n",
        "\\end{pmatrix} = \\begin{pmatrix}\n",
        "    1 \\\\\n",
        "    -1\n",
        "\\end{pmatrix} \\qquad (16)\n",
        "$$"
      ]
    },
    {
      "cell_type": "markdown",
      "metadata": {
        "id": "5FM5Q2pOkn-C"
      },
      "source": [
        "For $k=j=2$:\n",
        "$$\n",
        "\\sqrt{\\mathbf{M}}\\mathbf{B}|{2,2}\\rangle = \\sqrt{\\kappa_{22}}|{2} \\rangle \n",
        "$$\n",
        "\n",
        "$$\n",
        "\\mathbf{B}|{2,2}\\rangle = \\begin{pmatrix}\n",
        "    0 \\\\\n",
        "    0\n",
        "\\end{pmatrix} \n",
        "$$\n",
        "\n",
        "$$\n",
        "\\mathbf{B} \\begin{pmatrix}\n",
        "    0 \\\\\n",
        "    0 \\\\\n",
        "    1\n",
        "\\end{pmatrix} = \\begin{pmatrix}\n",
        "    0 \\\\\n",
        "    0\n",
        "\\end{pmatrix} \\qquad (17)\n",
        "$$\n",
        "Combining $(15), (16), (17)$\n",
        "$$\n",
        "\\mathbf{B}\\begin{pmatrix}\n",
        "    1 & 0 & 0 \\\\\n",
        "    0 & 1 & 0 \\\\\n",
        "    0 & 0 & 1\n",
        "\\end{pmatrix} = \\begin{pmatrix}\n",
        "    0 & 1 & 0 \\\\\n",
        "    0 & -1 & 0\n",
        "\\end{pmatrix} \n",
        "$$\n",
        "\n",
        "$$\n",
        "\\mathbf{B} = \\begin{pmatrix}\n",
        "    0 & 1 & 0 \\\\\n",
        "    0 & -1 & 0\n",
        "\\end{pmatrix} \\qquad (18)\n",
        "$$"
      ]
    },
    {
      "cell_type": "markdown",
      "metadata": {
        "id": "g-rz6LRGl-hc"
      },
      "source": [
        "Lastly, show that $\\mathbf{B}\\mathbf{B}^\\dagger = \\mathbf{A}$\n",
        "$$\n",
        "\\begin{pmatrix}\n",
        "    0 & 1 & 0 \\\\\n",
        "    0 & -1 & 0\n",
        "\\end{pmatrix} \\begin{pmatrix}\n",
        "    0 & 0 \\\\\n",
        "    1 & -1 \\\\\n",
        "    0 & 0\n",
        "\\end{pmatrix} = \\begin{pmatrix}\n",
        "    1 & -1 \\\\\n",
        "    -1 & 1\n",
        "\\end{pmatrix} \\qquad (19)\n",
        "$$\n",
        "That ends the constitution of $\\mathbf{B}$ for this example.\n",
        "\n",
        "Following equation $(7)$ the Hamiltonian ($H$) for this case becomes\n",
        "$$\n",
        "\\mathbf{H} = \\begin{pmatrix}\n",
        "    0 & 0 & 0 & 0 & 0 & 1 & 0 & 0 \\\\\n",
        "    0 & 0 & 0 & 0 & 0 & -1 & 0 & 0 \\\\\n",
        "    0 & 0 & 0 & 0 & 0 & 0 & 0 & 0 \\\\\n",
        "    0 & 0 & 0 & 0 & 0 & 0 & 0 & 0 \\\\\n",
        "    0 & 0 & 0 & 0 & 0 & 0 & 0 & 0 \\\\\n",
        "    1 & -1 & 0 & 0 & 0 & 0 & 0 & 0 \\\\\n",
        "    0 & 0 & 0 & 0 & 0 & 0 & 0 & 0 \\\\\n",
        "    0 & 0 & 0 & 0 & 0 & 0 & 0 & 0 \\\\\n",
        "\\end{pmatrix} \\qquad (20)\n",
        "$$\n",
        "\n",
        "___"
      ]
    },
    {
      "cell_type": "markdown",
      "metadata": {},
      "source": [
        "We use the following methodology (for the simplest case atleast) to obtain $B$ from $A$.\n",
        "\n",
        "For the square matrix $A$ we have the eigen value decomposition as follows: \n",
        "\n",
        "$$\n",
        "A = V \\Lambda V^T\n",
        "$$\n",
        "\n",
        "where:\n",
        "    \\item $V$ is the matrix of eigenvectors of $A$.\n",
        "    \\item $\\Lambda$ is the diagonal matrix of eigenvalues of $A$.\n",
        "\n",
        "\n",
        "Next, we construct the diagonal matrix $\\sqrt{\\Lambda}$ containing the square roots of the eigenvalues:\n",
        "\n",
        "$$\n",
        "\\sqrt{\\Lambda} = \\text{diag}(\\sqrt{\\lambda_1}, \\sqrt{\\lambda_2}, \\ldots, \\sqrt{\\lambda_n})\n",
        "$$\n",
        "\n",
        "We then define the matrix $B$ as follows:\n",
        "\n",
        "$$B = V \\sqrt{\\Lambda}$$\n",
        "\n",
        "\n",
        "Its easy to verify that $A$ can be reconstructed from $B$ as $ A= BB^T$\n",
        "\n",
        "___\n"
      ]
    },
    {
      "cell_type": "markdown",
      "metadata": {},
      "source": [
        "### Simulating the simplest Possible case:"
      ]
    },
    {
      "cell_type": "code",
      "execution_count": 70,
      "metadata": {
        "id": "65kFztoltUSw"
      },
      "outputs": [],
      "source": [
        "from typing import cast\n",
        "from classiq import *\n",
        "from classiq.execution import ExecutionPreferences\n",
        "import numpy as np\n",
        "import matplotlib.pyplot as plt\n",
        "from classiq.execution import ClassiqBackendPreferences\n",
        "# from qiskit.quantum_info import SparsePauliOp\n"
      ]
    },
    {
      "cell_type": "markdown",
      "metadata": {},
      "source": [
        "#### Pre-Processing before quantum evolution:"
      ]
    },
    {
      "cell_type": "code",
      "execution_count": 71,
      "metadata": {
        "id": "S8k-cltitUSy",
        "outputId": "1645508a-5903-4295-e45d-1ae9bd28d5bc"
      },
      "outputs": [
        {
          "name": "stdout",
          "output_type": "stream",
          "text": [
            "Decomposition works\n",
            "Padded B matrix: [[ 0. -1.  0.  0.]\n",
            " [ 0.  1.  0.  0.]\n",
            " [ 0.  0.  0.  0.]\n",
            " [ 0.  0.  0.  0.]]\n",
            "Hamiltonian formed: [[-0. -0. -0. -0. -0.  1. -0. -0.]\n",
            " [-0. -0. -0. -0. -0. -1. -0. -0.]\n",
            " [-0. -0. -0. -0. -0. -0. -0. -0.]\n",
            " [-0. -0. -0. -0. -0. -0. -0. -0.]\n",
            " [-0. -0. -0. -0. -0. -0. -0. -0.]\n",
            " [ 1. -1. -0. -0. -0. -0. -0. -0.]\n",
            " [-0. -0. -0. -0. -0. -0. -0. -0.]\n",
            " [-0. -0. -0. -0. -0. -0. -0. -0.]]\n",
            "The padded initial state: [[ 0.+0.j]\n",
            " [ 0.+0.j]\n",
            " [ 0.+0.j]\n",
            " [ 0.+0.j]\n",
            " [ 0.+0.j]\n",
            " [-0.-1.j]\n",
            " [ 0.+0.j]\n",
            " [ 0.+0.j]]\n",
            "The complex entries start from index: 4\n"
          ]
        }
      ],
      "source": [
        "### Providing all inputs for 2 coupled SHO case and performing all the initial transformations\n",
        "\n",
        "N=2\n",
        "m= int(N*N)  # this is the value of M required for constructing B and y \n",
        "\n",
        "#masses\n",
        "M_1= 1\n",
        "M_2= 1\n",
        "\n",
        "#spring constants\n",
        "k_11=0\n",
        "k_22=0\n",
        "k_12=1\n",
        "\n",
        "#initial conditions\n",
        "initial_positions = np.array([[1], [0]])\n",
        "initial_velocities= np.array([[0], [0]])\n",
        "\n",
        "# Force matrix\n",
        "\n",
        "F= np.array([[k_11+k_12, -k_12], [-k_12, k_12+k_22]])\n",
        "\n",
        "# Mass matrix\n",
        "\n",
        "M= np.array([[M_1, 0], [0, M_2]])\n",
        "rootM= np.sqrt(M)\n",
        "rootM_inverse= np.linalg.inv(rootM) # inverse of the square root M matrix\n",
        "\n",
        "# Computing the matrix A\n",
        "A = np.linalg.multi_dot([rootM_inverse, F, rootM_inverse])\n",
        "#print(A)\n",
        "\n",
        "# Transform coordinates\n",
        "\n",
        "y_initial= np.matmul(rootM, initial_positions)\n",
        "ydot_initial= np.matmul(rootM, initial_velocities)\n",
        "\n",
        "# Perform eigen value decomposition to get the matrix B\n",
        "\n",
        "# Eigenvalue decomposition of matrix A (A= V Λ V^{T})\n",
        "eigenvalues, eigenvectors = np.linalg.eigh(A)\n",
        "\n",
        "# Construct the diagonal matrix of square roots of eigenvalues (square root of lambda matrix)\n",
        "Lambda_sqrt = np.diag(np.sqrt(eigenvalues))\n",
        "\n",
        "# Compute B\n",
        "B = np.dot(eigenvectors, Lambda_sqrt)  # we define B this way, to ensure A = BB^T\n",
        "\n",
        "# Verify A = BB^T\n",
        "A_reconstructed = np.dot(B, B.T)\n",
        "\n",
        "if np.array_equal(A_reconstructed, A):\n",
        "    print(\"Decomposition works\")\n",
        "else:\n",
        "    print(\"A is not BB^T\")\n",
        "\n",
        "\n",
        "# Stacking L with zeroes to get B to be of the order of N*((N(N+1)/2))\n",
        "padded_B = np.zeros((m, m))\n",
        "padded_B[:2, :2] = B\n",
        "\n",
        "H = -np.block([[np.zeros((padded_B.shape[0], padded_B.shape[0])), padded_B], [padded_B.conj().T, np.zeros((padded_B.shape[1], padded_B.shape[1]))]])\n",
        "\n",
        "print('Padded B matrix:', padded_B)\n",
        "print('Hamiltonian formed:', H)\n",
        "\n",
        "# B transpose matrix, useful for initial state amplitudes and padding the initial y vector (for multiplying it with B dagger)\n",
        "\n",
        "padded_y_vector = np.pad(y_initial, ((0, m-N), (0, 0)), mode='constant', constant_values=0)\n",
        "B_transpose= np.transpose(padded_B)\n",
        "\n",
        "\n",
        "t_y= np.matmul(B_transpose, padded_y_vector)\n",
        "lower_init_amp= complex(0,1) * np.matmul(B_transpose, padded_y_vector)\n",
        "padded_ydotvector = np.pad(ydot_initial, ((0, m-N), (0, 0)), mode='constant', constant_values=0)\n",
        "\n",
        "\n",
        "# Initial state for distribution (eq 15in the paper)\n",
        "init_state = np.vstack((padded_ydotvector, lower_init_amp.reshape(-1, 1)))\n",
        "\n",
        "\n",
        "print(\"The padded initial state:\", init_state)\n",
        "\n",
        "complex_index_start=  len(init_state) - len(padded_ydotvector)\n",
        "print(\"The complex entries start from index:\", complex_index_start)   #to track the index from where the entries of the state in equation 9 are complex\n",
        "\n",
        "\n",
        "# def processed_initstae(init_state):\n",
        "\n",
        "#     # Store the real part or the imaginary coefficient\n",
        "#     real_or_imag_coeff = np.zeros(init_state.shape, dtype=init_state.real.dtype)\n",
        "\n",
        "#     # Iterating through the array to extract the appropriate parts (for real_or_imag_coeff)\n",
        "#     for i, val in enumerate(init_state):\n",
        "#         if np.isreal(val):\n",
        "#             real_or_imag_coeff[i] = val.real\n",
        "#         else:\n",
        "#             real_or_imag_coeff[i] = val.imag\n",
        "\n",
        "#     # Geting the indices of purely imaginary elements (this is the place where we add a global phase 'i' to the initial state)\n",
        "#     purely_imag_indices = np.where(np.iscomplex(init_state) & (init_state.real == 0))[0]\n",
        "\n",
        "#     return real_or_imag_coeff, purely_imag_indices\n",
        "\n",
        "\n",
        "# amplitudes_init, imag_indices = processed_initstae(init_state)\n",
        "# print(\"Real part or imaginary coefficients:\", amplitudes_init)\n",
        "# print(\"Indices of purely imaginary numbers:\", imag_indices)\n",
        "\n"
      ]
    },
    {
      "cell_type": "markdown",
      "metadata": {},
      "source": [
        "#### Finding the Pauli decomposition of the Hamiltonian formed above:"
      ]
    },
    {
      "cell_type": "code",
      "execution_count": 72,
      "metadata": {
        "id": "kWzHoKQMtUS0",
        "outputId": "27a2f620-5ecd-448b-bea5-93345d39791c"
      },
      "outputs": [
        {
          "name": "stdout",
          "output_type": "stream",
          "text": [
            "The Pauli decomposition of the Hamiltonian: [('XII', (-0.25+0j)), ('XIZ', (0.25+0j)), ('XIX', (0.25+0j)), ('XZI', (-0.25+0j)), ('XZZ', (0.25+0j)), ('XZX', (0.25+0j)), ('YIY', (-0.25+0j)), ('YZY', (-0.25+0j))]\n"
          ]
        }
      ],
      "source": [
        "from itertools import product\n",
        "\n",
        "from numpy import kron\n",
        "\n",
        "Paulidict = {\n",
        "    \"I\": np.array([[1, 0], [0, 1]], dtype=np.complex128),\n",
        "    \"Z\": np.array([[1, 0], [0, -1]], dtype=np.complex128),\n",
        "    \"X\": np.array([[0, 1], [1, 0]], dtype=np.complex128),\n",
        "    \"Y\": np.array([[0, -1j], [1j, 0]], dtype=np.complex128),\n",
        "}\n",
        "\n",
        "\n",
        "# generate all combinations of Pauli strings of size n\n",
        "def generate_all_pauli_strings(seq, n):\n",
        "    for s in product(seq, repeat=n):\n",
        "        yield \"\".join(s)\n",
        "\n",
        "\n",
        "# convert a Paulistring of size n to 2**n X 2**n matrix\n",
        "def pauli_string_2mat(seq):\n",
        "    myPmat = Paulidict[seq[0]]\n",
        "    for p in seq[1:]:\n",
        "        myPmat = kron(myPmat, Paulidict[p])\n",
        "    return myPmat\n",
        "\n",
        "\n",
        "# Hilbert-Schmidt-Product of two matrices M1, M2\n",
        "def hilbert_schmidt(M1, M2):\n",
        "    return (np.dot(M1.conjugate().transpose(), M2)).trace()\n",
        "\n",
        "# Naive decomposition, running over all HS products for all Pauli strings\n",
        "def lcu_naive(H):\n",
        "    assert H.shape[0] == H.shape[1], \"matrix is not square\"\n",
        "    assert H.shape[0] != 0, \"matrix is of size 0\"\n",
        "    assert H.shape[0] & (H.shape[0] - 1) == 0, \"matrix size is not 2**n\"\n",
        "\n",
        "    n = int(np.log2(H.shape[0]))\n",
        "    myPualiList = list(generate_all_pauli_strings(\"IZXY\", n))\n",
        "\n",
        "    mylist = []\n",
        "\n",
        "    for pstr in myPualiList:\n",
        "        co = (1 / 2**n) * hilbert_schmidt(pauli_string_2mat(pstr), H)\n",
        "        if co != 0:\n",
        "            mylist = mylist + [(pstr, co)]\n",
        "\n",
        "    return mylist\n",
        "\n",
        "\n",
        "pauli_list= lcu_naive(H)\n",
        "print(\"The Pauli decomposition of the Hamiltonian:\", pauli_list)\n"
      ]
    },
    {
      "cell_type": "code",
      "execution_count": 73,
      "metadata": {},
      "outputs": [
        {
          "data": {
            "text/latex": [
              "Quantum object: dims=[[2, 2, 2], [2, 2, 2]], shape=(8, 8), type='oper', dtype=CSR, isherm=True$$\\left(\\begin{array}{cc}0 & 0 & 0 & 0 & 0 & 1 & 0 & 0\\\\0 & 0 & 0 & 0 & 0 & -1 & 0 & 0\\\\0 & 0 & 0 & 0 & 0 & 0 & 0 & 0\\\\0 & 0 & 0 & 0 & 0 & 0 & 0 & 0\\\\0 & 0 & 0 & 0 & 0 & 0 & 0 & 0\\\\1 & -1 & 0 & 0 & 0 & 0 & 0 & 0\\\\0 & 0 & 0 & 0 & 0 & 0 & 0 & 0\\\\0 & 0 & 0 & 0 & 0 & 0 & 0 & 0\\end{array}\\right)$$"
            ],
            "text/plain": [
              "Quantum object: dims=[[2, 2, 2], [2, 2, 2]], shape=(8, 8), type='oper', dtype=CSR, isherm=True\n",
              "Qobj data =\n",
              "[[ 0.  0.  0.  0.  0.  1.  0.  0.]\n",
              " [ 0.  0.  0.  0.  0. -1.  0.  0.]\n",
              " [ 0.  0.  0.  0.  0.  0.  0.  0.]\n",
              " [ 0.  0.  0.  0.  0.  0.  0.  0.]\n",
              " [ 0.  0.  0.  0.  0.  0.  0.  0.]\n",
              " [ 1. -1.  0.  0.  0.  0.  0.  0.]\n",
              " [ 0.  0.  0.  0.  0.  0.  0.  0.]\n",
              " [ 0.  0.  0.  0.  0.  0.  0.  0.]]"
            ]
          },
          "execution_count": 73,
          "metadata": {},
          "output_type": "execute_result"
        }
      ],
      "source": [
        "# check if the decomposition is correct and matches the Hamiltonian \n",
        "\n",
        "import qutip as qt\n",
        "from qutip import qeye, sigmax, sigmay, sigmaz\n",
        "\n",
        "test = -0.25 * qt.tensor(sigmax(), qeye(2), qeye(2)) \\\n",
        "    + 0.25 * qt.tensor(sigmax(), qeye(2), sigmaz()) \\\n",
        "    + 0.25 * qt.tensor(sigmax(), qeye(2), sigmax()) \\\n",
        "    - 0.25 * qt.tensor(sigmax(), sigmaz(), qeye(2)) \\\n",
        "    + 0.25 * qt.tensor(sigmax(), sigmaz(), sigmaz()) \\\n",
        "    + 0.25 * qt.tensor(sigmax(), sigmaz(), sigmax()) \\\n",
        "    - 0.25 * qt.tensor(sigmay(), qeye(2), sigmay()) \\\n",
        "    - 0.25 * qt.tensor(sigmay(), sigmaz(), sigmay())\n",
        "\n",
        "test"
      ]
    },
    {
      "cell_type": "markdown",
      "metadata": {},
      "source": [
        "Thus as we see, the decomposition is exact."
      ]
    },
    {
      "cell_type": "code",
      "execution_count": 74,
      "metadata": {
        "id": "4Z-zwHSItUS1"
      },
      "outputs": [
        {
          "data": {
            "text/plain": [
              "[PauliTerm(pauli=[<Pauli.X: 1>, <Pauli.I: 0>, <Pauli.I: 0>], coefficient=-0.25),\n",
              " PauliTerm(pauli=[<Pauli.X: 1>, <Pauli.I: 0>, <Pauli.Z: 3>], coefficient=0.25),\n",
              " PauliTerm(pauli=[<Pauli.X: 1>, <Pauli.I: 0>, <Pauli.X: 1>], coefficient=0.25),\n",
              " PauliTerm(pauli=[<Pauli.X: 1>, <Pauli.Z: 3>, <Pauli.I: 0>], coefficient=-0.25),\n",
              " PauliTerm(pauli=[<Pauli.X: 1>, <Pauli.Z: 3>, <Pauli.Z: 3>], coefficient=0.25),\n",
              " PauliTerm(pauli=[<Pauli.X: 1>, <Pauli.Z: 3>, <Pauli.X: 1>], coefficient=0.25),\n",
              " PauliTerm(pauli=[<Pauli.Y: 2>, <Pauli.I: 0>, <Pauli.Y: 2>], coefficient=-0.25),\n",
              " PauliTerm(pauli=[<Pauli.Y: 2>, <Pauli.Z: 3>, <Pauli.Y: 2>], coefficient=-0.25)]"
            ]
          },
          "execution_count": 74,
          "metadata": {},
          "output_type": "execute_result"
        }
      ],
      "source": [
        "# converting the hamitonian formed above to a PauliTerm object, useful for simulation using classiq built-in functions\n",
        "\n",
        "CHAR_TO_STUCT_DICT = {\"I\": Pauli.I, \"X\": Pauli.X, \"Y\": Pauli.Y, \"Z\": Pauli.Z}\n",
        "\n",
        "def pauli_str_to_enums(pauli):\n",
        "    return [CHAR_TO_STUCT_DICT[s] for s in pauli]\n",
        "\n",
        "def pauli_list_to_hamiltonian(pauli_list):\n",
        "    return [\n",
        "        PauliTerm(\n",
        "            pauli=pauli_str_to_enums(pauli), coefficient=cast(complex, coeff).real\n",
        "        )\n",
        "        for pauli, coeff in pauli_list\n",
        "    ]\n",
        "\n",
        "Paulis= pauli_list_to_hamiltonian(pauli_list)\n",
        "Paulis\n"
      ]
    },
    {
      "cell_type": "markdown",
      "metadata": {},
      "source": [
        "### Hamiltonian simulation\n",
        "\n",
        "We use the `exponentiation_with_depth_constraint` function of classiq that produces a quantum gate that approximates $e^{iHt}$, for any input **Hermitian operator** $H$ . The Classiq engine automatically generates an efficient higher-order Trotter-Suzuki quantum program that minimizes the functional error and satisfies a given local constraint on the depth. "
      ]
    },
    {
      "cell_type": "code",
      "execution_count": 75,
      "metadata": {},
      "outputs": [],
      "source": [
        "@qfunc\n",
        "def p(x: QNum):\n",
        "    a = QArray(\"a\")\n",
        "    b = QArray(\"b\", QBit)\n",
        "    size = np.log2(init_state.size)\n",
        "    allocate(size, b)\n",
        "    bind(x, a)\n",
        "    repeat(a.len, lambda i: CX(a[i], b[i]))\n",
        "    control(b[size-1], lambda: PHASE(np.pi/2, a[size-1]))\n",
        "    bind(a, x)\n",
        "\n",
        "\n",
        "@qfunc\n",
        "def main( state: Output[QNum] ):\n",
        "    prepare_amplitudes(amplitudes=[0,0,0,0,0,-1,0,0], out=state, bound=0.01)\n",
        "    p(state)\n",
        "    exponentiation_with_depth_constraint(\n",
        "        pauli_list_to_hamiltonian(pauli_list),\n",
        "        evolution_coefficient=10,\n",
        "        max_depth=1000,\n",
        "        qbv=state,\n",
        "        )\n",
        "\n",
        "qmod = create_model(main)\n",
        "backend_preferences = ClassiqBackendPreferences(backend_name=\"simulator_statevector\")\n",
        "model_pref = set_execution_preferences(qmod, ExecutionPreferences(num_shots=4000, backend_preferences=backend_preferences))\n",
        "qprog = synthesize(model_pref)\n",
        "# show(qprog)"
      ]
    },
    {
      "cell_type": "code",
      "execution_count": 76,
      "metadata": {},
      "outputs": [
        {
          "data": {
            "text/plain": [
              "[{'state': 0.0}: 2117,\n",
              " {'state': 1.0}: 1854,\n",
              " {'state': 4.0}: 27,\n",
              " {'state': 5.0}: 2]"
            ]
          },
          "execution_count": 76,
          "metadata": {},
          "output_type": "execute_result"
        }
      ],
      "source": [
        "job = execute(qprog)\n",
        "results = job.result()[0].value.parsed_counts\n",
        "results"
      ]
    },
    {
      "cell_type": "code",
      "execution_count": 77,
      "metadata": {},
      "outputs": [],
      "source": [
        "parsed_state_vector = job.result()[0].value.parsed_state_vector  # to get the phases"
      ]
    },
    {
      "cell_type": "code",
      "execution_count": 78,
      "metadata": {},
      "outputs": [
        {
          "data": {
            "text/plain": [
              "{0: (-0.7233484896790481+3.194591281519054e-14j),\n",
              " 1: (0.6856932010226329-3.2678522598674045e-14j),\n",
              " 2: (8.419661565452429e-17-8.590239527398075e-17j),\n",
              " 3: (4.3084587395258015e-17-3.822954053344042e-17j),\n",
              " 4: (-3.0542457904123438e-15-0.08018785336621624j),\n",
              " 5: (-6.636882278804943e-16-0.012716317190433191j),\n",
              " 6: (2.2473199243708516e-17+1.5265956087950914e-16j),\n",
              " 7: (5.328962625760864e-17+6.260388717985892e-17j)}"
            ]
          },
          "execution_count": 78,
          "metadata": {},
          "output_type": "execute_result"
        }
      ],
      "source": [
        "# to add all amplitudes corresponding to a state and store it in a dictionary \n",
        "\n",
        "def sum_amplitudes_by_state(simulated_states):\n",
        "    state_amplitude_sums = {state: 0 for state in range(8)}\n",
        "    \n",
        "    for sim_state in simulated_states:\n",
        "        state_value = sim_state.state['state']\n",
        "        if state_value in state_amplitude_sums:\n",
        "            state_amplitude_sums[state_value] += sim_state.amplitude\n",
        "    \n",
        "    return state_amplitude_sums\n",
        "\n",
        "d= sum_amplitudes_by_state(job.result()[0].value.parsed_state_vector)\n",
        "\n",
        "d"
      ]
    },
    {
      "cell_type": "code",
      "execution_count": 79,
      "metadata": {},
      "outputs": [
        {
          "data": {
            "text/plain": [
              "array([ 7.23348490e-01-5.54335104e-17j, -6.85693201e-01+2.44816317e-15j,\n",
              "       -8.41966157e-17+8.59023953e-17j, -4.30845874e-17+3.82295405e-17j,\n",
              "       -4.81019873e-16+8.01878534e-02j,  1.03060182e-16+1.27163172e-02j,\n",
              "       -2.24731992e-17-1.52659561e-16j, -5.32896263e-17-6.26038872e-17j])"
            ]
          },
          "execution_count": 79,
          "metadata": {},
          "output_type": "execute_result"
        }
      ],
      "source": [
        "#Normalizing the final state and taking care of any global phases\n",
        "\n",
        "values = np.array([d[i] for i in range(len(d))])\n",
        "global_phase = np.angle(values)[0]\n",
        "values = values / np.exp(1j * global_phase)\n",
        "values\n",
        "\n",
        "normalization = np.linalg.norm(\n",
        "        [\n",
        "            parsed_state.amplitude\n",
        "            for parsed_state in parsed_state_vector\n",
        "        ]\n",
        "    )\n",
        "\n",
        "\n",
        "Final_state = values / normalization\n",
        "\n",
        "Final_state"
      ]
    },
    {
      "cell_type": "code",
      "execution_count": 80,
      "metadata": {},
      "outputs": [
        {
          "data": {
            "text/plain": [
              "array([ 0.72334849+0.j        , -0.6856932 +0.j        ,\n",
              "        0.        +0.j        ,  0.        +0.j        ,\n",
              "        0.        +0.08018785j,  0.        +0.01271632j,\n",
              "        0.        +0.j        ,  0.        +0.j        ])"
            ]
          },
          "execution_count": 80,
          "metadata": {},
          "output_type": "execute_result"
        }
      ],
      "source": [
        "## Machine Precision for Array\n",
        "epsilon = 10**(-4)\n",
        "for i, value in enumerate(Final_state):\n",
        "    imag = np.imag(value)\n",
        "    real = np.real(value)\n",
        "    \n",
        "    if abs(np.real(value)) < epsilon:\n",
        "        real = 0\n",
        "    if abs(np.imag(value)) < epsilon:\n",
        "        imag = 0\n",
        "    Final_state[i] = real + 1j*imag\n",
        "\n",
        "Final_state"
      ]
    },
    {
      "cell_type": "code",
      "execution_count": 81,
      "metadata": {},
      "outputs": [
        {
          "data": {
            "text/plain": [
              "array([[ 0.72334849+0.j        ],\n",
              "       [-0.6856932 +0.j        ],\n",
              "       [ 0.        +0.j        ],\n",
              "       [ 0.        +0.j        ],\n",
              "       [ 0.        +0.08018785j],\n",
              "       [ 0.        +0.01271632j],\n",
              "       [ 0.        +0.j        ],\n",
              "       [ 0.        +0.j        ]])"
            ]
          },
          "execution_count": 81,
          "metadata": {},
          "output_type": "execute_result"
        }
      ],
      "source": [
        "## row vector to column vector\n",
        "final_state_adjusted = Final_state[..., None]\n",
        "final_state_adjusted"
      ]
    },
    {
      "cell_type": "markdown",
      "metadata": {},
      "source": [
        "Compare the Result to check Hamiltonian Evolution"
      ]
    },
    {
      "cell_type": "code",
      "execution_count": 82,
      "metadata": {},
      "outputs": [
        {
          "data": {
            "text/latex": [
              "Quantum object: dims=[[8], [1]], shape=(8, 1), type='ket', dtype=Dense$$\\left(\\begin{array}{cc}-0.707\\\\0.707\\\\0\\\\0\\\\0\\\\0.005j\\\\0\\\\0\\end{array}\\right)$$"
            ],
            "text/plain": [
              "Quantum object: dims=[[8], [1]], shape=(8, 1), type='ket', dtype=Dense\n",
              "Qobj data =\n",
              "[[-0.70709802+0.j        ]\n",
              " [ 0.70709802+0.j        ]\n",
              " [ 0.        +0.j        ]\n",
              " [ 0.        +0.j        ]\n",
              " [ 0.        +0.j        ]\n",
              " [ 0.        +0.00497893j]\n",
              " [ 0.        +0.j        ]\n",
              " [ 0.        +0.j        ]]"
            ]
          },
          "execution_count": 82,
          "metadata": {},
          "output_type": "execute_result"
        }
      ],
      "source": [
        "import qutip as qt\n",
        "Hqut = qt.Qobj(H)\n",
        "fir = qt.Qobj(np.array([[0],[0],[0],[0],[0],[-1j],[0],[0]]))\n",
        "tlist = np.linspace(0,10,100)\n",
        "results1 = qt.mesolve(Hqut,fir, tlist,[],[])\n",
        "results1.states[-1]"
      ]
    },
    {
      "cell_type": "code",
      "execution_count": 83,
      "metadata": {},
      "outputs": [
        {
          "data": {
            "text/plain": [
              "array([[ 0.72334849+0.j],\n",
              "       [-0.6856932 +0.j]])"
            ]
          },
          "execution_count": 83,
          "metadata": {},
          "output_type": "execute_result"
        }
      ],
      "source": [
        "## Get the velocity vector\n",
        "final_vels = final_state_adjusted[:2]\n",
        "final_vels"
      ]
    },
    {
      "cell_type": "code",
      "execution_count": 84,
      "metadata": {},
      "outputs": [
        {
          "name": "stdout",
          "output_type": "stream",
          "text": [
            "[[0.+0.08018785j]\n",
            " [0.+0.01271632j]\n",
            " [0.+0.j        ]\n",
            " [0.+0.j        ]]\n"
          ]
        },
        {
          "name": "stderr",
          "output_type": "stream",
          "text": [
            "C:\\Users\\Kerem\\AppData\\Local\\Temp\\ipykernel_14700\\1436716963.py:4: FutureWarning: `rcond` parameter will change to the default of machine precision times ``max(M, N)`` where M and N are the input matrix dimensions.\n",
            "To use the future default and silence this warning we advise to pass `rcond=None`, to keep using the old, explicitly pass `rcond=-1`.\n",
            "  final_pos = np.linalg.lstsq(B_transpose,-1j*last_half)[0]\n"
          ]
        },
        {
          "data": {
            "text/plain": [
              "array([[-0.00635816+0.j],\n",
              "       [ 0.00635816+0.j],\n",
              "       [ 0.        +0.j],\n",
              "       [ 0.        +0.j]])"
            ]
          },
          "execution_count": 84,
          "metadata": {},
          "output_type": "execute_result"
        }
      ],
      "source": [
        "## Get the position vector by linear least square method\n",
        "last_half = final_state_adjusted[4:]\n",
        "print(last_half)\n",
        "final_pos = np.linalg.lstsq(B_transpose,-1j*last_half)[0]\n",
        "final_pos"
      ]
    },
    {
      "cell_type": "code",
      "execution_count": 85,
      "metadata": {},
      "outputs": [
        {
          "data": {
            "text/plain": [
              "array([[0.-0.08018785j],\n",
              "       [0.-0.08018785j],\n",
              "       [0.+0.j        ],\n",
              "       [0.+0.j        ]])"
            ]
          },
          "execution_count": 85,
          "metadata": {},
          "output_type": "execute_result"
        }
      ],
      "source": [
        "## Check whether the solution is correct\n",
        "np.matmul(B_transpose, last_half) - last_half"
      ]
    },
    {
      "cell_type": "code",
      "execution_count": 86,
      "metadata": {},
      "outputs": [
        {
          "data": {
            "text/plain": [
              "array([[0.-0.00635816j],\n",
              "       [0.+0.00635816j],\n",
              "       [0.+0.j        ],\n",
              "       [0.+0.j        ]])"
            ]
          },
          "execution_count": 86,
          "metadata": {},
          "output_type": "execute_result"
        }
      ],
      "source": [
        "## Get the position vector by pseudoinverse method\n",
        "B_transpose_pseudo = np.linalg.pinv(B_transpose)\n",
        "final_pos_pseudo = np.matmul(B_transpose_pseudo, last_half)\n",
        "final_pos_pseudo"
      ]
    },
    {
      "cell_type": "code",
      "execution_count": 89,
      "metadata": {},
      "outputs": [
        {
          "data": {
            "text/plain": [
              "array([[0.70710678],\n",
              "       [0.70710678],\n",
              "       [0.        ],\n",
              "       [0.        ]])"
            ]
          },
          "execution_count": 89,
          "metadata": {},
          "output_type": "execute_result"
        }
      ],
      "source": [
        "## Find all possible solutions to B.dag * x(t) = result\n",
        "# Find null space\n",
        "U, S, Vt = np.linalg.svd(B_transpose)\n",
        "rank = np.sum(S > 1e-10)\n",
        "null_space = Vt[rank:].T\n",
        "null_space_reduced = null_space[:, -1]\n",
        "null_space_reduced = null_space_reduced[..., None]\n",
        "null_space_reduced"
      ]
    },
    {
      "cell_type": "code",
      "execution_count": 91,
      "metadata": {},
      "outputs": [
        {
          "data": {
            "text/plain": [
              "array([[0.49371736+0.j],\n",
              "       [0.50643368+0.j],\n",
              "       [0.        +0.j],\n",
              "       [0.        +0.j]])"
            ]
          },
          "execution_count": 91,
          "metadata": {},
          "output_type": "execute_result"
        }
      ],
      "source": [
        "## All possible state vectors for some arbitrary k\n",
        "k = 0.5 / 0.707 #INSERT COEFFICIENT (7.8 to get exactly classical answers - not a meaningful reason)\n",
        "final_pos_combined = k * null_space_reduced + final_pos\n",
        "final_pos_combined"
      ]
    },
    {
      "cell_type": "code",
      "execution_count": 92,
      "metadata": {},
      "outputs": [
        {
          "name": "stdout",
          "output_type": "stream",
          "text": [
            "Position Vectors at t=10\n",
            "[[0.49371736+0.j]\n",
            " [0.50643368+0.j]]\n",
            "Velocity Vectors at t=10\n",
            "[[ 0.72334849+0.j]\n",
            " [-0.6856932 +0.j]]\n"
          ]
        }
      ],
      "source": [
        "## Final Results\n",
        "print(\"Position Vectors at t=10\")\n",
        "print(final_pos_combined[:2])\n",
        "print(\"Velocity Vectors at t=10\")\n",
        "print(final_vels[:2])"
      ]
    },
    {
      "cell_type": "code",
      "execution_count": 94,
      "metadata": {},
      "outputs": [
        {
          "name": "stdout",
          "output_type": "stream",
          "text": [
            "Position Vectors at t=10 classically\n",
            "[[0.498]\n",
            " [0.502]]\n",
            "Velocity Vectors at t=10 classically\n",
            "[[ 0.707]\n",
            " [-0.707]]\n"
          ]
        }
      ],
      "source": [
        "## Get the results numerically\n",
        "final_pos_class =np.array([[0.498],[0.502]])\n",
        "final_vel_class =np.array([[0.707],[-0.707]])\n",
        "\n",
        "print(\"Position Vectors at t=10 classically\")\n",
        "print(final_pos_class)\n",
        "print(\"Velocity Vectors at t=10 classically\")\n",
        "print(final_vel_class)"
      ]
    },
    {
      "cell_type": "code",
      "execution_count": 97,
      "metadata": {},
      "outputs": [
        {
          "name": "stdout",
          "output_type": "stream",
          "text": [
            "Position error %\n",
            "[[0.85996817]\n",
            " [0.88320233]]\n",
            "Velocity error %\n",
            "[[2.31237478]\n",
            " [3.01369151]]\n"
          ]
        }
      ],
      "source": [
        "## Error in results\n",
        "pos_error = np.zeros([2,1])\n",
        "vel_error = np.zeros([2,1])\n",
        "\n",
        "for i in range(2):\n",
        "    pos_error[i] = abs(final_pos_combined[i] - final_pos_class[i]) / abs(final_pos_class[i]) * 100\n",
        "    vel_error[i] = abs(final_vels[i] - final_vel_class[i]) / abs(final_vel_class[i]) * 100\n",
        "\n",
        "print(\"Position error %\")\n",
        "print(pos_error)\n",
        "print(\"Velocity error %\")\n",
        "print(vel_error)"
      ]
    }
  ],
  "metadata": {
    "colab": {
      "provenance": []
    },
    "kernelspec": {
      "display_name": "Python 3",
      "language": "python",
      "name": "python3"
    },
    "language_info": {
      "codemirror_mode": {
        "name": "ipython",
        "version": 3
      },
      "file_extension": ".py",
      "mimetype": "text/x-python",
      "name": "python",
      "nbconvert_exporter": "python",
      "pygments_lexer": "ipython3",
      "version": "3.11.5"
    }
  },
  "nbformat": 4,
  "nbformat_minor": 0
}
