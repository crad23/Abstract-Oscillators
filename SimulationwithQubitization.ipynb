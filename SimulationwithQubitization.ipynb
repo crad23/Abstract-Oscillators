{
 "cells": [
  {
   "cell_type": "markdown",
   "metadata": {},
   "source": [
    "# Qubitization methodology for simulating Coupled Classical Harmonic Oscillators using Classiq\n",
    "Authors: Viraj Dsouza, Cristina Radian, Kerem Yurtseven\n",
    "\n",
    "Date: 09.08.2024\n",
    "\n",
    "This work is designed under and for the final project of the Womanium Quantum+AI Program 2024\n",
    "\n",
    "Reference Paper: Exponential Quantum Speedup in Simulating Coupled Classical Oscillators, Babbush et.al, 2023 [1](https://arxiv.org/abs/2303.13012)\n",
    "\n",
    "We also refer the readers to [Clasiqdocs](https://github.com/Classiq/classiq-library/tree/9c43f05f3d498c8c72be7dcb3ecdaba85d9abd6e/tutorials/hamiltonian_simulation/hamiltonian_simulation_with_block_encoding) for the qubitization methodology and use this for the purpose of our work.\n",
    "___\n"
   ]
  },
  {
   "cell_type": "markdown",
   "metadata": {},
   "source": [
    " \n",
    "\n",
    "\n",
    "## Qubitization\n",
    "\n",
    "Our purpose in this notebook is to block encode the Hamiltonian evolution matrix such that:\n",
    "\\begin{equation*}\n",
    "    U = \\begin{pmatrix} \\text{exp}(iHt)/ \\lambda & * \\\\\n",
    "    * & *\n",
    "\\end{pmatrix}\n",
    "\\end{equation*}\n",
    "where $H$ is the system Hamiltonian and $\\lambda$ is the normalization factor and use that unitary matrix to create a random walk operator and simulate the behavior of the system at a given $t$.\n",
    "\\begin{equation*}\n",
    "    \\ket{\\psi(t)} = e^{-iHt} \\ket{\\psi(0)}\n",
    "\\end{equation*}\n",
    "\n",
    "In order to create a block encoding, we first imply LCU method to the system Hamiltonian to first form a block encoding of $H$.\n",
    "___"
   ]
  },
  {
   "cell_type": "markdown",
   "metadata": {},
   "source": [
    "## Linear Combination of Unitaries\n",
    "\n",
    "Assume $H$ can be written in Pauli basis as:\n",
    "\\begin{equation*}\n",
    "    H = \\sum_{i=0}^{L-1} \\alpha_i U_i\n",
    "\\end{equation*}\n",
    "\n",
    "LCU refers to $(\\bar{\\alpha}, m, 0)$-block encoding of a matrix given as a sum of unitaries:\n",
    "$$\n",
    "U_{(\\bar{\\alpha},m,0)-H} =\\begin{pmatrix}\n",
    "H/\\bar{\\alpha} & * \\\\\n",
    "* & *\n",
    "\\end{pmatrix}, \\text{   for     } H = \\sum^{L-1}_{i=0} \\alpha_i U_i, \\,\\,\\,\\,\\, \\alpha_i\\geq 0\n",
    "$$\n",
    "with $\\bar{\\alpha}\\equiv\\sum^{L-1}_{i=0}\\alpha_i$ and $m= \\lceil\\log_2(L) \\rceil$ represents the numner of block qubits. \n",
    "\n",
    "\n",
    "More details on the LCU methodology can be found in classiq's [LCU tutorial](https://github.com/Classiq/classiq-library/blob/main/tutorials/linear_combination_of_unitaries/linear_combination_of_unitaries.ipynb)\n",
    "\n",
    "We can define the normalization as $ \\lambda = \\sum |\\alpha_i|$ and find the `PREPARE` and `SELECT` functions.\n",
    "___ "
   ]
  },
  {
   "cell_type": "markdown",
   "metadata": {},
   "source": [
    "## Quantum Walk-Operator and block encoding $e^{iHt}$\n",
    "To simulate the Hamiltonian, we can use the Szegedy Quantum Walk-Operator [2](https://ieeexplore.ieee.org/abstract/document/1366222).\n",
    "\n",
    "\n",
    "\n",
    "\n",
    "Given block-encoding of the Hamiltonian $H$, we can define the Szegedy quanutm walk-operator as: \n",
    "$$\n",
    "W\\equiv -\\Pi_{|0\\rangle_m} U_{(\\bar{\\alpha},m,0)-H},\n",
    "$$  \n",
    "where $\\Pi_{|0\\rangle_m}$ is a reflection operator about the block state. The powers of $W$ correspond to a $(1,m,0)$ block encoding of the Chebyshev polynomials of the matrix $H$:\n",
    "$$\n",
    "W^k = \\begin{pmatrix}\n",
    "T_k(H) & * \\\\\n",
    "* & *\n",
    "\\end{pmatrix}=U_{(1,m,0)-T_k(H)},\n",
    "$$\n",
    "with $T_k$ being the k-th Chebyshev polynomial. Its useful to note that this property holds only for an **Hermitian block-encoding**. From the Jacobi -Anger expansion (given below) we can have an $\\epsilon$-approximation of $\\exp(iHt)\\approx \\sum^d_{i=0} \\beta_{i} T_{i}(H)$, for which we can perform the following encoding\n",
    "$$\n",
    "U_{(\\bar{\\beta},\\tilde{m},\\epsilon)-\\exp{(iHt)}} =\n",
    "\\begin{pmatrix}\n",
    "\\exp{(iHt)}/\\bar{\\beta} & * \\\\\n",
    "* & *\n",
    "\\end{pmatrix}=\n",
    "% \\begin{pmatrix}\n",
    "% \\frac{1}{\\bar{\\beta}}\\sum^d_{k=0} \\beta_{k} T_{k}(Ht) & * \\\\\n",
    "% * & *\n",
    "% \\end{pmatrix}=\n",
    "\\begin{pmatrix}\n",
    "\\frac{1}{\\bar{\\beta}}\\sum^d_{k=0} \\beta_{k} W^k & * \\\\\n",
    "* & *\n",
    "\\end{pmatrix}\n",
    "% \\begin{pmatrix}\n",
    "% \\frac{1}{\\bar{\\beta}}\\sum^d_{k=0} W^k & * \\\\\n",
    "% * & *\n",
    "% \\end{pmatrix},\n",
    "$$\n",
    "where $\\tilde{m}=m+\\lceil \\log_2(d+1) \\rceil$ \n",
    "\n",
    "We evaluate the coefficients $\\beta_{i}$ as the bessel coefficients ($J(t)$) of the Jacobi-anger expressions for sine and cosine as follows\n",
    "$$\n",
    "\\cos(Ht)= J_0(t) + 2\\sum^{d}_{k=1} (-1)^k J_{2k}(t) T_{2k}(H)\\\\\n",
    "\\sin(Ht)= 2\\sum^{d}_{k=0} (-1)^k J_{2k+1}(t) T_{2k+1}(H),\n",
    "$$\n",
    "___"
   ]
  },
  {
   "cell_type": "markdown",
   "metadata": {},
   "source": [
    "##  System Configuration\n",
    "In this example, let exist two masses with $m_1 = 1$ and $m_2 = 1$. Also, assume spring constants are $\\kappa_{11} = \\kappa_{22} = 0$ and $\\kappa_{12} = 1$. Initial states are chosen as $\\vec{x}(t) = (0,1)^T$ and $\\vec{\\dot{x}}(t) = (0,0)^T$\n",
    "\n",
    "![Toy Example](Figures/Toy_Example.png)\n",
    "\n",
    "___"
   ]
  },
  {
   "cell_type": "markdown",
   "metadata": {},
   "source": [
    "## Pre-Processing\n",
    "\n",
    "Create necessary matrix and initial states using functions created in `ccho_helpers.py`"
   ]
  },
  {
   "cell_type": "code",
   "execution_count": 1,
   "metadata": {},
   "outputs": [],
   "source": [
    "## Import Libraries\n",
    "import numpy as np\n",
    "import matplotlib.pyplot as plt\n",
    "import scipy\n",
    "from ccho_helpers import *\n",
    "from classiq import * \n",
    "from classiq.execution import ExecutionPreferences, ClassiqBackendPreferences, IBMBackendPreferences, IBMBackendProvider, IonqBackendPreferences, GCPBackendPreferences"
   ]
  },
  {
   "cell_type": "code",
   "execution_count": 2,
   "metadata": {},
   "outputs": [
    {
     "name": "stdout",
     "output_type": "stream",
     "text": [
      "Initial Energy:  0.5\n",
      "B matrix:  [[ 0.+0.j  1.+0.j  0.+0.j]\n",
      " [ 0.+0.j -1.+0.j  0.+0.j]]\n",
      "Hamiltonian formed: [[-0.-0.j -0.-0.j -0.-0.j -0.-0.j -0.-0.j -1.-0.j -0.-0.j -0.-0.j]\n",
      " [-0.-0.j -0.-0.j -0.-0.j -0.-0.j -0.-0.j  1.-0.j -0.-0.j -0.-0.j]\n",
      " [-0.-0.j -0.-0.j -0.-0.j -0.-0.j -0.-0.j -0.-0.j -0.-0.j -0.-0.j]\n",
      " [-0.-0.j -0.-0.j -0.-0.j -0.-0.j -0.-0.j -0.-0.j -0.-0.j -0.-0.j]\n",
      " [-0.+0.j -0.+0.j -0.+0.j -0.+0.j -0.-0.j -0.-0.j -0.-0.j -0.-0.j]\n",
      " [-1.+0.j  1.+0.j -0.+0.j -0.+0.j -0.-0.j -0.-0.j -0.-0.j -0.-0.j]\n",
      " [-0.+0.j -0.+0.j -0.+0.j -0.+0.j -0.-0.j -0.-0.j -0.-0.j -0.-0.j]\n",
      " [-0.+0.j -0.+0.j -0.+0.j -0.+0.j -0.-0.j -0.-0.j -0.-0.j -0.-0.j]]\n",
      "Initial State: [[ 0.+0.j]\n",
      " [ 0.+0.j]\n",
      " [ 0.+0.j]\n",
      " [ 0.+0.j]\n",
      " [ 0.+0.j]\n",
      " [-0.-1.j]\n",
      " [ 0.+0.j]\n",
      " [ 0.+0.j]]\n"
     ]
    }
   ],
   "source": [
    "## Creating the 2 masses system\n",
    "\n",
    "# Number of masses\n",
    "N =2**1\n",
    "\n",
    "# ass Matrix\n",
    "M = np.array([[1,0],[0,1]])\n",
    "\n",
    "# Spring Matrix\n",
    "K = np.array([[0,1],[1,0]])\n",
    "\n",
    "# Initial Conditions\n",
    "x_0 = np.zeros([N,1])\n",
    "xdot_0 = np.zeros([N,1])\n",
    "x_0[1] = 1\n",
    "\n",
    "# F Matrix\n",
    "F= create_matrix_F(K, N)\n",
    "\n",
    "# A Matrix\n",
    "A = create_matrix_A(M, F)\n",
    "\n",
    "# Transform coordinates\n",
    "y = coordinate_transformation(M, x_0, xdot_0)\n",
    "y_0 = y[\"y_0\"]\n",
    "ydot_0 = y[\"ydot_0\"]\n",
    "\n",
    "# B Matrix\n",
    "B = create_matrix_B(M, K, A, N)\n",
    "\n",
    "# Stacking B with zeros to get square matrix N^2 x N^2\n",
    "B_padded = padding_B(B, N)\n",
    "\n",
    "# Hamiltonian\n",
    "H = create_Hamiltonian(B_padded)\n",
    "\n",
    "# Initial State\n",
    "init_state = create_init_state(B_padded, y_0, ydot_0, N)\n",
    "E0_y = calculate_energy(y_0, ydot_0, M, K)\n",
    "\n",
    "# Normalize the Initial State\n",
    "normalization = normalize_init_state(init_state)\n",
    "normalized_init_state = normalization[\"normalized_init_state\"]\n",
    "norm = normalization[\"norm\"]\n",
    "\n",
    "# Print the results\n",
    "print(\"Initial Energy: \", E0_y)\n",
    "print(\"B matrix: \", B)\n",
    "print(\"Hamiltonian formed:\", H)\n",
    "print(\"Initial State:\", init_state)"
   ]
  },
  {
   "cell_type": "markdown",
   "metadata": {},
   "source": [
    "## Pauli Matrix Decomposition\n",
    "\n",
    "Create the Pauli List for the Hamiltonian. Pauli Decomposition is taken from [Classiq Library](https://github.com/Classiq/classiq-library/blob/main/algorithms/hhl/hhl/hhl.ipynb) thanks a lot to the authors!"
   ]
  },
  {
   "cell_type": "code",
   "execution_count": 3,
   "metadata": {},
   "outputs": [
    {
     "name": "stderr",
     "output_type": "stream",
     "text": [
      "100%|██████████| 64/64 [00:00<00:00, 32936.87it/s]"
     ]
    },
    {
     "name": "stdout",
     "output_type": "stream",
     "text": [
      "[('XII', (0.25+0j)), ('XIZ', (-0.25+0j)), ('XIX', (-0.25+0j)), ('XZI', (0.25+0j)), ('XZZ', (-0.25+0j)), ('XZX', (-0.25+0j)), ('YIY', (0.25+0j)), ('YZY', (0.25+0j))]\n"
     ]
    },
    {
     "name": "stderr",
     "output_type": "stream",
     "text": [
      "\n"
     ]
    }
   ],
   "source": [
    "## Pauli Decomposition and transforming it into Classiq syntax\n",
    "\n",
    "# Create the Pauli Matrix Decomposition of the Hamiltonian\n",
    "pauli_list = lcu_naive(H)\n",
    "\n",
    "# Transform Pauli Matrix Decomposition to Classiq compatible\n",
    "classiq_pauli_list = pauli_list_to_hamiltonian(pauli_list)\n",
    "\n",
    "print(pauli_list)"
   ]
  },
  {
   "cell_type": "markdown",
   "metadata": {},
   "source": [
    "## LCU and Chebyshev Functions\n",
    "\n",
    "Create functions to find LCU probabilities and Chebyshev coefficients. These functions are taken from the Classiq Github [4](https://github.com/Classiq/classiq-library/blob/main/tutorials/hamiltonian_simulation/hamiltonian_simulation_with_block_encoding/hamiltonian_simulation_with_block_encoding.ipynb). Thanks a lot to the authors!"
   ]
  },
  {
   "cell_type": "code",
   "execution_count": 4,
   "metadata": {},
   "outputs": [],
   "source": [
    "def get_cheb_coef(epsilon, t):\n",
    "    \"\"\"\n",
    "        Definition:\n",
    "            Find the Chebyshev coefficients\n",
    "        Args:\n",
    "            epsilon (float): Sensitivity\n",
    "            t (float): Evolution time for the system\n",
    "        Outputs:\n",
    "            cos_coef (list): Coefficients of cosine function\n",
    "            sin_coef (list): Coefficients of sine function\n",
    "    \"\"\"\n",
    "    poly_degree = int(\n",
    "        np.ceil(\n",
    "            t\n",
    "            + np.log(epsilon ** (-1)) / np.log(np.exp(1) + np.log(epsilon ** (-1)) / t)\n",
    "        )\n",
    "    )\n",
    "    cos_coef = [scipy.special.jv(0, t)] + [\n",
    "        2 * scipy.special.jv(2 * k, t) * (-1) ** k for k in range(1, poly_degree // 2 + 1)\n",
    "    ]\n",
    "    sin_coef = [\n",
    "        -2 * scipy.special.jv(2 * k - 1, t) * (-1) ** k for k in range(1, poly_degree // 2 + 1)\n",
    "    ]\n",
    "    return cos_coef, sin_coef"
   ]
  },
  {
   "cell_type": "markdown",
   "metadata": {},
   "source": [
    "#### **Block Encoding the Hamiltonian (LCU):**\n",
    "\n",
    "##### Preparing the normalized coefficients for the PREPARE operation\n",
    "\n",
    "The PREPARE operation prepares a quantum state that corresponds to the probabilities $|\\alpha_i| /\\sum|\\alpha_i|$. We define a function that gets the list of  coefficients of the Hamiltonian and returns the probabilities to be loaded as part of the PREPARE operation. The block size is also determined based on the number of terms in the Hamiltonian."
   ]
  },
  {
   "cell_type": "code",
   "execution_count": 5,
   "metadata": {},
   "outputs": [],
   "source": [
    "def get_normalized_lcu_coef(lcu_coef):\n",
    "    \"\"\"\n",
    "        Definition:\n",
    "            Find the LCU probabilities, normaliziation factor, and size of the probabilities\n",
    "        Args:\n",
    "            lcu_coef (list): List of coefficients for Pauli matrices\n",
    "        Outputs:\n",
    "            normalization_factor (float): 1-norm of the coefficients\n",
    "            coef_size (int): Number of Qubits to create the probabilities\n",
    "            prepare_prob(list): Probabilities of normalized LCU coefficients\n",
    "    \"\"\"\n",
    "    \n",
    "    lcu_coef = [abs(c) for c in lcu_coef]\n",
    "    normalization_factor = sum(lcu_coef)\n",
    "    prepare_prob = [c / normalization_factor for c in lcu_coef]\n",
    "    coef_size = int(np.ceil(np.log2(len(prepare_prob))))\n",
    "    prepare_prob += [0] * (2**coef_size - len(prepare_prob))\n",
    "\n",
    "    return normalization_factor, coef_size, prepare_prob"
   ]
  },
  {
   "cell_type": "markdown",
   "metadata": {},
   "source": [
    "#### Defining a function that applies the $(PREPARE) SELECT (PREPARE^{\\dagger})$ operation\n",
    "\n",
    "The SELECT operation acts on the desired target state controlled by the quantum state of the block qubits. This constitution ends our construction of the unitary block Hamiltonian. "
   ]
  },
  {
   "cell_type": "code",
   "execution_count": 6,
   "metadata": {},
   "outputs": [],
   "source": [
    "@qfunc\n",
    "def apply_pauli_term(pauli_string: PauliTerm, state: QArray[QBit]):\n",
    "    \"\"\"\n",
    "    Definition:\n",
    "        Apply the Pauli Matrix to the state\n",
    "    Args:\n",
    "        pauli_string (PauliTerm): Pauli Matrix sequence\n",
    "        state (QArray[QBit]): State to apply pauli matrices\n",
    "    \"\"\"\n",
    "    repeat(\n",
    "        count=state.len,\n",
    "        iteration=lambda index: switch(\n",
    "            pauli_string.pauli[index],\n",
    "            [\n",
    "                lambda: IDENTITY(state[pauli_string.pauli.len - index - 1]),\n",
    "                lambda: X(state[pauli_string.pauli.len - index - 1]),\n",
    "                lambda: Y(state[pauli_string.pauli.len - index - 1]),\n",
    "                lambda: Z(state[pauli_string.pauli.len - index - 1]),\n",
    "            ],\n",
    "        ),\n",
    "    )\n",
    "\n",
    "\n",
    "@qfunc\n",
    "def lcu_paulis(pauli_terms_list: CArray[PauliTerm], signs: CArray[CInt], probs: CArray[CReal], block: QNum, state: QArray[QBit]):\n",
    "    \"\"\"\n",
    "        Definition:\n",
    "            Apply all the Pauli sequences in LCU\n",
    "        Args:\n",
    "            pauli_terms_list (CArray[PauliTerm]): Pauli Matrix Decomposition of the Hamiltonian\n",
    "            signs (CArray[CInt]): Signs of PMD coefficients\n",
    "            probs (CArray[CReal]): Probabilities for LCU\n",
    "            block (QNum): PREPARE variables\n",
    "            state (QArray[QBit]): State to apply LCU\n",
    "    \"\"\"\n",
    "\n",
    "    within_apply(\n",
    "        lambda: inplace_prepare_state(probs, 0.0, block),\n",
    "        lambda: repeat(\n",
    "            count=pauli_terms_list.len,\n",
    "            iteration=lambda i: control(\n",
    "                block == i, lambda: (\n",
    "                                U(0, 0, 0, np.pi / 2 * signs[i], state[0]),\n",
    "                                apply_pauli_term(pauli_terms_list[i], state)\n",
    "                ),\n",
    "            ),\n",
    "        )\n",
    "    )"
   ]
  },
  {
   "cell_type": "code",
   "execution_count": 7,
   "metadata": {},
   "outputs": [
    {
     "name": "stdout",
     "output_type": "stream",
     "text": [
      "Normalization factor:  2.0\n",
      "LCU size:  3\n",
      "Probabilities:  [0.125, 0.125, 0.125, 0.125, 0.125, 0.125, 0.125, 0.125]\n",
      "Signs:  [0.0, 3.0, 2.0, 1.0, 2.0, 3.0, 0.0, 1.0]\n"
     ]
    }
   ],
   "source": [
    "## Find the LCU parameters for the Hamiltonian\n",
    "\n",
    "pauli_coeff = [p.coefficient for p in classiq_pauli_list]\n",
    "signs_pauli = np.sign(pauli_coeff).tolist()\n",
    "generalized_signs_pauli = [\n",
    "    (1 - signs_pauli[s]) + (s) % 2 for s in range(len(signs_pauli))\n",
    "]\n",
    "normalization_ham, lcu_size_ham, prepare_probs_ham = get_normalized_lcu_coef(pauli_coeff)\n",
    "\n",
    "print(\"Normalization factor: \", normalization_ham)\n",
    "print(\"LCU size: \", lcu_size_ham)\n",
    "print(\"Probabilities: \", prepare_probs_ham)\n",
    "print(\"Signs: \", generalized_signs_pauli)"
   ]
  },
  {
   "cell_type": "markdown",
   "metadata": {},
   "source": [
    "## Hamiltonian Simulation using Block Encoding $e^{iHt}$: (Qubitization method)\n",
    "Define necessary functions for Quantum Walk-Operators and Qubitization and simulate the Hamiltonian"
   ]
  },
  {
   "cell_type": "code",
   "execution_count": 8,
   "metadata": {},
   "outputs": [],
   "source": [
    "@qfunc\n",
    "def my_walk_operator(block: QArray[QBit], state: QArray[QBit]) -> None:\n",
    "    \"\"\"\n",
    "        Definition:\n",
    "            Applies the Szegedy Quantum Walk Operator\n",
    "        Args:\n",
    "            block (QArray[QBit]): PREPARE variables\n",
    "            state (QArray[QBit]): State to apply walk operator\n",
    "    \"\"\"\n",
    "    lcu_paulis(classiq_pauli_list, generalized_signs_pauli, prepare_probs_ham, block, state)\n",
    "    reflect_about_zero(block)\n",
    "    RY(2 * np.pi, block[0])"
   ]
  },
  {
   "cell_type": "markdown",
   "metadata": {},
   "source": [
    "##### Evaluating the Chebyshev co-efficients\n",
    "\n",
    "We calculate the coefficients $\\beta_i$ for approximating the sine and cosine functions. We want to approximate $e^{iHt}$, but our Hamiltonian is encoded with a normalization factor $\\bar{\\alpha}$ that comes from the LCU block encoding. Therefore, we rescale the time by this factor. \n",
    "\n",
    "Given the coefficients, we calculate the probabilities for the LCU prepare variable. These must be positive numbers. Moreover, for the odd terms, which corresponds to the sine function, we should add a factor of $i$. Those factors should be added to the unitary operations $W^k$. To take this into account, for each term we define a \"generalized sign\" $\\sigma_k$ such that $\\beta_k = e^{\\frac{\\pi}{2}\\sigma_k i} |\\beta_k|$ with $\\sigma_k \\in \\{0,1,2,3\\}$ that corresponds to the factors $1,i,-1,-i$ respectively. "
   ]
  },
  {
   "cell_type": "code",
   "execution_count": 9,
   "metadata": {},
   "outputs": [],
   "source": [
    "## Finc Chebyshev coefficients and take phases into account\n",
    "\n",
    "time = 0.5\n",
    "\n",
    "normalized_time = normalization_ham * time\n",
    "\n",
    "cos_coef, sin_coef = get_cheb_coef(0.0001, normalized_time)\n",
    "\n",
    "combined_sin_cos_coef = []\n",
    "for k in range(len(cos_coef) - 1):\n",
    "    combined_sin_cos_coef.append(cos_coef[k])\n",
    "    combined_sin_cos_coef.append(sin_coef[k])\n",
    "combined_sin_cos_coef.append(cos_coef[-1])\n",
    "if len(sin_coef) == len(cos_coef):\n",
    "    combined_sin_cos_coef.append(sin_coef[-1])\n",
    "\n",
    "signs_cheb_coef = np.sign(combined_sin_cos_coef).tolist()\n",
    "generalized_signs = [\n",
    "    (1 - signs_cheb_coef[s]) + (s) % 2 for s in range(len(signs_cheb_coef))\n",
    "]\n",
    "positive_cheb_lcu_coef = np.abs(combined_sin_cos_coef)"
   ]
  },
  {
   "cell_type": "code",
   "execution_count": 10,
   "metadata": {},
   "outputs": [
    {
     "name": "stdout",
     "output_type": "stream",
     "text": [
      "Normalization factor:  1.9191858138051914\n",
      "LCU size:  3\n",
      "Probabilities:  [0.3987095366450216, 0.4585804903095238, 0.11974190732900435, 0.02038713900649352, 0.0025809267099567547, 0, 0, 0]\n"
     ]
    }
   ],
   "source": [
    "## Find the LCU parameters for the exponentiation\n",
    "\n",
    "normalization_exp, lcu_size_exp, prepare_probs_exp = get_normalized_lcu_coef(positive_cheb_lcu_coef)\n",
    "\n",
    "print(\"Normalization factor: \", normalization_exp)\n",
    "print(\"LCU size: \", lcu_size_exp)\n",
    "print(\"Probabilities: \", prepare_probs_exp)"
   ]
  },
  {
   "cell_type": "code",
   "execution_count": 11,
   "metadata": {},
   "outputs": [],
   "source": [
    "## LCU function for Chebyshev coefficients\n",
    "\n",
    "@qfunc\n",
    "def lcu_cheb(coef: CArray[CReal], generalized_signs: CArray[CInt], walk_operator: QCallable[QNum, QArray], walk_block: QNum, state: QArray, cheb_block: QNum):\n",
    "    \"\"\"\n",
    "        Definition:\n",
    "            Apply all the Chebyshev coefficients in LCU\n",
    "        Args:\n",
    "            coef (CArray[CReal]): Chebyshev Coefficients\n",
    "            generalized_signs (CArray[CInt]): Signs of Chebyshev coefficients\n",
    "            walk_operator (QCallable[QNum, QArray]): Quantum Walk-Operator\n",
    "            walk_block (QNum): PREPARE variables for Quantum Walk\n",
    "            state (QArray[QBit]): State to apply LCU\n",
    "            cheb_block (QNum): PREPARE variables for Chebyshev coefficients\n",
    "    \"\"\"\n",
    "\n",
    "    within_apply(\n",
    "        lambda: inplace_prepare_state(coef, 0.0, cheb_block),\n",
    "        lambda: repeat(\n",
    "            generalized_signs.len,\n",
    "            lambda k: control(\n",
    "                cheb_block == k,\n",
    "                lambda: (\n",
    "                    U(0, 0, 0, np.pi / 2 * generalized_signs[k], state[0]),\n",
    "                    power(k, lambda: walk_operator(walk_block, state)),\n",
    "                ),\n",
    "            ),\n",
    "        ),\n",
    "    )"
   ]
  },
  {
   "cell_type": "code",
   "execution_count": 12,
   "metadata": {},
   "outputs": [],
   "source": [
    "## Main Evolution\n",
    "\n",
    "# Add i phase for the last half\n",
    "@qfunc\n",
    "def init_state_phase(state: QNum):\n",
    "    \"\"\"\n",
    "        Definition:\n",
    "            Imply -pi/2 phase to the last half (msb qubit) of the QNum state in order to add -i factor\n",
    "        Args:\n",
    "            state (QNum): Initial state with bare amplitudes\n",
    "        Outputs:\n",
    "            state (QNum): Initial state with phase\n",
    "    \"\"\"\n",
    "\n",
    "    state_in_qubit = QArray(\"state_in_qubit\")\n",
    "    msb = QArray(\"msb\", QBit)\n",
    "    \n",
    "    size = np.log2(init_state.size)\n",
    "    allocate(size, msb)\n",
    "\n",
    "    bind(state, state_in_qubit)\n",
    "    repeat(state_in_qubit.len, lambda i: CX(state_in_qubit[i], msb[i]))\n",
    "    control(msb[size-1], lambda: PHASE(np.pi/2, state_in_qubit[size-1]))\n",
    "    bind(state_in_qubit, state)\n",
    "\n",
    "# Main Function\n",
    "@qfunc\n",
    "def main(ham_block: Output[QNum], state: Output[QNum], exp_block: Output[QNum]):\n",
    "    \"\"\"\n",
    "        Definition:\n",
    "            Main function to make evolution\n",
    "\n",
    "        Outputs:\n",
    "            ham_block (Output[QNum]): PREPARE variables for Hamiltonian\n",
    "            state (Output[QNum]): Resulting state at the t = evolution_coefficient\n",
    "            exp_block (Output[QNum]): PREPARE variables for exponantioation\n",
    "    \"\"\"\n",
    "\n",
    "    allocate(lcu_size_exp, exp_block)\n",
    "    allocate(lcu_size_ham, ham_block)\n",
    "    prepare_amplitudes(list(normalized_init_state), 0.0, state)\n",
    "    init_state_phase(state)\n",
    "\n",
    "    lcu_cheb(\n",
    "        prepare_probs_exp,\n",
    "        generalized_signs,\n",
    "        lambda x, y: my_walk_operator(x, y),\n",
    "        ham_block,\n",
    "        state,\n",
    "        exp_block,\n",
    "    )\n",
    "\n",
    "\n",
    "qmod = create_model(main)\n",
    "write_qmod(qmod, \"Simulation with Qubitization\", decimal_precision=16)"
   ]
  },
  {
   "cell_type": "code",
   "execution_count": 14,
   "metadata": {},
   "outputs": [
    {
     "name": "stdout",
     "output_type": "stream",
     "text": [
      "Opening: https://platform.classiq.io/circuit/d015725d-04d8-4de6-9545-d7ffe0317e91?version=0.43.3\n"
     ]
    }
   ],
   "source": [
    "# Create model and synthesis. Use \"simulator_statevector\" to take phases into account\n",
    "backend_preferences = ClassiqBackendPreferences(backend_name=\"simulator_statevector\")\n",
    "model_pref = set_execution_preferences(qmod, ExecutionPreferences(num_shots=1, backend_preferences=backend_preferences))\n",
    "qprog = synthesize(model_pref)\n",
    "show(qprog)"
   ]
  },
  {
   "cell_type": "code",
   "execution_count": 15,
   "metadata": {},
   "outputs": [],
   "source": [
    "# Execute the job\n",
    "job = execute(qprog)\n",
    "results = job.result()"
   ]
  },
  {
   "cell_type": "markdown",
   "metadata": {},
   "source": [
    "## Post-Processing and Comparision"
   ]
  },
  {
   "cell_type": "code",
   "execution_count": 16,
   "metadata": {},
   "outputs": [],
   "source": [
    "def get_projected_state_vector(execution_result, measured_var: str, projections: dict) -> np.ndarray:\n",
    "    \"\"\"\n",
    "    Definition:\n",
    "        This function returns a reduced statevector from execution results.\n",
    "        measured var: the name of the reduced variable\n",
    "        projections: on which values of the other variables to project, e.g., {\"ind\": 1}\n",
    "    \"\"\"\n",
    "    \n",
    "    projected_size = len(execution_result[0].value.output_qubits_map[measured_var])\n",
    "    proj_statevector = np.zeros(2**projected_size).astype(complex)\n",
    "    for sample in execution_result[0].value.parsed_state_vector:\n",
    "        if all(sample.state[key] == projections[key] for key in projections.keys()):\n",
    "            proj_statevector[int(sample.state[measured_var])] += sample.amplitude\n",
    "    return proj_statevector"
   ]
  },
  {
   "cell_type": "code",
   "execution_count": 17,
   "metadata": {},
   "outputs": [],
   "source": [
    "## Get the states where blocks are in 0 state\n",
    "\n",
    "state_result = get_projected_state_vector(\n",
    "    results, \"state\", {\"exp_block\": 0.0, \"ham_block\": 0.0}\n",
    ")"
   ]
  },
  {
   "cell_type": "code",
   "execution_count": 18,
   "metadata": {},
   "outputs": [],
   "source": [
    "## Renormalize the final result with the norm of the initial state\n",
    "final_state_result = norm * state_result"
   ]
  },
  {
   "cell_type": "code",
   "execution_count": 19,
   "metadata": {},
   "outputs": [
    {
     "name": "stdout",
     "output_type": "stream",
     "text": [
      "Expected State: [[-0.2393529+0.j        ]\n",
      " [ 0.2393529+0.j        ]\n",
      " [ 0.       +0.j        ]\n",
      " [ 0.       +0.j        ]\n",
      " [ 0.       +0.j        ]\n",
      " [ 0.       -0.39612871j]\n",
      " [ 0.       +0.j        ]\n",
      " [ 0.       +0.j        ]]\n",
      "Resulting State: [-1.62132687e-01+3.54829846e-17j  1.62132687e-01-1.83459399e-15j\n",
      "  3.80342924e-17-5.92531917e-17j  5.66967202e-17+3.52190715e-17j\n",
      " -1.61220529e-15-3.33056534e-15j -3.23352879e-01-2.38682564e-01j\n",
      "  5.33793253e-17+7.24025475e-17j  7.85852506e-17+2.81873394e-17j]\n"
     ]
    }
   ],
   "source": [
    "## Compare with classical results\n",
    "expected_state = (1 / normalization_exp * scipy.linalg.expm(1j * H * time) @ init_state)\n",
    "\n",
    "relative_phase = np.angle(expected_state[0] / state_result[0])\n",
    "\n",
    "final_state_result = final_state_result * np.exp(1j * relative_phase)\n",
    "\n",
    "print(\"Expected State:\", expected_state)\n",
    "print(\"Resulting State:\", final_state_result)\n"
   ]
  },
  {
   "cell_type": "code",
   "execution_count": 20,
   "metadata": {},
   "outputs": [
    {
     "name": "stdout",
     "output_type": "stream",
     "text": [
      "Overlap: 0.890038098309116\n"
     ]
    }
   ],
   "source": [
    "## Find the overlap between two result\n",
    "\n",
    "overlap = np.abs(np.vdot(state_result, expected_state)) * normalization_exp/ np.linalg.norm(state_result)\n",
    "print(\"Overlap:\", overlap)"
   ]
  },
  {
   "cell_type": "markdown",
   "metadata": {},
   "source": [
    "## Discussion and Results\n",
    "\n",
    "##### This work shows that Qubitization and Quantum Walk-Operators are important tools in Hamiltonian evolutions. We see a 89% overlap between classical and quantum results and this can be imrpoved by decreasing the epsilon for Chebyshev coefficients. Moreover the codes are general and can be used for simulating for larger values of $N=2**n$"
   ]
  },
  {
   "cell_type": "markdown",
   "metadata": {},
   "source": [
    "___\n",
    "___"
   ]
  }
 ],
 "metadata": {
  "kernelspec": {
   "display_name": "base",
   "language": "python",
   "name": "python3"
  },
  "language_info": {
   "codemirror_mode": {
    "name": "ipython",
    "version": 3
   },
   "file_extension": ".py",
   "mimetype": "text/x-python",
   "name": "python",
   "nbconvert_exporter": "python",
   "pygments_lexer": "ipython3",
   "version": "3.11.9"
  }
 },
 "nbformat": 4,
 "nbformat_minor": 2
}
