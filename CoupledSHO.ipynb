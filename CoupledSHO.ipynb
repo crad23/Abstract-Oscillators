{
  "cells": [
    {
      "cell_type": "markdown",
      "metadata": {
        "id": "FxSrhhcYXWsW"
      },
      "source": [
        "# Simulating coupled Classical Harmonic oscillators using Classiq\n",
        "\n"
      ]
    },
    {
      "cell_type": "markdown",
      "metadata": {
        "id": "oUZXikoCXf9F"
      },
      "source": [
        "## Theoretical Background:\n",
        "___\n",
        "\n",
        "We are trying to find a solution for a system of classical coupled harmonic oscillators with $N=2^n$ masses. Let $\\vec{x}$ be the displacement vector\n",
        "$$\n",
        "    \\vec{x} = \\left(x_1(t),.....,x_N(t) \\right)^T \\in \\mathbb{R}^N\n",
        "    \\qquad (1)\n",
        "$$\n",
        "So, for the system of $N$ masses connected by springs, Newton's equation becomes\n",
        "$$\n",
        "    m_j \\ddot{x}_j(t) = \\sum_{k \\neq j} \\kappa_{jk} \\left( x_k(t) - x_j(t) \\right) - \\kappa_{jj} x_j(t) \\qquad (2)\n",
        "$$\n",
        "where $j \\in [N] := \\{1,...,N\\}$ and $\\kappa_{jk}$ is the spring constant of the spring connecting the $j ^{th}$ and the $k ^{th}$ masses.\n",
        "\n",
        "Representing Newton's Equation in matrix form:\n",
        "$$\n",
        "    \\mathbf{M}\\ddot{\\vec{x}}(t) = - \\mathbf{F}\\vec{x}(t)\n",
        "    \\qquad (3)\n",
        "$$\n",
        "where $\\mathbf{M}$ is the $N\\times N$ diagonal matrix with entries $m_j > 0$ and $\\mathbf{F}$ is an $N\\times N$ matrix with $f_{jj}=\\sum_k \\kappa_{jk}$ and $f_{jk} = -\\kappa_{jk}$.\n",
        "\n",
        "___"
      ]
    },
    {
      "cell_type": "markdown",
      "metadata": {
        "id": "tjSnSm-NYmnM"
      },
      "source": [
        "\n",
        "\n",
        "In order to reduce Newton's Equation to a Quantum Evolution, we perform a change of variable where $\\vec{y}(t) := \\sqrt{\\mathbf{M}}\\vec{x}(t)$. Equation $(3)$ becomes:\n",
        "$$\n",
        "    \\ddot{\\vec{y}}(t) = -\\mathbf{A}\\vec{y}(t)\n",
        "    \\qquad (4)\n",
        "$$\n",
        "where $\\mathbf{A} := \\sqrt{\\mathbf{M}}^{-1}\\mathbf{F}\\sqrt{\\mathbf{M}}^{-1}$. Convert equation (4) into a similar form of Schrödinger's Equation by adding $i\\sqrt{\\mathbf{A}}\\dot{\\vec{y}}(t)$ on both sides of equation $4$,\n",
        "$$\n",
        "    \\ddot{\\vec{y}}(t) + i\\sqrt{\\mathbf{A}}\\dot{\\vec{y}}(t)=i\\sqrt{\\mathbf{A}}\\left(\\dot{\\vec{y}}(t) + i\\sqrt{\\mathbf{A}}\\vec{y}(t)\\right)\n",
        "    \\qquad (5)\n",
        "$$\n",
        "Solution to (5) is\n",
        "$$\n",
        "    \\dot{\\vec{y}}(t) + i\\sqrt{\\mathbf{A}}\\vec{y}(t) = e^{it\\sqrt{\\mathbf{A}}}\\left(\\dot{\\vec{y}}(0) + i\\sqrt{\\mathbf{A}}\\vec{y}(0)\\right)\n",
        "    \\qquad (6)\n",
        "$$\n",
        "\n",
        "___"
      ]
    },
    {
      "cell_type": "markdown",
      "metadata": {
        "id": "kYhq877MdXtn"
      },
      "source": [
        "In order to access $\\sqrt{\\mathbf{A}}$, define $\\mathbf{B}\\mathbf{B^\\dagger} = \\mathbf{A}$ where B is $N\\times M$ and $M = N\\times (N+1) /2$. However, to simulate the Hamiltonian using qubits, we need it to be a square matrix of dimension $2^{q}$ where $q$ is the number of qubits simulating $H$. To achieve this, we  pad $B$ with zeros to make its dimension $N^2\\times N^2$, so that $H$ becomes a $2N^{2}X2N^{2}$ matrix which can be simulated with $q=2n+1$ qubits, where $N=2^{n}$. So, the hamiltonian after padding becomes\n",
        "$$\n",
        "    \\mathbf{H} := -\\begin{pmatrix}\n",
        "\\mathbf{0}{_{N^{2}XN^{2}}} & \\mathbf{B}{_{N^{2}XN^{2}}}\\\\\n",
        "\\mathbf{B^\\dagger}{_{N^{2}XN^{2}}} & \\mathbf{0}{_{N^{2}XN^{2}}}\n",
        "\\end{pmatrix}_{2N^{2}X2N^{2}}\n",
        "\\qquad (7)\n",
        "$$\n",
        "(5) can be stated as:\n",
        "$$\n",
        "    |{\\dot{\\psi}(t)}\\rangle = -i\\mathbf{H} |{\\psi(t)}\\rangle\n",
        "    \\qquad (8)\n",
        "$$\n",
        "where\n",
        "$$\n",
        "    |{\\psi(t)}\\rangle \\propto \\begin{pmatrix}\n",
        "\\dot{\\vec{y}}(t)\\\\\n",
        "i\\mathbf{B^\\dagger}\\vec{y}(t)\n",
        "\\end{pmatrix}\n",
        "\\qquad (9)\n",
        "$$\n",
        "is an appropriate solution to equation $(8)$"
      ]
    },
    {
      "cell_type": "markdown",
      "metadata": {
        "id": "Sf3xGkEyeiOw"
      },
      "source": [
        "Here $\\mathbf{A}$ is positive-semi definite and Hermitian by definition, Cholesky decomposition cannot be used to find $\\mathbf{B}$ always since it requires $A$ to be positive definite. A method to find $\\mathbf{B}$ is given by the paper\n",
        "$$\n",
        "    \\sqrt{\\mathbf{M}}\\mathbf{B}|{j,k}\\rangle=\n",
        "    \\begin{cases}\n",
        "        \\sqrt{\\kappa_{jj}} & \\text{if } j = k\\\\\n",
        "        \\sqrt{\\kappa_{jk}}\\left(|{j}\\rangle-|{k}\\rangle \\right) & \\text{if } j < k\n",
        "    \\end{cases}\n",
        "    \\qquad (10)\n",
        "$$\n",
        "where $|{j,k}\\rangle$ is the bra-ket notation for the basis of complex space $\\mathbb{C}^{M}$ over $\\mathbb{C}$ and $j \\leq k \\in [N]$.\n",
        "___\n",
        "\n",
        "<!-- ##### A brief background on vector spaces:\n",
        "\n",
        "Here is a crucial point for the difference between basis over $\\mathbb{C}$ and basis over $\\mathbb{R}$. If basis are given over $\\mathbb{C}$, they are the complex combinations of the bases and if bases are given over $\\mathbb{R}$, they are the real combinations of the basis vectors. To illustrate, let us take the bases of $\\mathbb{C}^2$ and $\\gamma \\in \\mathbb{C}^2$.\n",
        "$$\n",
        "    \\vec{\\gamma} = a_1\\begin{pmatrix}\n",
        "            1\\\\\n",
        "            0\n",
        "            \\end{pmatrix} + a_2\\begin{pmatrix}\n",
        "            0\\\\\n",
        "            1\n",
        "            \\end{pmatrix} + a_3\\begin{pmatrix}\n",
        "            i\\\\\n",
        "            0\n",
        "            \\end{pmatrix} + a_4\\begin{pmatrix}\n",
        "            0\\\\\n",
        "            i\n",
        "            \\end{pmatrix}\n",
        "    \\qquad (11)\n",
        "$$\n",
        "(11) is the span for $\\gamma$ using bases of $\\mathbb{C}^2$ over $\\mathbb{R}$ and $a_i \\in \\mathbb{R}$.\n",
        "$$\n",
        "    \\vec{\\gamma} = c_1\\begin{pmatrix}\n",
        "            1\\\\\n",
        "            0\n",
        "            \\end{pmatrix} + c_2\\begin{pmatrix}\n",
        "            0\\\\\n",
        "            1\n",
        "            \\end{pmatrix}\n",
        "    \\qquad (12)\n",
        "$$\n",
        "(12) is the span for  $\\gamma$ using bases of $\\mathbb{C}^2$ over $\\mathbb{C}$ and $c_i \\in \\mathbb{C}$. -->\n"
      ]
    },
    {
      "cell_type": "markdown",
      "metadata": {
        "id": "giBShtv4f1Mq"
      },
      "source": [
        "<!-- Another crucial point is bra-ket notation. Bra-ket notation is just a different way of representing vectors introduced by Paul Dirac. Indeed, they are different from vectors and useful especially for quantum mechanics and computation with quantum operators and states. However, we can illustrate them as vectors for our case. Ordering them as increasing, they represent the unit vectors in turn. For the above example, bases can be illustrated as\n",
        "\\begin{align}\n",
        "    |{1}\\rangle &= \\begin{pmatrix}\n",
        "            1\\\\\n",
        "            0\n",
        "            \\end{pmatrix} \\qquad (13)\\\\\n",
        "    |{2}\\rangle &= \\begin{pmatrix}\n",
        "        0\\\\\n",
        "        1\n",
        "        \\end{pmatrix} \\qquad (14)\n",
        "\\end{align} -->"
      ]
    },
    {
      "cell_type": "markdown",
      "metadata": {
        "id": "_iXJb7fstUSv"
      },
      "source": [
        "###  The Simplest Possible Case: 2-Coupled Classical Oscillators\n",
        "In this example, let exist two masses with $m_1 = 1$ and $m_2 = 1$. Also, assume spring constants are $\\kappa_{11} = \\kappa_{22} = 0$ and $\\kappa_{12} = 1$.\n",
        "\n",
        "![2oscillators.png](data:image/png;base64,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)\n",
        "\n",
        "So, matrix representations are\n",
        "$$\n",
        "    \\mathbf{M} = \\begin{pmatrix}\n",
        "            1 & 0\\\\\n",
        "            0 & 1\n",
        "            \\end{pmatrix}\n",
        "            \\qquad (11)\n",
        "            \\\n",
        "$$\n",
        "$$\n",
        "    \\mathbf{F} = \\begin{pmatrix}\n",
        "            1 & -1\\\\\n",
        "            -1 & 1\n",
        "            \\end{pmatrix}\n",
        "            \\qquad (12)\n",
        "$$\n",
        "and $\\mathbf{A}$ is\n",
        "\\begin{align}\n",
        "    \\mathbf{A} &= \\sqrt{\\mathbf{M}}^{-1}\\mathbf{F}\\sqrt{\\mathbf{M}}^{-1}\n",
        "    \\qquad  (13)\\\\\n",
        "    &=  \\begin{pmatrix}\n",
        "            1 & 0\\\\\n",
        "            0 & 1\n",
        "            \\end{pmatrix} \\begin{pmatrix}\n",
        "            1 & -1\\\\\n",
        "            -1 & 1\n",
        "            \\end{pmatrix} \\begin{pmatrix}\n",
        "            1 & 0\\\\\n",
        "            0 & 1\n",
        "            \\end{pmatrix} \\\\\n",
        "    \\mathbf{A} &= \\begin{pmatrix}\n",
        "            1 & -1\\\\\n",
        "            -1 & 1\n",
        "            \\end{pmatrix} = \\mathbf{F}  \\qquad (14)\n",
        "\\end{align}\n"
      ]
    },
    {
      "cell_type": "markdown",
      "metadata": {
        "id": "D40oKnfNhnI5"
      },
      "source": [
        "In order to create $\\mathbf{B}$, use (10).\n",
        "\n",
        "For $k=j=1$:\n",
        "$$\n",
        "\\sqrt{\\mathbf{M}}\\mathbf{B}|{1,1}\\rangle = \\sqrt{\\kappa_{11}}|{1}\\rangle\n",
        "\n",
        "$$\n",
        "\n",
        "$$\n",
        "\\mathbf{B}|{1,1}\\rangle = \\begin{pmatrix}\n",
        "    0 \\\\\n",
        "    0\n",
        "\\end{pmatrix} \n",
        "$$\n",
        "\n",
        "$$\n",
        "\\mathbf{B}\\begin{pmatrix}\n",
        "    1 \\\\\n",
        "    0 \\\\\n",
        "    0\n",
        "\\end{pmatrix} = \\begin{pmatrix}\n",
        "    0 \\\\\n",
        "    0\n",
        "\\end{pmatrix} \\qquad (15)\n",
        "$$"
      ]
    },
    {
      "cell_type": "markdown",
      "metadata": {
        "id": "M17hkoHLjkpT"
      },
      "source": [
        "For $k=1$ and $j=2$:\n",
        "$$\n",
        "\\sqrt{\\mathbf{M}}\\mathbf{B}|{1,2}\\rangle = \\sqrt{\\kappa_{12}}\\left( |{1}\\rangle - |{2} \\rangle \\right) \n",
        "$$\n",
        "\n",
        "$$\n",
        "\\mathbf{B}|{1,2}\\rangle = \\left( |{1}\\rangle - |{2} \\rangle \\right) \n",
        "$$\n",
        "\n",
        "$$\n",
        "\\mathbf{B} \\begin{pmatrix}\n",
        "    0 \\\\\n",
        "    1 \\\\\n",
        "    0\n",
        "\\end{pmatrix} = \\begin{pmatrix}\n",
        "    1 \\\\\n",
        "    0\n",
        "\\end{pmatrix} - \\begin{pmatrix}\n",
        "    0 \\\\\n",
        "    1\n",
        "\\end{pmatrix} \n",
        "$$\n",
        "\n",
        "$$\n",
        "\\mathbf{B} \\begin{pmatrix}\n",
        "    0 \\\\\n",
        "    1 \\\\\n",
        "    0\n",
        "\\end{pmatrix} = \\begin{pmatrix}\n",
        "    1 \\\\\n",
        "    -1\n",
        "\\end{pmatrix} \\qquad (16)\n",
        "$$"
      ]
    },
    {
      "cell_type": "markdown",
      "metadata": {
        "id": "5FM5Q2pOkn-C"
      },
      "source": [
        "For $k=j=2$:\n",
        "$$\n",
        "\\sqrt{\\mathbf{M}}\\mathbf{B}|{2,2}\\rangle = \\sqrt{\\kappa_{22}}|{2} \\rangle \n",
        "$$\n",
        "\n",
        "$$\n",
        "\\mathbf{B}|{2,2}\\rangle = \\begin{pmatrix}\n",
        "    0 \\\\\n",
        "    0\n",
        "\\end{pmatrix} \n",
        "$$\n",
        "\n",
        "$$\n",
        "\\mathbf{B} \\begin{pmatrix}\n",
        "    0 \\\\\n",
        "    0 \\\\\n",
        "    1\n",
        "\\end{pmatrix} = \\begin{pmatrix}\n",
        "    0 \\\\\n",
        "    0\n",
        "\\end{pmatrix} \\qquad (17)\n",
        "$$\n",
        "Combining $(15), (16), (17)$\n",
        "$$\n",
        "\\mathbf{B}\\begin{pmatrix}\n",
        "    1 & 0 & 0 \\\\\n",
        "    0 & 1 & 0 \\\\\n",
        "    0 & 0 & 1\n",
        "\\end{pmatrix} = \\begin{pmatrix}\n",
        "    0 & 1 & 0 \\\\\n",
        "    0 & -1 & 0\n",
        "\\end{pmatrix} \n",
        "$$\n",
        "\n",
        "$$\n",
        "\\mathbf{B} = \\begin{pmatrix}\n",
        "    0 & 1 & 0 \\\\\n",
        "    0 & -1 & 0\n",
        "\\end{pmatrix} \\qquad (18)\n",
        "$$"
      ]
    },
    {
      "cell_type": "markdown",
      "metadata": {
        "id": "g-rz6LRGl-hc"
      },
      "source": [
        "Lastly, show that $\\mathbf{B}\\mathbf{B}^\\dagger = \\mathbf{A}$\n",
        "$$\n",
        "\\begin{pmatrix}\n",
        "    0 & 1 & 0 \\\\\n",
        "    0 & -1 & 0\n",
        "\\end{pmatrix} \\begin{pmatrix}\n",
        "    0 & 0 \\\\\n",
        "    1 & -1 \\\\\n",
        "    0 & 0\n",
        "\\end{pmatrix} = \\begin{pmatrix}\n",
        "    1 & -1 \\\\\n",
        "    -1 & 1\n",
        "\\end{pmatrix} \\qquad (19)\n",
        "$$\n",
        "That ends the constitution of $\\mathbf{B}$ for this example.\n",
        "\n",
        "Following equation $(7)$ the Hamiltonian ($H$) for this case becomes\n",
        "$$\n",
        "\\mathbf{H} = \\begin{pmatrix}\n",
        "    0 & 0 & 0 & 0 & 0 & 1 & 0 & 0 \\\\\n",
        "    0 & 0 & 0 & 0 & 0 & -1 & 0 & 0 \\\\\n",
        "    0 & 0 & 0 & 0 & 0 & 0 & 0 & 0 \\\\\n",
        "    0 & 0 & 0 & 0 & 0 & 0 & 0 & 0 \\\\\n",
        "    0 & 0 & 0 & 0 & 0 & 0 & 0 & 0 \\\\\n",
        "    1 & -1 & 0 & 0 & 0 & 0 & 0 & 0 \\\\\n",
        "    0 & 0 & 0 & 0 & 0 & 0 & 0 & 0 \\\\\n",
        "    0 & 0 & 0 & 0 & 0 & 0 & 0 & 0 \\\\\n",
        "\\end{pmatrix} \\qquad (20)\n",
        "$$\n",
        "\n",
        "___"
      ]
    },
    {
      "cell_type": "markdown",
      "metadata": {},
      "source": [
        "We use the following methodology (for the simplest case atleast) to obtain $B$ from $A$.\n",
        "\n",
        "For the square matrix $A$ we have the eigen value decomposition as follows: \n",
        "\n",
        "$$\n",
        "A = V \\Lambda V^T\n",
        "$$\n",
        "\n",
        "where:\n",
        "    \\item $V$ is the matrix of eigenvectors of $A$.\n",
        "    \\item $\\Lambda$ is the diagonal matrix of eigenvalues of $A$.\n",
        "\n",
        "\n",
        "Next, we construct the diagonal matrix $\\sqrt{\\Lambda}$ containing the square roots of the eigenvalues:\n",
        "\n",
        "$$\n",
        "\\sqrt{\\Lambda} = \\text{diag}(\\sqrt{\\lambda_1}, \\sqrt{\\lambda_2}, \\ldots, \\sqrt{\\lambda_n})\n",
        "$$\n",
        "\n",
        "We then define the matrix $B$ as follows:\n",
        "\n",
        "$$B = V \\sqrt{\\Lambda}$$\n",
        "\n",
        "\n",
        "Its easy to verify that $A$ can be reconstructed from $B$ as $ A= BB^T$\n",
        "\n",
        "___\n"
      ]
    },
    {
      "cell_type": "markdown",
      "metadata": {},
      "source": [
        "### Simulating the simplest Possible case:"
      ]
    },
    {
      "cell_type": "code",
      "execution_count": 50,
      "metadata": {
        "id": "65kFztoltUSw"
      },
      "outputs": [],
      "source": [
        "from typing import cast\n",
        "from classiq import *\n",
        "from classiq.execution import ExecutionPreferences\n",
        "import numpy as np\n",
        "import matplotlib.pyplot as plt\n",
        "from classiq.execution import ClassiqBackendPreferences\n",
        "# from qiskit.quantum_info import SparsePauliOp\n"
      ]
    },
    {
      "cell_type": "markdown",
      "metadata": {},
      "source": [
        "#### Pre-Processing before quantum evolution:"
      ]
    },
    {
      "cell_type": "code",
      "execution_count": 141,
      "metadata": {
        "id": "S8k-cltitUSy",
        "outputId": "1645508a-5903-4295-e45d-1ae9bd28d5bc"
      },
      "outputs": [
        {
          "name": "stdout",
          "output_type": "stream",
          "text": [
            "Decomposition works\n",
            "Padded B matrix: [[ 0. -1.  0.  0.]\n",
            " [ 0.  1.  0.  0.]\n",
            " [ 0.  0.  0.  0.]\n",
            " [ 0.  0.  0.  0.]]\n",
            "Hamiltonian formed: [[-0. -0. -0. -0. -0.  1. -0. -0.]\n",
            " [-0. -0. -0. -0. -0. -1. -0. -0.]\n",
            " [-0. -0. -0. -0. -0. -0. -0. -0.]\n",
            " [-0. -0. -0. -0. -0. -0. -0. -0.]\n",
            " [-0. -0. -0. -0. -0. -0. -0. -0.]\n",
            " [ 1. -1. -0. -0. -0. -0. -0. -0.]\n",
            " [-0. -0. -0. -0. -0. -0. -0. -0.]\n",
            " [-0. -0. -0. -0. -0. -0. -0. -0.]]\n",
            "The padded initial state: [[ 1.+0.j]\n",
            " [ 0.+0.j]\n",
            " [ 0.+0.j]\n",
            " [ 0.+0.j]\n",
            " [ 0.+0.j]\n",
            " [-0.-1.j]\n",
            " [ 0.+0.j]\n",
            " [ 0.+0.j]]\n",
            "The complex entries start from index: 4\n"
          ]
        }
      ],
      "source": [
        "### Providing all inputs for 2 coupled SHO case and performing all the initial transformations\n",
        "\n",
        "N=2\n",
        "m= int(N*N)  # this is the value of M required for constructing B and y \n",
        "\n",
        "#masses\n",
        "M_1= 1\n",
        "M_2= 1\n",
        "\n",
        "#spring constants\n",
        "k_11=0\n",
        "k_22=0\n",
        "k_12=1\n",
        "\n",
        "#initial conditions\n",
        "initial_positions = np.array([[1], [0]])\n",
        "initial_velocities= np.array([[1],[0]])\n",
        "\n",
        "# Force matrix\n",
        "\n",
        "F= np.array([[k_11+k_12, -k_12], [-k_12, k_12+k_22]])\n",
        "\n",
        "# Mass matrix\n",
        "\n",
        "M= np.array([[M_1, 0], [0, M_2]])\n",
        "rootM= np.sqrt(M)\n",
        "rootM_inverse= np.linalg.inv(rootM) # inverse of the square root M matrix\n",
        "\n",
        "# Computing the matrix A\n",
        "A = np.linalg.multi_dot([rootM_inverse, F, rootM_inverse])\n",
        "#print(A)\n",
        "\n",
        "# Transform coordinates\n",
        "\n",
        "y_initial= np.matmul(rootM, initial_positions)\n",
        "ydot_initial= np.matmul(rootM, initial_velocities)\n",
        "\n",
        "# Perform eigen value decomposition to get the matrix B\n",
        "\n",
        "# Eigenvalue decomposition of matrix A (A= V Λ V^{T})\n",
        "eigenvalues, eigenvectors = np.linalg.eigh(A)\n",
        "\n",
        "# Construct the diagonal matrix of square roots of eigenvalues (square root of lambda matrix)\n",
        "Lambda_sqrt = np.diag(np.sqrt(eigenvalues))\n",
        "\n",
        "# Compute B\n",
        "B = np.dot(eigenvectors, Lambda_sqrt)  # we define B this way, to ensure A = BB^T\n",
        "\n",
        "# Verify A = BB^T\n",
        "A_reconstructed = np.dot(B, B.T)\n",
        "\n",
        "if np.array_equal(A_reconstructed, A):\n",
        "    print(\"Decomposition works\")\n",
        "else:\n",
        "    print(\"A is not BB^T\")\n",
        "\n",
        "\n",
        "# Stacking L with zeroes to get B to be of the order of N*((N(N+1)/2))\n",
        "padded_B = np.zeros((m, m))\n",
        "padded_B[:2, :2] = B\n",
        "\n",
        "H = -np.block([[np.zeros((padded_B.shape[0], padded_B.shape[0])), padded_B], [padded_B.conj().T, np.zeros((padded_B.shape[1], padded_B.shape[1]))]])\n",
        "\n",
        "print('Padded B matrix:', padded_B)\n",
        "print('Hamiltonian formed:', H)\n",
        "\n",
        "# B transpose matrix, useful for initial state amplitudes and padding the initial y vector (for multiplying it with B dagger)\n",
        "\n",
        "padded_y_vector = np.pad(y_initial, ((0, m-N), (0, 0)), mode='constant', constant_values=0)\n",
        "B_transpose= np.transpose(padded_B)\n",
        "\n",
        "\n",
        "t_y= np.matmul(B_transpose, padded_y_vector)\n",
        "lower_init_amp= complex(0,1) * np.matmul(B_transpose, padded_y_vector)\n",
        "padded_ydotvector = np.pad(ydot_initial, ((0, m-N), (0, 0)), mode='constant', constant_values=0)\n",
        "\n",
        "\n",
        "# Initial state for distribution (eq 15in the paper)\n",
        "init_state = np.vstack((padded_ydotvector, lower_init_amp.reshape(-1, 1)))\n",
        "\n",
        "\n",
        "print(\"The padded initial state:\", init_state)\n",
        "\n",
        "complex_index_start=  len(init_state) - len(padded_ydotvector)\n",
        "print(\"The complex entries start from index:\", complex_index_start)   #to track the index from where the entries of the state in equation 9 are complex\n",
        "\n",
        "\n",
        "# def processed_initstae(init_state):\n",
        "\n",
        "#     # Store the real part or the imaginary coefficient\n",
        "#     real_or_imag_coeff = np.zeros(init_state.shape, dtype=init_state.real.dtype)\n",
        "\n",
        "#     # Iterating through the array to extract the appropriate parts (for real_or_imag_coeff)\n",
        "#     for i, val in enumerate(init_state):\n",
        "#         if np.isreal(val):\n",
        "#             real_or_imag_coeff[i] = val.real\n",
        "#         else:\n",
        "#             real_or_imag_coeff[i] = val.imag\n",
        "\n",
        "#     # Geting the indices of purely imaginary elements (this is the place where we add a global phase 'i' to the initial state)\n",
        "#     purely_imag_indices = np.where(np.iscomplex(init_state) & (init_state.real == 0))[0]\n",
        "\n",
        "#     return real_or_imag_coeff, purely_imag_indices\n",
        "\n",
        "\n",
        "# amplitudes_init, imag_indices = processed_initstae(init_state)\n",
        "# print(\"Real part or imaginary coefficients:\", amplitudes_init)\n",
        "# print(\"Indices of purely imaginary numbers:\", imag_indices)\n",
        "\n"
      ]
    },
    {
      "cell_type": "markdown",
      "metadata": {},
      "source": [
        "#### Finding the Pauli decomposition of the Hamiltonian formed above:"
      ]
    },
    {
      "cell_type": "code",
      "execution_count": 142,
      "metadata": {
        "id": "kWzHoKQMtUS0",
        "outputId": "27a2f620-5ecd-448b-bea5-93345d39791c"
      },
      "outputs": [
        {
          "name": "stdout",
          "output_type": "stream",
          "text": [
            "The Pauli decomposition of the Hamiltonian: [('XII', (-0.25+0j)), ('XIZ', (0.25+0j)), ('XIX', (0.25+0j)), ('XZI', (-0.25+0j)), ('XZZ', (0.25+0j)), ('XZX', (0.25+0j)), ('YIY', (-0.25+0j)), ('YZY', (-0.25+0j))]\n"
          ]
        }
      ],
      "source": [
        "from itertools import product\n",
        "\n",
        "from numpy import kron\n",
        "\n",
        "Paulidict = {\n",
        "    \"I\": np.array([[1, 0], [0, 1]], dtype=np.complex128),\n",
        "    \"Z\": np.array([[1, 0], [0, -1]], dtype=np.complex128),\n",
        "    \"X\": np.array([[0, 1], [1, 0]], dtype=np.complex128),\n",
        "    \"Y\": np.array([[0, -1j], [1j, 0]], dtype=np.complex128),\n",
        "}\n",
        "\n",
        "\n",
        "# generate all combinations of Pauli strings of size n\n",
        "def generate_all_pauli_strings(seq, n):\n",
        "    for s in product(seq, repeat=n):\n",
        "        yield \"\".join(s)\n",
        "\n",
        "\n",
        "# convert a Paulistring of size n to 2**n X 2**n matrix\n",
        "def pauli_string_2mat(seq):\n",
        "    myPmat = Paulidict[seq[0]]\n",
        "    for p in seq[1:]:\n",
        "        myPmat = kron(myPmat, Paulidict[p])\n",
        "    return myPmat\n",
        "\n",
        "\n",
        "# Hilbert-Schmidt-Product of two matrices M1, M2\n",
        "def hilbert_schmidt(M1, M2):\n",
        "    return (np.dot(M1.conjugate().transpose(), M2)).trace()\n",
        "\n",
        "# Naive decomposition, running over all HS products for all Pauli strings\n",
        "def lcu_naive(H):\n",
        "    assert H.shape[0] == H.shape[1], \"matrix is not square\"\n",
        "    assert H.shape[0] != 0, \"matrix is of size 0\"\n",
        "    assert H.shape[0] & (H.shape[0] - 1) == 0, \"matrix size is not 2**n\"\n",
        "\n",
        "    n = int(np.log2(H.shape[0]))\n",
        "    myPualiList = list(generate_all_pauli_strings(\"IZXY\", n))\n",
        "\n",
        "    mylist = []\n",
        "\n",
        "    for pstr in myPualiList:\n",
        "        co = (1 / 2**n) * hilbert_schmidt(pauli_string_2mat(pstr), H)\n",
        "        if co != 0:\n",
        "            mylist = mylist + [(pstr, co)]\n",
        "\n",
        "    return mylist\n",
        "\n",
        "\n",
        "pauli_list= lcu_naive(H)\n",
        "print(\"The Pauli decomposition of the Hamiltonian:\", pauli_list)\n"
      ]
    },
    {
      "cell_type": "code",
      "execution_count": 143,
      "metadata": {},
      "outputs": [
        {
          "data": {
            "text/latex": [
              "Quantum object: dims=[[2, 2, 2], [2, 2, 2]], shape=(8, 8), type='oper', dtype=CSR, isherm=True$$\\left(\\begin{array}{cc}0 & 0 & 0 & 0 & 0 & 1 & 0 & 0\\\\0 & 0 & 0 & 0 & 0 & -1 & 0 & 0\\\\0 & 0 & 0 & 0 & 0 & 0 & 0 & 0\\\\0 & 0 & 0 & 0 & 0 & 0 & 0 & 0\\\\0 & 0 & 0 & 0 & 0 & 0 & 0 & 0\\\\1 & -1 & 0 & 0 & 0 & 0 & 0 & 0\\\\0 & 0 & 0 & 0 & 0 & 0 & 0 & 0\\\\0 & 0 & 0 & 0 & 0 & 0 & 0 & 0\\end{array}\\right)$$"
            ],
            "text/plain": [
              "Quantum object: dims=[[2, 2, 2], [2, 2, 2]], shape=(8, 8), type='oper', dtype=CSR, isherm=True\n",
              "Qobj data =\n",
              "[[ 0.  0.  0.  0.  0.  1.  0.  0.]\n",
              " [ 0.  0.  0.  0.  0. -1.  0.  0.]\n",
              " [ 0.  0.  0.  0.  0.  0.  0.  0.]\n",
              " [ 0.  0.  0.  0.  0.  0.  0.  0.]\n",
              " [ 0.  0.  0.  0.  0.  0.  0.  0.]\n",
              " [ 1. -1.  0.  0.  0.  0.  0.  0.]\n",
              " [ 0.  0.  0.  0.  0.  0.  0.  0.]\n",
              " [ 0.  0.  0.  0.  0.  0.  0.  0.]]"
            ]
          },
          "execution_count": 143,
          "metadata": {},
          "output_type": "execute_result"
        }
      ],
      "source": [
        "# check if the decomposition is correct and matches the Hamiltonian \n",
        "\n",
        "import qutip as qt\n",
        "from qutip import qeye, sigmax, sigmay, sigmaz\n",
        "\n",
        "test = -0.25 * qt.tensor(sigmax(), qeye(2), qeye(2)) \\\n",
        "    + 0.25 * qt.tensor(sigmax(), qeye(2), sigmaz()) \\\n",
        "    + 0.25 * qt.tensor(sigmax(), qeye(2), sigmax()) \\\n",
        "    - 0.25 * qt.tensor(sigmax(), sigmaz(), qeye(2)) \\\n",
        "    + 0.25 * qt.tensor(sigmax(), sigmaz(), sigmaz()) \\\n",
        "    + 0.25 * qt.tensor(sigmax(), sigmaz(), sigmax()) \\\n",
        "    - 0.25 * qt.tensor(sigmay(), qeye(2), sigmay()) \\\n",
        "    - 0.25 * qt.tensor(sigmay(), sigmaz(), sigmay())\n",
        "\n",
        "test"
      ]
    },
    {
      "cell_type": "markdown",
      "metadata": {},
      "source": [
        "Thus as we see, the decomposition is exact."
      ]
    },
    {
      "cell_type": "code",
      "execution_count": 144,
      "metadata": {
        "id": "4Z-zwHSItUS1"
      },
      "outputs": [
        {
          "data": {
            "text/plain": [
              "[PauliTerm(pauli=[<Pauli.X: 1>, <Pauli.I: 0>, <Pauli.I: 0>], coefficient=-0.25),\n",
              " PauliTerm(pauli=[<Pauli.X: 1>, <Pauli.I: 0>, <Pauli.Z: 3>], coefficient=0.25),\n",
              " PauliTerm(pauli=[<Pauli.X: 1>, <Pauli.I: 0>, <Pauli.X: 1>], coefficient=0.25),\n",
              " PauliTerm(pauli=[<Pauli.X: 1>, <Pauli.Z: 3>, <Pauli.I: 0>], coefficient=-0.25),\n",
              " PauliTerm(pauli=[<Pauli.X: 1>, <Pauli.Z: 3>, <Pauli.Z: 3>], coefficient=0.25),\n",
              " PauliTerm(pauli=[<Pauli.X: 1>, <Pauli.Z: 3>, <Pauli.X: 1>], coefficient=0.25),\n",
              " PauliTerm(pauli=[<Pauli.Y: 2>, <Pauli.I: 0>, <Pauli.Y: 2>], coefficient=-0.25),\n",
              " PauliTerm(pauli=[<Pauli.Y: 2>, <Pauli.Z: 3>, <Pauli.Y: 2>], coefficient=-0.25)]"
            ]
          },
          "execution_count": 144,
          "metadata": {},
          "output_type": "execute_result"
        }
      ],
      "source": [
        "# converting the hamitonian formed above to a PauliTerm object, useful for simulation using classiq built-in functions\n",
        "\n",
        "CHAR_TO_STUCT_DICT = {\"I\": Pauli.I, \"X\": Pauli.X, \"Y\": Pauli.Y, \"Z\": Pauli.Z}\n",
        "\n",
        "def pauli_str_to_enums(pauli):\n",
        "    return [CHAR_TO_STUCT_DICT[s] for s in pauli]\n",
        "\n",
        "def pauli_list_to_hamiltonian(pauli_list):\n",
        "    return [\n",
        "        PauliTerm(\n",
        "            pauli=pauli_str_to_enums(pauli), coefficient=cast(complex, coeff).real\n",
        "        )\n",
        "        for pauli, coeff in pauli_list\n",
        "    ]\n",
        "\n",
        "Paulis= pauli_list_to_hamiltonian(pauli_list)\n",
        "Paulis\n"
      ]
    },
    {
      "cell_type": "markdown",
      "metadata": {},
      "source": [
        "### Hamiltonian simulation\n",
        "\n",
        "We use the `exponentiation_with_depth_constraint` function of classiq that produces a quantum gate that approximates $e^{iHt}$, for any input **Hermitian operator** $H$ . The Classiq engine automatically generates an efficient higher-order Trotter-Suzuki quantum program that minimizes the functional error and satisfies a given local constraint on the depth. "
      ]
    },
    {
      "cell_type": "code",
      "execution_count": 146,
      "metadata": {},
      "outputs": [],
      "source": [
        "@qfunc\n",
        "def p(x: QNum):\n",
        "    a = QArray(\"a\")\n",
        "    b = QArray(\"b\", QBit)\n",
        "    allocate(3, b)\n",
        "    bind(x, a)\n",
        "    repeat(a.len, lambda i: CX(a[i], b[i]))\n",
        "    control(b[2], lambda: PHASE(np.pi/2, a[2]))\n",
        "    bind(a, x)\n",
        "\n",
        "\n",
        "@qfunc\n",
        "def main( state: Output[QNum] ):\n",
        "    prepare_amplitudes(amplitudes=[np.sqrt(1/2),0,0,0, 0, np.sqrt(1/2),0, 0], out=state, bound=0.01)\n",
        "    p(state)\n",
        "    exponentiation_with_depth_constraint(\n",
        "        pauli_list_to_hamiltonian(pauli_list),\n",
        "        evolution_coefficient=10,\n",
        "        max_depth=1000,\n",
        "        qbv=state,\n",
        "        )\n",
        "\n",
        "qmod = create_model(main)\n",
        "backend_preferences = ClassiqBackendPreferences(backend_name=\"simulator_statevector\")\n",
        "model_pref = set_execution_preferences(qmod, ExecutionPreferences(num_shots=4000, backend_preferences=backend_preferences))\n",
        "qprog = synthesize(model_pref)\n",
        "# show(qprog)"
      ]
    },
    {
      "cell_type": "code",
      "execution_count": 148,
      "metadata": {},
      "outputs": [
        {
          "data": {
            "text/plain": [
              "[{'state': 0.0}: 1507,\n",
              " {'state': 1.0}: 1505,\n",
              " {'state': 5.0}: 965,\n",
              " {'state': 4.0}: 23]"
            ]
          },
          "execution_count": 148,
          "metadata": {},
          "output_type": "execute_result"
        }
      ],
      "source": [
        "job = execute(qprog)\n",
        "results = job.result()[0].value.parsed_counts\n",
        "results"
      ]
    },
    {
      "cell_type": "code",
      "execution_count": 149,
      "metadata": {},
      "outputs": [
        {
          "data": {
            "text/plain": [
              "[SimulatedState(state={'state': 0.0}, bitstring='101000', amplitude=(0.5114846222131033-2.235711615838909e-14j)),\n",
              " SimulatedState(state={'state': 1.0}, bitstring='101001', amplitude=(-0.48485831225661513+2.3098710444369175e-14j)),\n",
              " SimulatedState(state={'state': 5.0}, bitstring='000101', amplitude=(-2.220446049250313e-14-0.48485831225661435j)),\n",
              " SimulatedState(state={'state': 1.0}, bitstring='000001', amplitude=(0.3651965944611225-8.104628079763643e-15j)),\n",
              " SimulatedState(state={'state': 0.0}, bitstring='000000', amplitude=(0.35978644657484327-5.793976409762536e-15j)),\n",
              " SimulatedState(state={'state': 4.0}, bitstring='101100', amplitude=(2.220446049250313e-15+0.0567013748840437j)),\n",
              " SimulatedState(state={'state': 4.0}, bitstring='000100', amplitude=(-1.27675647831893e-15-0.045799315395654336j)),\n",
              " SimulatedState(state={'state': 5.0}, bitstring='101101', amplitude=(-2.498001805406602e-16+0.008991794117074386j)),\n",
              " SimulatedState(state={'state': 2.0}, bitstring='010010', amplitude=(-4.0128358062421837e-16+6.036018828426044e-17j)),\n",
              " SimulatedState(state={'state': 3.0}, bitstring='011011', amplitude=(-4.012835806242178e-16+2.0120062761433495e-17j)),\n",
              " SimulatedState(state={'state': 6.0}, bitstring='110110', amplitude=(2.0120062761406877e-17-3.1008276684598826e-16j)),\n",
              " SimulatedState(state={'state': 7.0}, bitstring='111111', amplitude=(-2.0120062761434182e-17-3.100827668459855e-16j)),\n",
              " SimulatedState(state={'state': 3.0}, bitstring='010011', amplitude=(1.5846814260065202e-16-2.3836427370278916e-17j)),\n",
              " SimulatedState(state={'state': 2.0}, bitstring='011010', amplitude=(-1.5846814260065271e-16+7.945475790089864e-18j)),\n",
              " SimulatedState(state={'state': 6.0}, bitstring='111110', amplitude=(-7.945475790092573e-18-1.22452655645959e-16j)),\n",
              " SimulatedState(state={'state': 7.0}, bitstring='110111', amplitude=(-7.945475790081741e-18+1.2245265564595963e-16j)),\n",
              " SimulatedState(state={'state': 4.0}, bitstring='100100', amplitude=(3.899899050114564e-17-7.79979810022977e-17j)),\n",
              " SimulatedState(state={'state': 5.0}, bitstring='001101', amplitude=(2.900612621489204e-17-2.0076953701739025e-17j)),\n",
              " SimulatedState(state={'state': 1.0}, bitstring='001001', amplitude=(-1.4122449662595234e-17-2.0403372118213267e-17j)),\n",
              " SimulatedState(state={'state': 0.0}, bitstring='001000', amplitude=(-1.2888691466950357e-17-1.862090320021023e-17j)),\n",
              " SimulatedState(state={'state': 7.0}, bitstring='010111', amplitude=(1.8092525041907967e-18+1.2028181882335814e-17j)),\n",
              " SimulatedState(state={'state': 6.0}, bitstring='010110', amplitude=(-1.8092525041906365e-18-1.2028181882333124e-17j)),\n",
              " SimulatedState(state={'state': 7.0}, bitstring='011111', amplitude=(6.030841680655012e-19+1.2028181882344721e-17j)),\n",
              " SimulatedState(state={'state': 6.0}, bitstring='011110', amplitude=(6.030841680648479e-19+1.2028181882340378e-17j)),\n",
              " SimulatedState(state={'state': 3.0}, bitstring='111011', amplitude=(-9.294504181811933e-18+6.030841680620253e-19j)),\n",
              " SimulatedState(state={'state': 2.0}, bitstring='111010', amplitude=(-9.294504181808297e-18+6.03084168064737e-19j)),\n",
              " SimulatedState(state={'state': 3.0}, bitstring='110011', amplitude=(-9.294504181805262e-18-6.030841680623828e-19j)),\n",
              " SimulatedState(state={'state': 2.0}, bitstring='110010', amplitude=(9.29450418180298e-18+6.030841680618774e-19j)),\n",
              " SimulatedState(state={'state': 5.0}, bitstring='100101', amplitude=(-3.1475585962081128e-18+6.2951171924170676e-18j)),\n",
              " SimulatedState(state={'state': 1.0}, bitstring='100001', amplitude=(-5.0847454464324146e-18-2.5423727232160736e-18j)),\n",
              " SimulatedState(state={'state': 0.0}, bitstring='100000', amplitude=(3.71586394843594e-18+1.8579319742174924e-18j)),\n",
              " SimulatedState(state={'state': 4.0}, bitstring='001100', amplitude=(1.898045966541715e-18-1.313756297952847e-18j))]"
            ]
          },
          "execution_count": 149,
          "metadata": {},
          "output_type": "execute_result"
        }
      ],
      "source": [
        "job.result()[0].value.parsed_state_vector  # to get the phases"
      ]
    },
    {
      "cell_type": "code",
      "execution_count": 161,
      "metadata": {},
      "outputs": [
        {
          "data": {
            "text/plain": [
              "{0: (0.8712710687879466-2.816785553937762e-14j),\n",
              " 1: (-0.11966171779549263+1.4971136619764104e-14j),\n",
              " 2: (-5.597517232248764e-16+6.951183241047692e-17j),\n",
              " 3: (-2.6140444638718297e-16-3.716364608845779e-18j),\n",
              " 4: (9.845866073990703e-16+0.010902059488389283j),\n",
              " 5: (-2.2428402105425106e-14-0.47586651813953995j),\n",
              " 6: (1.0968418635188516e-17-4.3253542249193997e-16j),\n",
              " 7: (-2.5653201879259625e-17-1.6357374743534533e-16j)}"
            ]
          },
          "execution_count": 161,
          "metadata": {},
          "output_type": "execute_result"
        }
      ],
      "source": [
        "# to add all amplitudes corresponding to a state and store it in a dictionary \n",
        "\n",
        "def sum_amplitudes_by_state(simulated_states):\n",
        "    state_amplitude_sums = {state: 0 for state in range(8)}\n",
        "    \n",
        "    for sim_state in simulated_states:\n",
        "        state_value = sim_state.state['state']\n",
        "        if state_value in state_amplitude_sums:\n",
        "            state_amplitude_sums[state_value] += sim_state.amplitude\n",
        "    \n",
        "    return state_amplitude_sums\n",
        "\n",
        "d= sum_amplitudes_by_state(job.result()[0].value.parsed_state_vector)\n",
        "\n",
        "d"
      ]
    },
    {
      "cell_type": "code",
      "execution_count": 166,
      "metadata": {},
      "outputs": [
        {
          "data": {
            "text/plain": [
              "array([ 8.71271069e-01+0.00000000e+00j, -1.19661718e-01+1.11025197e-14j,\n",
              "       -5.59751723e-16+6.95118324e-17j, -2.61404446e-16-3.71636461e-18j,\n",
              "        6.32127255e-16+1.09020595e-02j, -7.04382224e-15-4.75866518e-01j,\n",
              "        1.09684186e-17-4.32535422e-16j, -2.56532019e-17-1.63573747e-16j])"
            ]
          },
          "execution_count": 166,
          "metadata": {},
          "output_type": "execute_result"
        }
      ],
      "source": [
        "#Normalizing the final state and taking care of any global phases\n",
        "\n",
        "values = np.array([d[i] for i in range(len(d))])\n",
        "global_phase = np.angle(values)[0]\n",
        "values = values / np.exp(1j * global_phase)\n",
        "values\n",
        "\n",
        "normalization = np.linalg.norm(\n",
        "        [\n",
        "            parsed_state.amplitude\n",
        "            for parsed_state in parsed_state_vector\n",
        "        ]\n",
        "    )\n",
        "\n",
        "\n",
        "Final_state = values / normalization\n",
        "\n",
        "Final_state"
      ]
    },
    {
      "cell_type": "markdown",
      "metadata": {},
      "source": [
        "#### Hamiltonian Simulation using block-encoding:"
      ]
    },
    {
      "cell_type": "markdown",
      "metadata": {},
      "source": [
        "We have our hamiltonian of the form \n",
        "$$\n",
        "H = \\sum^{L-1}_{i=0} \\alpha_i U_i,\n",
        "$$\n",
        "where $U_i$ are Pauli strings. We use Linear Combination of Unitaries (LCU) to form the block-encoding of $H$\n",
        "\n",
        "LCU refers to $(\\bar{\\alpha}, m, 0)$-block encoding of a matrix given as a sum of unitaries:\n",
        "$$\n",
        "U_{(\\bar{\\alpha},m,0)-H} =\\begin{pmatrix}\n",
        "H/\\bar{\\alpha} & * \\\\\n",
        "* & *\n",
        "\\end{pmatrix}, \\text{   for     } H = \\sum^{L-1}_{i=0} \\alpha_i U_i, \\,\\,\\,\\,\\, \\alpha_i\\geq 0\n",
        "$$\n",
        "with $\\bar{\\alpha}\\equiv\\sum^{L-1}_{i=0}\\alpha_i$ and $m= \\lceil\\log_2(L) \\rceil$. \n",
        "___\n",
        "\n",
        "#TODO add relevant details on LCU methodology from [LCU tutorial](https://github.com/Classiq/classiq-library/blob/main/tutorials/linear_combination_of_unitaries/linear_combination_of_unitaries.ipynb)"
      ]
    },
    {
      "cell_type": "code",
      "execution_count": 128,
      "metadata": {},
      "outputs": [
        {
          "name": "stdout",
          "output_type": "stream",
          "text": [
            "The prepared probabilities: [0.125, 0.125, 0.125, 0.125, 0.125, 0.125, 0.125, 0.125]\n",
            "The size of the block encoding: 3\n",
            "The normalized coefficients: [0.125, 0.125, 0.125, 0.125, 0.125, 0.125, 0.125, 0.125]\n",
            "The normalization factor: 2.0\n"
          ]
        },
        {
          "data": {
            "text/plain": [
              "3"
            ]
          },
          "execution_count": 128,
          "metadata": {},
          "output_type": "execute_result"
        }
      ],
      "source": [
        "# getting the normalized coefficents representing probabilities for the prepare block of LCU\n",
        "\n",
        "import numpy as np\n",
        "\n",
        "\n",
        "def get_normalized_lcu_coef(lcu_coef):\n",
        "    # Calculate the normalization factor as the sum of moduli of the complex numbers\n",
        "    normalization_factor = sum(np.abs(c) for c in lcu_coef)\n",
        " \n",
        "    # Calculate the prepare_prob list as specified\n",
        "    prepare_prob = [(np.abs(c) / normalization_factor) for c in lcu_coef]\n",
        "    \n",
        "    # Print the prepare_prob list\n",
        "    print(\"The prepared probabilities:\", prepare_prob)\n",
        "    \n",
        "    # Calculate the size of the block encoding\n",
        "    coef_size = int(np.ceil(np.log2(len(prepare_prob))))\n",
        "    \n",
        "    # Pad prepare_prob with zeros to make its length a power of 2\n",
        "    prepare_prob += [0] * (2**coef_size - len(prepare_prob))\n",
        "    \n",
        "    # Print the details\n",
        "    print(\"The size of the block encoding:\", coef_size)\n",
        "    print(\"The normalized coefficients:\", prepare_prob)\n",
        "    print(\"The normalization factor:\", normalization_factor)\n",
        "    \n",
        "    return normalization_factor, coef_size, prepare_prob\n",
        "\n",
        "lcu_pauli_coef = [p.coefficient for p in Paulis]\n",
        "\n",
        "normalization_ham, lcu_size_ham, prepare_probs_ham = get_normalized_lcu_coef(\n",
        "    lcu_pauli_coef\n",
        ")\n",
        "\n",
        "lcu_size_ham\n"
      ]
    },
    {
      "cell_type": "code",
      "execution_count": 129,
      "metadata": {},
      "outputs": [],
      "source": [
        "@qfunc\n",
        "def apply_pauli_term(pauli_string: PauliTerm, x: QArray[QBit]):\n",
        "    repeat(\n",
        "        count=x.len,\n",
        "        iteration=lambda index: switch(\n",
        "            pauli_string.pauli[index],\n",
        "            [\n",
        "                lambda: IDENTITY(x[pauli_string.pauli.len - index - 1]),\n",
        "                lambda: X(x[pauli_string.pauli.len - index - 1]),\n",
        "                lambda: Y(x[pauli_string.pauli.len - index - 1]),\n",
        "                lambda: Z(x[pauli_string.pauli.len - index - 1]),\n",
        "            ],\n",
        "        ),\n",
        "    )\n",
        "    \n",
        "@qfunc\n",
        "def lcu_paulis(\n",
        "    pauli_terms_list: CArray[PauliTerm],\n",
        "    probs: CArray[CReal],\n",
        "    block: QNum,\n",
        "    data: QArray[QBit],\n",
        "):\n",
        "    within_apply(\n",
        "        lambda: inplace_prepare_state(probs, 0.0, block),\n",
        "        lambda: repeat(\n",
        "            count=pauli_terms_list.len,\n",
        "            iteration=lambda i: control(\n",
        "                block == i, lambda: apply_pauli_term(pauli_terms_list[i], data)\n",
        "            ),       \n",
        "            ),\n",
        "    )\n",
        "      "
      ]
    },
    {
      "cell_type": "code",
      "execution_count": 130,
      "metadata": {},
      "outputs": [
        {
          "name": "stdout",
          "output_type": "stream",
          "text": [
            "The prepared probabilities: [0.027479190671058543, 0.021991005575390094, 0.052759280784578075, 0.03254286173230571, 0.04299642226488636, 0.04974143063826026, 0.018125706945756232, 0.06061685480571399, 0.02430609141824357, 0.04117198167111915, 0.0613608749222508, 0.020188893251131657, 0.03915309234600598, 0.06717260406633883, 0.048171292940234506, 0.00026720604998948535, 0.04777048386525028, 0.07669998023438993, 0.08261948253321262, 0.0720150883253928, 0.05420918528503369, 0.036403282244674574, 0.022237707428782914]\n",
            "The size of the block encoding: 5\n",
            "The normalized coefficients: [0.027479190671058543, 0.021991005575390094, 0.052759280784578075, 0.03254286173230571, 0.04299642226488636, 0.04974143063826026, 0.018125706945756232, 0.06061685480571399, 0.02430609141824357, 0.04117198167111915, 0.0613608749222508, 0.020188893251131657, 0.03915309234600598, 0.06717260406633883, 0.048171292940234506, 0.00026720604998948535, 0.04777048386525028, 0.07669998023438993, 0.08261948253321262, 0.0720150883253928, 0.05420918528503369, 0.036403282244674574, 0.022237707428782914, 0, 0, 0, 0, 0, 0, 0, 0, 0]\n",
            "The normalization factor: 6.078223567060724\n"
          ]
        },
        {
          "data": {
            "text/plain": [
              "[0.027479190671058543,\n",
              " 0.021991005575390094,\n",
              " 0.052759280784578075,\n",
              " 0.03254286173230571,\n",
              " 0.04299642226488636,\n",
              " 0.04974143063826026,\n",
              " 0.018125706945756232,\n",
              " 0.06061685480571399,\n",
              " 0.02430609141824357,\n",
              " 0.04117198167111915,\n",
              " 0.0613608749222508,\n",
              " 0.020188893251131657,\n",
              " 0.03915309234600598,\n",
              " 0.06717260406633883,\n",
              " 0.048171292940234506,\n",
              " 0.00026720604998948535,\n",
              " 0.04777048386525028,\n",
              " 0.07669998023438993,\n",
              " 0.08261948253321262,\n",
              " 0.0720150883253928,\n",
              " 0.05420918528503369,\n",
              " 0.036403282244674574,\n",
              " 0.022237707428782914,\n",
              " 0,\n",
              " 0,\n",
              " 0,\n",
              " 0,\n",
              " 0,\n",
              " 0,\n",
              " 0,\n",
              " 0,\n",
              " 0]"
            ]
          },
          "execution_count": 130,
          "metadata": {},
          "output_type": "execute_result"
        }
      ],
      "source": [
        "@qfunc\n",
        "def my_walk_operator(block: QArray[QBit], data: QArray[QBit]) -> None:\n",
        "    lcu_paulis(Paulis, prepare_probs_ham, block, data)\n",
        "    reflect_about_zero(block)\n",
        "    RY(2 * np.pi, block[0])  # for the minus sign\n",
        "\n",
        "from scipy.special import eval_chebyt, jv\n",
        "\n",
        "\n",
        "def get_cheb_coef(epsilon, t):\n",
        "    poly_degree = int(\n",
        "        np.ceil(\n",
        "            t\n",
        "            + np.log(epsilon ** (-1)) / np.log(np.exp(1) + np.log(epsilon ** (-1)) / t)\n",
        "        )\n",
        "    )\n",
        "    cos_coef = [jv(0, t)] + [\n",
        "        2 * jv(2 * k, t) * (-1) ** k for k in range(1, poly_degree // 2 + 1)\n",
        "    ]\n",
        "    sin_coef = [\n",
        "        -2 * jv(2 * k - 1, t) * (-1) ** k for k in range(1, poly_degree // 2 + 1)\n",
        "    ]\n",
        "    return cos_coef, sin_coef\n",
        "\n",
        "EVOLUTION_TIME = 10\n",
        "EPS = 0.1\n",
        "\n",
        "\n",
        "normalized_time = normalization_ham * EVOLUTION_TIME\n",
        "\n",
        "cos_coef, sin_coef = get_cheb_coef(EPS, normalized_time)\n",
        "combined_sin_cos_coef = []\n",
        "\n",
        "for k in range(len(cos_coef) - 1):\n",
        "    combined_sin_cos_coef.append(cos_coef[k])\n",
        "    combined_sin_cos_coef.append(sin_coef[k])\n",
        "combined_sin_cos_coef.append(cos_coef[-1])\n",
        "if len(sin_coef) == len(cos_coef):\n",
        "    combined_sin_cos_coef.append(sin_coef[-1])\n",
        "\n",
        "\n",
        "signs_cheb_coef = np.sign(combined_sin_cos_coef).tolist()\n",
        "generalized_signs = [\n",
        "    (1 - signs_cheb_coef[s]) + (s) % 2 for s in range(len(signs_cheb_coef))\n",
        "]\n",
        "positive_cheb_lcu_coef = np.abs(combined_sin_cos_coef)\n",
        "\n",
        "\n",
        "normalization_exp, lcu_size_exp, prepare_probs_exp = get_normalized_lcu_coef(\n",
        "    positive_cheb_lcu_coef\n",
        ")\n",
        "\n",
        "@qfunc\n",
        "def lcu_cheb(\n",
        "    coef: CArray[CReal],\n",
        "    generalized_signs: CArray[CInt],\n",
        "    walk_operator: QCallable[QNum, QArray],\n",
        "    walk_block: QNum,\n",
        "    walk_data: QArray,\n",
        "    cheb_block: QNum,\n",
        "):\n",
        "\n",
        "    within_apply(\n",
        "        lambda: inplace_prepare_state(coef, 0.0, cheb_block),\n",
        "        lambda: repeat(\n",
        "            generalized_signs.len,\n",
        "            lambda k: control(\n",
        "                cheb_block == k,\n",
        "                lambda: (\n",
        "                    U(0, 0, 0, np.pi / 2 * generalized_signs[k], walk_data[0]),\n",
        "                    power(k, lambda: walk_operator(walk_block, walk_data)),\n",
        "                ),\n",
        "            ),\n",
        "        ),\n",
        "    )\n",
        "\n",
        "# lcu_size_exp\n",
        "\n",
        "# prepare_probs_exp"
      ]
    },
    {
      "cell_type": "code",
      "execution_count": 131,
      "metadata": {
        "id": "KAzl4LrKtUS1",
        "outputId": "ce3c2c71-e3d4-45ed-9a58-2bd7e50429b1"
      },
      "outputs": [
        {
          "ename": "ClassiqAPIError",
          "evalue": "An unknown error occurred.\n\nError identifier: E373B9B32-1ADC-4E75-ADC8-A06DC7D575D1.\nIf you need further assistance, please reach out on our Community Slack channel at: https://short.classiq.io/join-slack",
          "output_type": "error",
          "traceback": [
            "\u001b[0;31m---------------------------------------------------------------------------\u001b[0m",
            "\u001b[0;31mClassiqAPIError\u001b[0m                           Traceback (most recent call last)",
            "Cell \u001b[0;32mIn[131], line 34\u001b[0m\n\u001b[1;32m     31\u001b[0m model \u001b[38;5;241m=\u001b[39m create_model(main)\n\u001b[1;32m     32\u001b[0m qmod \u001b[38;5;241m=\u001b[39m set_preferences(model, preferences)\n\u001b[0;32m---> 34\u001b[0m qprog \u001b[38;5;241m=\u001b[39m \u001b[43msynthesize\u001b[49m\u001b[43m(\u001b[49m\u001b[43mqmod\u001b[49m\u001b[43m)\u001b[49m\n\u001b[1;32m     35\u001b[0m \u001b[38;5;66;03m# show(qprog)\u001b[39;00m\n",
            "File \u001b[0;32m~/PEDIA/quantum-annealing/.conda/lib/python3.11/site-packages/classiq/_internals/async_utils.py:45\u001b[0m, in \u001b[0;36msyncify_function.<locals>.async_wrapper\u001b[0;34m(*args, **kwargs)\u001b[0m\n\u001b[1;32m     43\u001b[0m \u001b[38;5;129m@functools\u001b[39m\u001b[38;5;241m.\u001b[39mwraps(async_func)\n\u001b[1;32m     44\u001b[0m \u001b[38;5;28;01mdef\u001b[39;00m \u001b[38;5;21masync_wrapper\u001b[39m(\u001b[38;5;241m*\u001b[39margs: Any, \u001b[38;5;241m*\u001b[39m\u001b[38;5;241m*\u001b[39mkwargs: Any) \u001b[38;5;241m-\u001b[39m\u001b[38;5;241m>\u001b[39m T:\n\u001b[0;32m---> 45\u001b[0m     \u001b[38;5;28;01mreturn\u001b[39;00m \u001b[43mrun\u001b[49m\u001b[43m(\u001b[49m\u001b[43masync_func\u001b[49m\u001b[43m(\u001b[49m\u001b[38;5;241;43m*\u001b[39;49m\u001b[43margs\u001b[49m\u001b[43m,\u001b[49m\u001b[43m \u001b[49m\u001b[38;5;241;43m*\u001b[39;49m\u001b[38;5;241;43m*\u001b[39;49m\u001b[43mkwargs\u001b[49m\u001b[43m)\u001b[49m\u001b[43m)\u001b[49m\n",
            "File \u001b[0;32m~/PEDIA/quantum-annealing/.conda/lib/python3.11/site-packages/classiq/_internals/async_utils.py:39\u001b[0m, in \u001b[0;36mrun\u001b[0;34m(coro)\u001b[0m\n\u001b[1;32m     34\u001b[0m \u001b[38;5;28;01mdef\u001b[39;00m \u001b[38;5;21mrun\u001b[39m(coro: Awaitable[T]) \u001b[38;5;241m-\u001b[39m\u001b[38;5;241m>\u001b[39m T:\n\u001b[1;32m     35\u001b[0m     \u001b[38;5;66;03m# Use this function instead of asyncio.run, since it ALWAYS\u001b[39;00m\n\u001b[1;32m     36\u001b[0m     \u001b[38;5;66;03m# creates a new event loop and clears the thread event loop.\u001b[39;00m\n\u001b[1;32m     37\u001b[0m     \u001b[38;5;66;03m# Never use asyncio.run in library code.\u001b[39;00m\n\u001b[1;32m     38\u001b[0m     loop \u001b[38;5;241m=\u001b[39m get_event_loop()\n\u001b[0;32m---> 39\u001b[0m     \u001b[38;5;28;01mreturn\u001b[39;00m \u001b[43mloop\u001b[49m\u001b[38;5;241;43m.\u001b[39;49m\u001b[43mrun_until_complete\u001b[49m\u001b[43m(\u001b[49m\u001b[43mcoro\u001b[49m\u001b[43m)\u001b[49m\n",
            "File \u001b[0;32m~/PEDIA/quantum-annealing/.conda/lib/python3.11/site-packages/nest_asyncio.py:98\u001b[0m, in \u001b[0;36m_patch_loop.<locals>.run_until_complete\u001b[0;34m(self, future)\u001b[0m\n\u001b[1;32m     95\u001b[0m \u001b[38;5;28;01mif\u001b[39;00m \u001b[38;5;129;01mnot\u001b[39;00m f\u001b[38;5;241m.\u001b[39mdone():\n\u001b[1;32m     96\u001b[0m     \u001b[38;5;28;01mraise\u001b[39;00m \u001b[38;5;167;01mRuntimeError\u001b[39;00m(\n\u001b[1;32m     97\u001b[0m         \u001b[38;5;124m'\u001b[39m\u001b[38;5;124mEvent loop stopped before Future completed.\u001b[39m\u001b[38;5;124m'\u001b[39m)\n\u001b[0;32m---> 98\u001b[0m \u001b[38;5;28;01mreturn\u001b[39;00m \u001b[43mf\u001b[49m\u001b[38;5;241;43m.\u001b[39;49m\u001b[43mresult\u001b[49m\u001b[43m(\u001b[49m\u001b[43m)\u001b[49m\n",
            "File \u001b[0;32m~/PEDIA/quantum-annealing/.conda/lib/python3.11/asyncio/futures.py:203\u001b[0m, in \u001b[0;36mFuture.result\u001b[0;34m(self)\u001b[0m\n\u001b[1;32m    201\u001b[0m \u001b[38;5;28mself\u001b[39m\u001b[38;5;241m.\u001b[39m__log_traceback \u001b[38;5;241m=\u001b[39m \u001b[38;5;28;01mFalse\u001b[39;00m\n\u001b[1;32m    202\u001b[0m \u001b[38;5;28;01mif\u001b[39;00m \u001b[38;5;28mself\u001b[39m\u001b[38;5;241m.\u001b[39m_exception \u001b[38;5;129;01mis\u001b[39;00m \u001b[38;5;129;01mnot\u001b[39;00m \u001b[38;5;28;01mNone\u001b[39;00m:\n\u001b[0;32m--> 203\u001b[0m     \u001b[38;5;28;01mraise\u001b[39;00m \u001b[38;5;28mself\u001b[39m\u001b[38;5;241m.\u001b[39m_exception\u001b[38;5;241m.\u001b[39mwith_traceback(\u001b[38;5;28mself\u001b[39m\u001b[38;5;241m.\u001b[39m_exception_tb)\n\u001b[1;32m    204\u001b[0m \u001b[38;5;28;01mreturn\u001b[39;00m \u001b[38;5;28mself\u001b[39m\u001b[38;5;241m.\u001b[39m_result\n",
            "File \u001b[0;32m~/PEDIA/quantum-annealing/.conda/lib/python3.11/asyncio/tasks.py:277\u001b[0m, in \u001b[0;36mTask.__step\u001b[0;34m(***failed resolving arguments***)\u001b[0m\n\u001b[1;32m    273\u001b[0m \u001b[38;5;28;01mtry\u001b[39;00m:\n\u001b[1;32m    274\u001b[0m     \u001b[38;5;28;01mif\u001b[39;00m exc \u001b[38;5;129;01mis\u001b[39;00m \u001b[38;5;28;01mNone\u001b[39;00m:\n\u001b[1;32m    275\u001b[0m         \u001b[38;5;66;03m# We use the `send` method directly, because coroutines\u001b[39;00m\n\u001b[1;32m    276\u001b[0m         \u001b[38;5;66;03m# don't have `__iter__` and `__next__` methods.\u001b[39;00m\n\u001b[0;32m--> 277\u001b[0m         result \u001b[38;5;241m=\u001b[39m coro\u001b[38;5;241m.\u001b[39msend(\u001b[38;5;28;01mNone\u001b[39;00m)\n\u001b[1;32m    278\u001b[0m     \u001b[38;5;28;01melse\u001b[39;00m:\n\u001b[1;32m    279\u001b[0m         result \u001b[38;5;241m=\u001b[39m coro\u001b[38;5;241m.\u001b[39mthrow(exc)\n",
            "File \u001b[0;32m~/PEDIA/quantum-annealing/.conda/lib/python3.11/site-packages/classiq/synthesis.py:20\u001b[0m, in \u001b[0;36msynthesize_async\u001b[0;34m(serialized_model)\u001b[0m\n\u001b[1;32m     16\u001b[0m \u001b[38;5;28;01masync\u001b[39;00m \u001b[38;5;28;01mdef\u001b[39;00m \u001b[38;5;21msynthesize_async\u001b[39m(\n\u001b[1;32m     17\u001b[0m     serialized_model: SerializedModel,\n\u001b[1;32m     18\u001b[0m ) \u001b[38;5;241m-\u001b[39m\u001b[38;5;241m>\u001b[39m SerializedQuantumProgram:\n\u001b[1;32m     19\u001b[0m     model \u001b[38;5;241m=\u001b[39m pydantic\u001b[38;5;241m.\u001b[39mparse_raw_as(Model, serialized_model)\n\u001b[0;32m---> 20\u001b[0m     quantum_program \u001b[38;5;241m=\u001b[39m \u001b[38;5;28;01mawait\u001b[39;00m ApiWrapper\u001b[38;5;241m.\u001b[39mcall_generation_task(model)\n\u001b[1;32m     21\u001b[0m     \u001b[38;5;28;01mreturn\u001b[39;00m SerializedQuantumProgram(quantum_program\u001b[38;5;241m.\u001b[39mjson(indent\u001b[38;5;241m=\u001b[39m\u001b[38;5;241m2\u001b[39m))\n",
            "File \u001b[0;32m~/PEDIA/quantum-annealing/.conda/lib/python3.11/site-packages/classiq/_internals/api_wrapper.py:102\u001b[0m, in \u001b[0;36mApiWrapper.call_generation_task\u001b[0;34m(cls, model)\u001b[0m\n\u001b[1;32m    100\u001b[0m poller \u001b[38;5;241m=\u001b[39m JobPoller(base_url\u001b[38;5;241m=\u001b[39mroutes\u001b[38;5;241m.\u001b[39mTASKS_GENERATE_FULL_PATH)\n\u001b[1;32m    101\u001b[0m result \u001b[38;5;241m=\u001b[39m \u001b[38;5;28;01mawait\u001b[39;00m poller\u001b[38;5;241m.\u001b[39mrun_pydantic(model, timeout_sec\u001b[38;5;241m=\u001b[39m\u001b[38;5;28;01mNone\u001b[39;00m)\n\u001b[0;32m--> 102\u001b[0m \u001b[38;5;28;01mreturn\u001b[39;00m \u001b[43m_parse_job_response\u001b[49m\u001b[43m(\u001b[49m\u001b[43mresult\u001b[49m\u001b[43m,\u001b[49m\u001b[43m \u001b[49m\u001b[43mgenerator_result\u001b[49m\u001b[38;5;241;43m.\u001b[39;49m\u001b[43mQuantumProgram\u001b[49m\u001b[43m)\u001b[49m\n",
            "File \u001b[0;32m~/PEDIA/quantum-annealing/.conda/lib/python3.11/site-packages/classiq/_internals/api_wrapper.py:52\u001b[0m, in \u001b[0;36m_parse_job_response\u001b[0;34m(job_result, output_type)\u001b[0m\n\u001b[1;32m     50\u001b[0m     \u001b[38;5;28;01mreturn\u001b[39;00m output_type\u001b[38;5;241m.\u001b[39mparse_obj(job_result\u001b[38;5;241m.\u001b[39mresult)\n\u001b[1;32m     51\u001b[0m \u001b[38;5;28;01mif\u001b[39;00m job_result\u001b[38;5;241m.\u001b[39mfailure_details:\n\u001b[0;32m---> 52\u001b[0m     \u001b[38;5;28;01mraise\u001b[39;00m ClassiqAPIError(job_result\u001b[38;5;241m.\u001b[39mfailure_details)\n\u001b[1;32m     54\u001b[0m \u001b[38;5;28;01mraise\u001b[39;00m ClassiqAPIError(\u001b[38;5;124m\"\u001b[39m\u001b[38;5;124mUnexpected response from server\u001b[39m\u001b[38;5;124m\"\u001b[39m)\n",
            "\u001b[0;31mClassiqAPIError\u001b[0m: An unknown error occurred.\n\nError identifier: E373B9B32-1ADC-4E75-ADC8-A06DC7D575D1.\nIf you need further assistance, please reach out on our Community Slack channel at: https://short.classiq.io/join-slack"
          ]
        }
      ],
      "source": [
        "@qfunc\n",
        "def p(x: QNum):\n",
        "    a = QArray(\"a\")\n",
        "    b = QArray(\"b\", QBit)\n",
        "    allocate(3, b)\n",
        "    bind(x, a)\n",
        "    repeat(a.len, lambda i: CX(a[i], b[i]))\n",
        "    control(b[2], lambda: PHASE(np.pi/2, a[2]))\n",
        "    bind(a, x)\n",
        "\n",
        "\n",
        "@qfunc\n",
        "def main(ham_block: Output[QNum], state: Output[QNum], exp_block: Output[QNum]):\n",
        "    prepare_amplitudes(amplitudes=[np.sqrt(1/2),0,0,0,0,np.sqrt(1/2),0,0], out=state, bound=0.01)\n",
        "    p(state)\n",
        "    allocate(lcu_size_exp, exp_block)\n",
        "    allocate(lcu_size_ham, ham_block)\n",
        "    lcu_cheb(\n",
        "        prepare_probs_exp,\n",
        "        generalized_signs,\n",
        "        lambda x, y: my_walk_operator(x, y),\n",
        "        ham_block,\n",
        "        state,\n",
        "        exp_block,\n",
        "    )\n",
        "    \n",
        "\n",
        "preferences = Preferences(\n",
        "   timeout_seconds= 600\n",
        ")\n",
        "model = create_model(main)\n",
        "qmod = set_preferences(model, preferences)\n",
        "\n",
        "qprog = synthesize(qmod)\n",
        "# show(qprog)"
      ]
    },
    {
      "cell_type": "code",
      "execution_count": 12,
      "metadata": {},
      "outputs": [
        {
          "name": "stdout",
          "output_type": "stream",
          "text": [
            "Opening: https://platform.classiq.io/circuit/74dbe59e-1a66-4bfd-8a30-1e619c6a130c?version=0.43.3\n"
          ]
        }
      ],
      "source": [
        "show(qprog)"
      ]
    },
    {
      "cell_type": "code",
      "execution_count": null,
      "metadata": {},
      "outputs": [],
      "source": [
        "results = execute(qprog).result()\n",
        "results"
      ]
    },
    {
      "cell_type": "code",
      "execution_count": null,
      "metadata": {},
      "outputs": [],
      "source": [
        "expected_state = (\n",
        "    1 / normalization_exp * scipy.linalg.expm(1j * H * EVOLUTION_TIME) @ init_state\n",
        ")"
      ]
    },
    {
      "cell_type": "code",
      "execution_count": null,
      "metadata": {
        "id": "kCIvI1vDtUS1",
        "outputId": "35942488-900b-45de-d159-ebd3dde94ab4"
      },
      "outputs": [],
      "source": [
        "##Post Processing\n",
        "\n",
        "\n",
        "def get_projected_state_vector(\n",
        "    execution_result,\n",
        "    measured_var: str,\n",
        "    projections: dict,\n",
        ") -> np.ndarray:\n",
        "    \"\"\"\n",
        "    This function returns a reduced statevector from execution results.\n",
        "    measured var: the name of the reduced variable\n",
        "    projections: on which values of the other variables to project, e.g., {\"ind\": 1}\n",
        "    \"\"\"\n",
        "    projected_size = len(execution_result[0].value.output_qubits_map[measured_var])\n",
        "    proj_statevector = np.zeros(2**projected_size).astype(complex)\n",
        "    for sample in execution_result[0].value.parsed_state_vector:\n",
        "        if all(sample.state[key] == projections[key] for key in projections.keys()):\n",
        "            proj_statevector[int(sample.state[measured_var])] += sample.amplitude\n",
        "    return proj_statevector\n",
        "\n",
        "\n",
        "\n",
        "results = execute(qprog).result()\n",
        "state_result = get_projected_state_vector(\n",
        "    results, \"state\", {\"exp_block\": 0.0, \"ham_block\": 0.0}\n",
        ")\n",
        "\n",
        "# expected state after evolution\n",
        "expected_state = (\n",
        "    1 / normalization_exp * scipy.linalg.expm(1j * H * EVOLUTION_TIME) @ init_state\n",
        ")\n",
        "relative_phase = np.angle(expected_state[0] / state_result[0])\n",
        "state_result = state_result * np.exp(\n",
        "    1j * relative_phase\n",
        ")  # rotate according to a global phase\n",
        "\n",
        "print(\"expected state:\", expected_state)\n",
        "print(\"resulting state:\", state_result)\n",
        "assert np.linalg.norm(state_result - expected_state) < EPS"
      ]
    },
    {
      "cell_type": "code",
      "execution_count": null,
      "metadata": {},
      "outputs": [],
      "source": [
        "import pyqsp\n",
        "from pyqsp.angle_sequence import Polynomial, QuantumSignalProcessingPhases\n",
        "\n",
        "pg_cos = pyqsp.poly.PolyCosineTX()\n",
        "pcoefs_cos, scale_cos = pg_cos.generate(\n",
        "    epsilon=EPS, tau=normalized_time, return_scale=True\n",
        ")\n",
        "poly_cos = Polynomial(pcoefs_cos)\n",
        "\n",
        "pg_sin = pyqsp.poly.PolySineTX()\n",
        "pcoefs_sin, scale_sin = pg_sin.generate(\n",
        "    epsilon=EPS, tau=normalized_time, return_scale=True\n",
        ")\n",
        "poly_sin = Polynomial(pcoefs_sin)"
      ]
    },
    {
      "cell_type": "code",
      "execution_count": null,
      "metadata": {},
      "outputs": [],
      "source": [
        "ang_seq_cos = QuantumSignalProcessingPhases(\n",
        "    poly_cos,\n",
        "    signal_operator=\"Wx\",\n",
        "    method=\"laurent\",\n",
        "    measurement=\"x\",\n",
        "    tolerance=0.00001,  # relaxing the tolerance to get convergence\n",
        ")\n",
        "\n",
        "ang_seq_sin = QuantumSignalProcessingPhases(\n",
        "    poly_sin,\n",
        "    signal_operator=\"Wx\",\n",
        "    method=\"laurent\",\n",
        "    measurement=\"x\",\n",
        "    tolerance=0.00001,  # relaxing the tolerance to get convergence\n",
        ")\n",
        "\n",
        "\n",
        "# change W(x) to R(x), as the phases are in the W(x) conventions see Eq.()\n",
        "def convert_phases_to_Rx_convention(ang_seq):\n",
        "\n",
        "    phases = np.array(ang_seq)\n",
        "    phases[1:-1] = phases[1:-1] - np.pi / 2\n",
        "    phases[0] = phases[0] - np.pi / 4\n",
        "    phases[-1] = phases[-1] + (2 * (len(phases) - 1) - 1) * np.pi / 4\n",
        "\n",
        "    # verify conventions. minus is due to exp(-i*phi*z) in qsvt in comparison to qsp\n",
        "    phases = -2 * phases\n",
        "\n",
        "    return phases.tolist()\n",
        "\n",
        "phases_cos = convert_phases_to_Rx_convention(ang_seq_cos)\n",
        "phases_sin = convert_phases_to_Rx_convention(ang_seq_sin)"
      ]
    },
    {
      "cell_type": "code",
      "execution_count": null,
      "metadata": {},
      "outputs": [],
      "source": [
        "@qfunc\n",
        "def identify_block(num_data_qubits: CInt, qvar: QArray[QBit], qbit: QBit):\n",
        "    block_qubits = QNum(\"block_qubits\", qvar.len - num_data_qubits, False, 0)\n",
        "    data = QArray(\"data\", length=num_data_qubits)\n",
        "\n",
        "    bind(qvar, [block_qubits, data])\n",
        "    qbit ^= block_qubits == 0\n",
        "    bind([block_qubits, data], qvar)\n",
        "\n",
        "\n",
        "# defining a qsvt for the specific example\n",
        "@qfunc\n",
        "def my_qsvt(phases: CArray[CReal], qsvt_aux: QBit, block_ham: QArray, data: QArray):\n",
        "    combined_vars = QArray(\"combined_vars\")\n",
        "    bind([block_ham, data], combined_vars)\n",
        "\n",
        "    qsvt(\n",
        "        phase_seq=phases,\n",
        "        proj_cnot_1=lambda qvar, qbit: identify_block(data.len, qvar, qbit),\n",
        "        proj_cnot_2=lambda qvar, qbit: identify_block(data.len, qvar, qbit),\n",
        "        u=lambda x: lcu_paulis(\n",
        "            Paulis,\n",
        "            prepare_probs_ham,\n",
        "            x[0 : block_ham.len],\n",
        "            x[block_ham.len : x.len],\n",
        "        ),\n",
        "        qvar=combined_vars,\n",
        "        aux=qsvt_aux,\n",
        "    )\n",
        "\n",
        "    bind(combined_vars, [block_ham, data])"
      ]
    },
    {
      "cell_type": "code",
      "execution_count": null,
      "metadata": {},
      "outputs": [],
      "source": [
        "@qfunc\n",
        "def main(\n",
        "    qsvt_aux: Output[QBit],\n",
        "    block_ham: Output[QNum],\n",
        "    state: Output[QNum],\n",
        "    block_exp: Output[QBit],\n",
        "):\n",
        "    allocate(1, qsvt_aux)\n",
        "    allocate(1, block_exp)\n",
        "    allocate(lcu_size_ham, block_ham)\n",
        "    prepare_amplitudes(b, 0.0, state)\n",
        "    within_apply(\n",
        "        lambda: H(block_exp),\n",
        "        lambda: (\n",
        "            control(\n",
        "                block_exp == 0,  # cosine\n",
        "                lambda: my_qsvt(phases_cos, qsvt_aux, block_ham, state),\n",
        "            ),\n",
        "            control(\n",
        "                block_exp == 1,  # sine\n",
        "                lambda: (\n",
        "                    U(0, 0, 0, pi / 2, qsvt_aux),  # for the i factor\n",
        "                    my_qsvt(phases_sin, qsvt_aux, block_ham, state),\n",
        "                ),\n",
        "            ),\n",
        "        ),\n",
        "    )"
      ]
    },
    {
      "cell_type": "markdown",
      "metadata": {
        "id": "DDZoM0GItUS2"
      },
      "source": [
        "### Classical solution using normal modes"
      ]
    },
    {
      "cell_type": "code",
      "execution_count": 117,
      "metadata": {
        "id": "j8h8OfoitUS2",
        "outputId": "77233bee-f369-4c79-a253-3b8318978c83"
      },
      "outputs": [
        {
          "data": {
            "image/png": "[encoded data removed]",
            "text/plain": [
              "<Figure size 1000x600 with 1 Axes>"
            ]
          },
          "metadata": {},
          "output_type": "display_data"
        },
        {
          "data": {
            "image/png": "[encoded data removed]",
            "text/plain": [
              "<Figure size 1000x600 with 1 Axes>"
            ]
          },
          "metadata": {},
          "output_type": "display_data"
        },
        {
          "name": "stdout",
          "output_type": "stream",
          "text": [
            "Final position of oscillator 1: 0.4975156689337027\n",
            "Final position of oscillator 2: -0.502484331066297\n",
            "Final velocity of oscillator 1: -0.707098052746793\n",
            "Final velocity of oscillator 2: -0.7070980527467927\n"
          ]
        }
      ],
      "source": [
        "import numpy as np\n",
        "import matplotlib.pyplot as plt\n",
        "\n",
        "# Parameters\n",
        "m1 =1.0  # Mass of first oscillator\n",
        "m2 = 1.0  # Mass of second oscillator\n",
        "k1 = 0.0  # Spring constant for first oscillator\n",
        "k2 = 0.0  # Spring constant for second oscillator\n",
        "k12 = 1.0  # Coupling spring constant\n",
        "\n",
        "# Calculate the coefficients of the quadratic equation for omega^2 (obtained from eigenvalue equation)\n",
        "\n",
        "a = m1 * m2\n",
        "b = -(m1 * (k2 + k12) + m2 * (k1 + k12))\n",
        "c = (k1 + k12) * (k2 + k12) - k12 ** 2\n",
        "\n",
        "# Solve for omega^2 (eigenvalues)\n",
        "omega_squared = np.roots([a, b, c])\n",
        "omega1 = np.sqrt(omega_squared[0])\n",
        "omega2 = np.sqrt(omega_squared[1])\n",
        "\n",
        "# Calculate the mode shapes (eigenvectors)\n",
        "A1 = np.array([k1 + k12 - m1 * omega1 ** 2, -k12])\n",
        "A2 = np.array([k1 + k12 - m1 * omega2 ** 2, -k12])\n",
        "A1 = A1 / np.linalg.norm(A1)\n",
        "A2 = A2 / np.linalg.norm(A2)\n",
        "\n",
        "# Initial conditions\n",
        "x1_0 = 1.0  # Initial position of first oscillator\n",
        "v1_0 = 1.0  # Initial velocity of first oscillator\n",
        "x2_0 = 0.0  # Initial position of second oscillator\n",
        "v2_0 = 0.0  # Initial velocity of second oscillator\n",
        "\n",
        "# Initial conditions in terms of normal modes\n",
        "C = np.linalg.inv(np.array([A1, A2]).T).dot([x1_0, x2_0])\n",
        "phi1 = 0  # Assume phase angles are zero for simplicity\n",
        "phi2 = 0\n",
        "\n",
        "# Time span\n",
        "t = np.linspace(0, 10, 100)\n",
        "\n",
        "# Calculate the positions using the normal mode solution\n",
        "x1 = C[0] * np.cos(omega1 * t + phi1) * A1[0] + C[1] * np.cos(omega2 * t + phi2) * A2[0]\n",
        "x2 = C[0] * np.cos(omega1 * t + phi1) * A1[1] + C[1] * np.cos(omega2 * t + phi2) * A2[1]\n",
        "\n",
        "# Calculate the velocities using the normal mode solution\n",
        "v1 = -C[0] * omega1 * np.sin(omega1 * t + phi1) * A1[0] - C[1] * omega2 * np.sin(omega2 * t + phi2) * A2[0]\n",
        "v2 = -C[0] * omega1 * np.sin(omega1 * t + phi1) * A1[1] - C[1] * omega2 * np.sin(omega2 * t + phi2) * A2[1]\n",
        "\n",
        "# Plot the results\n",
        "plt.figure(figsize=(10, 6))\n",
        "plt.plot(t, x1, label='x1 (Position of Mass 1)')\n",
        "plt.plot(t, x2, label='x2 (Position of Mass 2)')\n",
        "plt.xlabel('Time')\n",
        "plt.ylabel('Position')\n",
        "plt.legend()\n",
        "plt.title('Coupled Harmonic Oscillators (Normal Modes)')\n",
        "plt.grid()\n",
        "plt.show()\n",
        "\n",
        "# Plot the velocity results\n",
        "plt.figure(figsize=(10, 6))\n",
        "plt.plot(t, v1, label='v1 (Velocity of Mass 1)')\n",
        "plt.plot(t, v2, label='v2 (Velocity of Mass 2)')\n",
        "plt.xlabel('Time')\n",
        "plt.ylabel('Velocity')\n",
        "plt.legend()\n",
        "plt.title('Velocities of Coupled Harmonic Oscillators (Normal Modes)')\n",
        "plt.grid()\n",
        "plt.show()\n",
        "\n",
        "# print(t)\n",
        "print(\"Final position of oscillator 1:\", x1[-1])\n",
        "print(\"Final position of oscillator 2:\", x2[-1])\n",
        "\n",
        "\n",
        "print(\"Final velocity of oscillator 1:\", v1[-1])\n",
        "print(\"Final velocity of oscillator 2:\", v2[-1])\n"
      ]
    },
    {
      "cell_type": "code",
      "execution_count": null,
      "metadata": {},
      "outputs": [],
      "source": []
    }
  ],
  "metadata": {
    "colab": {
      "provenance": []
    },
    "kernelspec": {
      "display_name": "Python 3",
      "language": "python",
      "name": "python3"
    },
    "language_info": {
      "codemirror_mode": {
        "name": "ipython",
        "version": 3
      },
      "file_extension": ".py",
      "mimetype": "text/x-python",
      "name": "python",
      "nbconvert_exporter": "python",
      "pygments_lexer": "ipython3",
      "version": "3.11.9"
    }
  },
  "nbformat": 4,
  "nbformat_minor": 0
}
