{
 "cells": [
  {
   "cell_type": "markdown",
   "metadata": {},
   "source": [
    "## Hamiltonian Simulation using block-encoding:\n",
    "___\n",
    "\n",
    "\n",
    "#### Block encoding H\n",
    "\n",
    "We have our hamiltonian of the form \n",
    "$$\n",
    "H = \\sum^{L-1}_{i=0} \\alpha_i U_i,\n",
    "$$\n",
    "where $U_i$ are Pauli strings. We use Linear Combination of Unitaries (LCU) to form the block-encoding of $H$\n",
    "\n",
    "LCU refers to $(\\bar{\\alpha}, m, 0)$-block encoding of a matrix given as a sum of unitaries:\n",
    "$$\n",
    "U_{(\\bar{\\alpha},m,0)-H} =\\begin{pmatrix}\n",
    "H/\\bar{\\alpha} & * \\\\\n",
    "* & *\n",
    "\\end{pmatrix}, \\text{   for     } H = \\sum^{L-1}_{i=0} \\alpha_i U_i, \\,\\,\\,\\,\\, \\alpha_i\\geq 0\n",
    "$$\n",
    "with $\\bar{\\alpha}\\equiv\\sum^{L-1}_{i=0}\\alpha_i$ and $m= \\lceil\\log_2(L) \\rceil$ represents the numner of block qubits. \n",
    "\n",
    "\n",
    "More details on the LCU methodology can be found in classiq's [LCU tutorial](https://github.com/Classiq/classiq-library/blob/main/tutorials/linear_combination_of_unitaries/linear_combination_of_unitaries.ipynb)\n",
    "___\n",
    "\n",
    "#### Block encoding $e^{iHt}$\n",
    "\n",
    "Given block-encoding of the Hamiltonian $H$, we can define the Szegedy quanutm walk-operator as: \n",
    "$$\n",
    "W\\equiv -\\Pi_{|0\\rangle_m} U_{(\\bar{\\alpha},m,0)-H},\n",
    "$$  \n",
    "where $\\Pi_{|0\\rangle_m}$ is a reflection operator about the block state. The powers of $W$ correspond to a $(1,m,0)$ block encoding of the Chebyshev polynomials of the matrix $H$:\n",
    "$$\n",
    "W^k = \\begin{pmatrix}\n",
    "T_k(H) & * \\\\\n",
    "* & *\n",
    "\\end{pmatrix}=U_{(1,m,0)-T_k(H)},\n",
    "$$\n",
    "with $T_k$ being the k-th Chebyshev polynomial. Its useful to note that this property holds only for an **Hermitian block-encoding**. From the Jacobi -Anger expansion (given below) we can have an $\\epsilon$-approximation of $\\exp(iHt)\\approx \\sum^d_{i=0} \\beta_{i} T_{i}(H)$, for which we can perform the following encoding\n",
    "$$\n",
    "U_{(\\bar{\\beta},\\tilde{m},\\epsilon)-\\exp{(iHt)}} =\n",
    "\\begin{pmatrix}\n",
    "\\exp{(iHt)}/\\bar{\\beta} & * \\\\\n",
    "* & *\n",
    "\\end{pmatrix}=\n",
    "% \\begin{pmatrix}\n",
    "% \\frac{1}{\\bar{\\beta}}\\sum^d_{k=0} \\beta_{k} T_{k}(Ht) & * \\\\\n",
    "% * & *\n",
    "% \\end{pmatrix}=\n",
    "\\begin{pmatrix}\n",
    "\\frac{1}{\\bar{\\beta}}\\sum^d_{k=0} \\beta_{k} W^k & * \\\\\n",
    "* & *\n",
    "\\end{pmatrix}\n",
    "% \\begin{pmatrix}\n",
    "% \\frac{1}{\\bar{\\beta}}\\sum^d_{k=0} W^k & * \\\\\n",
    "% * & *\n",
    "% \\end{pmatrix},\n",
    "$$\n",
    "where $\\tilde{m}=m+\\lceil \\log_2(d+1) \\rceil$ \n",
    "\n",
    "We evaluate the coefficients $\\beta_{i}$ as the bessel coefficients ($J(t)$) of the Jacobi-anger expressions for sine and cosine as follows\n",
    "$$\n",
    "\\cos(Ht)= J_0(t) + 2\\sum^{d}_{k=1} (-1)^k J_{2k}(t) T_{2k}(H)\\\\\n",
    "\\sin(Ht)= 2\\sum^{d}_{k=0} (-1)^k J_{2k+1}(t) T_{2k+1}(H),\n",
    "$$\n",
    "___"
   ]
  },
  {
   "cell_type": "markdown",
   "metadata": {},
   "source": [
    "First we take all inputs (for the simplest case) from the notebook ToyProblemSuzuki.ipynb"
   ]
  },
  {
   "cell_type": "code",
   "execution_count": 17,
   "metadata": {},
   "outputs": [],
   "source": [
    "## Import Libraries\n",
    "import numpy as np\n",
    "import matplotlib.pyplot as plt\n",
    "import qutip as qt\n",
    "import typing\n",
    "import itertools\n",
    "import scipy\n",
    "import classiq\n",
    "from classiq import *\n",
    "from classiq.execution import ExecutionPreferences, ClassiqBackendPreferences, ClassiqSimulatorBackendNames, ExecutionSession\n",
    "from typing import cast\n",
    "from qutip import qeye, sigmax, sigmay, sigmaz\n",
    "from itertools import product\n",
    "from numpy import kron\n",
    "from scipy.special import eval_chebyt, jv\n",
    "from classiq.qmod.symbolic import pi\n",
    "from ccho_helpers import *  \n",
    "\n",
    "## Defining all Global Variables\n",
    "PAULI_DICT = {\n",
    "    \"I\": np.array([[1, 0], [0, 1]], dtype=np.complex128),\n",
    "    \"Z\": np.array([[1, 0], [0, -1]], dtype=np.complex128),\n",
    "    \"X\": np.array([[0, 1], [1, 0]], dtype=np.complex128),\n",
    "    \"Y\": np.array([[0, -1j], [1j, 0]], dtype=np.complex128),\n",
    "}\n",
    "\n",
    "CHAR_TO_STUCT_DICT = {\"I\": Pauli.I, \"X\": Pauli.X, \"Y\": Pauli.Y, \"Z\": Pauli.Z}"
   ]
  },
  {
   "cell_type": "code",
   "execution_count": 3,
   "metadata": {},
   "outputs": [],
   "source": [
    "def is_power_of_2(n):\n",
    "    \"\"\"Check if a number is a power of 2.\"\"\"\n",
    "    return (n & (n - 1) == 0) and n != 0\n",
    "\n",
    "def initialize_system():\n",
    "    while True:\n",
    "        N = int(input(\"Enter the number of masses (N): \"))\n",
    "        if is_power_of_2(N):\n",
    "            break\n",
    "        else:\n",
    "            print(\"Error: N must be a power of 2. Please try again.\")\n",
    "\n",
    "    # Initialize the mass matrix (M) and spring constant matrix (K)\n",
    "    M = np.zeros((N, N))\n",
    "    K = np.zeros((N, N))\n",
    "\n",
    "    # Input the values of the masses\n",
    "    for i in range(N):\n",
    "        M[i, i] = float(input(f\"Enter the mass m_{i+1}: \"))\n",
    "\n",
    "    # Input the spring constants\n",
    "    for i in range(N):\n",
    "        for j in range(i, N):\n",
    "            k = float(input(f\"Enter the spring constant k_{i+1}{j+1}: \"))\n",
    "            K[i, j] = k\n",
    "            K[j, i] = k  # Since K is a symmetric matrix\n",
    "\n",
    "    # Input the initial position vector (x_0)\n",
    "    x_0 = np.zeros((N, 1))\n",
    "    for i in range(N):\n",
    "        x_0[i, 0] = float(input(f\"Enter the initial position x_0_{i+1}: \"))\n",
    "\n",
    "    # Input the initial velocity vector (xdot_0)\n",
    "    xdot_0 = np.zeros((N, 1))\n",
    "    for i in range(N):\n",
    "        xdot_0[i, 0] = float(input(f\"Enter the initial velocity xdot_0_{i+1}: \"))\n",
    "\n",
    "    return N, M, K, x_0, xdot_0\n",
    "\n"
   ]
  },
  {
   "cell_type": "code",
   "execution_count": 4,
   "metadata": {},
   "outputs": [
    {
     "name": "stdout",
     "output_type": "stream",
     "text": [
      "Number of masses 2\n",
      "Mass matrix [[1. 0.]\n",
      " [0. 1.]]\n",
      "Initial Position [[0.]\n",
      " [1.]]\n",
      "Initial Velocities [[0.]\n",
      " [0.]]\n",
      "Spring Constant Matrix [[0. 1.]\n",
      " [1. 0.]]\n",
      "Initial Energy:  0.5\n",
      "B matrix:  [[ 0.+0.j  1.+0.j  0.+0.j  0.+0.j]\n",
      " [ 0.+0.j -1.+0.j  0.+0.j  0.+0.j]\n",
      " [ 0.+0.j  0.+0.j  0.+0.j  0.+0.j]\n",
      " [ 0.+0.j  0.+0.j  0.+0.j  0.+0.j]]\n",
      "Hamiltonian formed: [[-0.-0.j -0.-0.j -0.-0.j -0.-0.j -0.-0.j -1.-0.j -0.-0.j -0.-0.j]\n",
      " [-0.-0.j -0.-0.j -0.-0.j -0.-0.j -0.-0.j  1.-0.j -0.-0.j -0.-0.j]\n",
      " [-0.-0.j -0.-0.j -0.-0.j -0.-0.j -0.-0.j -0.-0.j -0.-0.j -0.-0.j]\n",
      " [-0.-0.j -0.-0.j -0.-0.j -0.-0.j -0.-0.j -0.-0.j -0.-0.j -0.-0.j]\n",
      " [-0.+0.j -0.+0.j -0.+0.j -0.+0.j -0.-0.j -0.-0.j -0.-0.j -0.-0.j]\n",
      " [-1.+0.j  1.+0.j -0.+0.j -0.+0.j -0.-0.j -0.-0.j -0.-0.j -0.-0.j]\n",
      " [-0.+0.j -0.+0.j -0.+0.j -0.+0.j -0.-0.j -0.-0.j -0.-0.j -0.-0.j]\n",
      " [-0.+0.j -0.+0.j -0.+0.j -0.+0.j -0.-0.j -0.-0.j -0.-0.j -0.-0.j]]\n",
      "Initial Quantum State: [[ 0.+0.j]\n",
      " [ 0.+0.j]\n",
      " [ 0.+0.j]\n",
      " [ 0.+0.j]\n",
      " [ 0.+0.j]\n",
      " [-0.-1.j]\n",
      " [ 0.+0.j]\n",
      " [ 0.+0.j]]\n"
     ]
    }
   ],
   "source": [
    "N, M, K, x_0, xdot_0 = initialize_system() # plug N=2 for 2 case system , for this example we chose k_11=k_12=k_22=1 , m_1= m_2=1 , x_0= [0,1] and xdot_0=[0,0]\n",
    "\n",
    "# F Matrix\n",
    "F= create_matrix_F(K, N)\n",
    "\n",
    "# A Matrix\n",
    "A = create_matrix_A(M, F)\n",
    "\n",
    "# Transform coordinates\n",
    "y = coordinate_transformation(M, x_0, xdot_0)\n",
    "y_0 = y[\"y_0\"]\n",
    "ydot_0 = y[\"ydot_0\"]\n",
    "\n",
    "# B Matrix\n",
    "B = create_matrix_B(M, K, A, N)\n",
    "\n",
    "\n",
    "# Stacking B with zeros to get square matrix N^2 x N^2\n",
    "B_padded = padding_B(B, N)\n",
    "\n",
    "# Hamiltonian\n",
    "Ham = create_Hamiltonian(B_padded)\n",
    "\n",
    "# Initial State\n",
    "init_state = create_init_state(B_padded, y_0, ydot_0, N)\n",
    "E0_y = calculate_energy(y_0, ydot_0, M, K)\n",
    "\n",
    "# Normalize the Initial State\n",
    "normalization = normalize_init_state(init_state)\n",
    "normalized_init_state = normalization[\"normalized_init_state\"]\n",
    "norm = normalization[\"norm\"]\n",
    "\n",
    "# Print the results\n",
    "\n",
    "print(\"Number of masses\", N)\n",
    "print(\"Mass matrix\", M)\n",
    "print(\"Initial Position\", x_0)\n",
    "print(\"Initial Velocities\", xdot_0)\n",
    "print(\"Spring Constant Matrix\", K)\n",
    "print(\"Initial Energy: \", E0_y)\n",
    "print(\"B matrix: \", B_padded)\n",
    "print(\"Hamiltonian formed:\", Ham)\n",
    "print(\"Initial Quantum State:\", init_state)\n",
    "\n",
    "assert np.matmul(B, B.conj().T).all()==A.all()"
   ]
  },
  {
   "cell_type": "code",
   "execution_count": 5,
   "metadata": {},
   "outputs": [
    {
     "name": "stderr",
     "output_type": "stream",
     "text": [
      "100%|██████████| 64/64 [00:00<00:00, 24325.82it/s]"
     ]
    },
    {
     "name": "stdout",
     "output_type": "stream",
     "text": [
      "[('XII', (0.25+0j)), ('XIZ', (-0.25+0j)), ('XIX', (-0.25+0j)), ('XZI', (0.25+0j)), ('XZZ', (-0.25+0j)), ('XZX', (-0.25+0j)), ('YIY', (0.25+0j)), ('YZY', (0.25+0j))]\n"
     ]
    },
    {
     "name": "stderr",
     "output_type": "stream",
     "text": [
      "\n"
     ]
    }
   ],
   "source": [
    "# Create the Pauli Matrix Decomposition of the Hamiltonian\n",
    "pauli_list = lcu_naive(Ham)\n",
    "\n",
    "# Transform Pauli Matrix Decomposition to Classiq compatible\n",
    "classiq_pauli_list = pauli_list_to_hamiltonian(pauli_list)\n",
    "\n",
    "print(pauli_list)"
   ]
  },
  {
   "cell_type": "markdown",
   "metadata": {
    "vscode": {
     "languageId": "plaintext"
    }
   },
   "source": [
    "#### **Block Encoding the Hamiltonian (LCU):**\n",
    "\n",
    "##### Preparing the normalized coefficients for the PREPARE operation\n",
    "\n",
    "The PREPARE operation prepares a quantum state that corresponds to the probabilities $|\\alpha_i| /\\sum|\\alpha_i|$. We define a function that gets the list of  coefficients of the Hamiltonian and returns the probabilities to be loaded as part of the PREPARE operation. The block size is also determined based on the number of terms in the Hamiltonian."
   ]
  },
  {
   "cell_type": "code",
   "execution_count": 6,
   "metadata": {},
   "outputs": [
    {
     "name": "stdout",
     "output_type": "stream",
     "text": [
      "The prepared probabilities: [0.125, 0.125, 0.125, 0.125, 0.125, 0.125, 0.125, 0.125]\n",
      "The size of the block encoding: 3\n",
      "The normalized coefficients: [0.125, 0.125, 0.125, 0.125, 0.125, 0.125, 0.125, 0.125]\n",
      "The normalization factor: 2.0\n"
     ]
    },
    {
     "data": {
      "text/plain": [
       "2.0"
      ]
     },
     "execution_count": 6,
     "metadata": {},
     "output_type": "execute_result"
    }
   ],
   "source": [
    "# getting the normalized coefficents representing probabilities for the prepare block of LCU\n",
    "\n",
    "def get_normalized_lcu_coef(lcu_coef):\n",
    "    # Calculate the normalization factor as the sum of moduli of the complex numbers\n",
    "    normalization_factor = sum(np.abs(c) for c in lcu_coef)\n",
    " \n",
    "    # Calculate the prepare_prob list as specified\n",
    "    prepare_prob = [(np.abs(c) / normalization_factor) for c in lcu_coef]\n",
    "    \n",
    "    # Print the prepare_prob list\n",
    "    print(\"The prepared probabilities:\", prepare_prob)\n",
    "    \n",
    "    # Calculate the size of the block encoding\n",
    "    coef_size = int(np.ceil(np.log2(len(prepare_prob))))\n",
    "    \n",
    "    # Pad prepare_prob with zeros to make its length a power of 2\n",
    "    prepare_prob += [0] * (2**coef_size - len(prepare_prob))\n",
    "\n",
    "    if sum(prepare_prob)>1:\n",
    "        k= sum(prepare_prob)-1 \n",
    "        prepare_prob[0]-=k\n",
    "    \n",
    "    if sum(prepare_prob)<1:\n",
    "        k= 1- sum(prepare_prob) \n",
    "        prepare_prob[0]+=k\n",
    "    \n",
    "    # Print the details\n",
    "    print(\"The size of the block encoding:\", coef_size)\n",
    "    print(\"The normalized coefficients:\", prepare_prob)\n",
    "    print(\"The normalization factor:\", normalization_factor)\n",
    "    \n",
    "    return normalization_factor, coef_size, prepare_prob\n",
    "\n",
    "lcu_pauli_coef = [p.coefficient for p in classiq_pauli_list]\n",
    "\n",
    "normalization_ham, lcu_size_ham, prepare_probs_ham = get_normalized_lcu_coef(\n",
    "    lcu_pauli_coef\n",
    ")\n",
    "normalization_ham"
   ]
  },
  {
   "cell_type": "markdown",
   "metadata": {},
   "source": [
    "#### Defining a function that applies the $(PREPARE) SELECT (PREPARE^{\\dagger})$ operation\n",
    "\n",
    "The SELECT operation acts on the desired target state controlled by the quantum state of the block qubits. This constitution ends our construction of the unitary block Hamiltonian. "
   ]
  },
  {
   "cell_type": "code",
   "execution_count": 7,
   "metadata": {},
   "outputs": [],
   "source": [
    "@qfunc\n",
    "def apply_pauli_term(pauli_string: PauliTerm, x: QArray[QBit]):\n",
    "    repeat(\n",
    "        count=x.len,\n",
    "        iteration=lambda index: switch(\n",
    "            pauli_string.pauli[index],\n",
    "            [\n",
    "                lambda: IDENTITY(x[pauli_string.pauli.len - index - 1]),\n",
    "                lambda: X(x[pauli_string.pauli.len - index - 1]),\n",
    "                lambda: Y(x[pauli_string.pauli.len - index - 1]),\n",
    "                lambda: Z(x[pauli_string.pauli.len - index - 1]),\n",
    "            ],\n",
    "        ),\n",
    "    )\n",
    "    \n",
    "@qfunc\n",
    "def lcu_paulis(\n",
    "    pauli_terms_list: CArray[PauliTerm],\n",
    "    probs: CArray[CReal],\n",
    "    block: QNum,\n",
    "    data: QArray[QBit],\n",
    "):\n",
    "    within_apply(\n",
    "        lambda: inplace_prepare_state(probs, 0.0, block),\n",
    "        lambda: repeat(\n",
    "            count=pauli_terms_list.len,\n",
    "            iteration=lambda i: control(\n",
    "                block == i, lambda: apply_pauli_term(pauli_terms_list[i], data)\n",
    "            ),       \n",
    "            ),\n",
    "    )"
   ]
  },
  {
   "cell_type": "markdown",
   "metadata": {},
   "source": [
    "#### **Block Encoding the Hamiltonian evolution ($e^{iHt}$): (Qubitization method)**\n",
    "##### Defining the walk-operator $W$\n",
    "\n"
   ]
  },
  {
   "cell_type": "code",
   "execution_count": 8,
   "metadata": {},
   "outputs": [],
   "source": [
    "@qfunc\n",
    "def my_walk_operator(block: QArray[QBit], data: QArray[QBit]) -> None:\n",
    "    lcu_paulis(classiq_pauli_list, prepare_probs_ham, block, data)\n",
    "    reflect_about_zero(block)\n",
    "    RY(2 * np.pi, block[0])  # for the minus sign"
   ]
  },
  {
   "cell_type": "markdown",
   "metadata": {},
   "source": [
    "##### Evaluating the Chebyshev co-efficients\n",
    "\n",
    "We calculate the coefficients $\\beta_i$ for approximating the sine and cosine functions. We want to approximate $e^{iHt}$, but our Hamiltonian is encoded with a normalization factor $\\bar{\\alpha}$ that comes from the LCU block encoding. Therefore, we rescale the time by this factor. \n",
    "\n",
    "Given the coefficients, we calculate the probabilities for the LCU prepare variable. These must be positive numbers. Moreover, for the odd terms, which corresponds to the sine function, we should add a factor of $i$. Those factors should be added to the unitary operations $W^k$. To take this into account, for each term we define a \"generalized sign\" $\\sigma_k$ such that $\\beta_k = e^{\\frac{\\pi}{2}\\sigma_k i} |\\beta_k|$ with $\\sigma_k \\in \\{0,1,2,3\\}$ that corresponds to the factors $1,i,-1,-i$ respectively. "
   ]
  },
  {
   "cell_type": "code",
   "execution_count": 9,
   "metadata": {},
   "outputs": [
    {
     "name": "stdout",
     "output_type": "stream",
     "text": [
      "The prepared probabilities: [0.4080824000265584, 0.46936080000885283, 0.12255679996458888]\n",
      "The size of the block encoding: 2\n",
      "The normalized coefficients: [0.4080824000265584, 0.46936080000885283, 0.12255679996458888, 0]\n",
      "The normalization factor: 1.8751058279116346\n"
     ]
    }
   ],
   "source": [
    "def get_cheb_coef(epsilon, t):\n",
    "    poly_degree = int(\n",
    "        np.ceil(\n",
    "            t\n",
    "            + np.log(epsilon ** (-1)) / np.log(np.exp(1) + np.log(epsilon ** (-1)) / t)\n",
    "        )\n",
    "    )\n",
    "    cos_coef = [jv(0, t)] + [\n",
    "        2 * jv(2 * k, t) * (-1) ** k for k in range(1, poly_degree // 2 + 1)\n",
    "    ]\n",
    "    sin_coef = [\n",
    "        -2 * jv(2 * k - 1, t) * (-1) ** k for k in range(1, poly_degree // 2 + 1)\n",
    "    ]\n",
    "    return cos_coef, sin_coef\n",
    "\n",
    "\n",
    "EVOLUTION_TIME = 0.5\n",
    "EPS = 0.1\n",
    "\n",
    "# since our hamiltonian from \n",
    "normalized_time = normalization_ham * EVOLUTION_TIME\n",
    "\n",
    "cos_coef, sin_coef = get_cheb_coef(EPS, normalized_time)\n",
    "combined_sin_cos_coef = []\n",
    "\n",
    "for k in range(len(cos_coef) - 1):\n",
    "    combined_sin_cos_coef.append(cos_coef[k])\n",
    "    combined_sin_cos_coef.append(sin_coef[k])\n",
    "combined_sin_cos_coef.append(cos_coef[-1])\n",
    "if len(sin_coef) == len(cos_coef):\n",
    "    combined_sin_cos_coef.append(sin_coef[-1])\n",
    "\n",
    "\n",
    "signs_cheb_coef = np.sign(combined_sin_cos_coef).tolist()\n",
    "generalized_signs = [\n",
    "    (1 - signs_cheb_coef[s]) + (s) % 2 for s in range(len(signs_cheb_coef))\n",
    "]\n",
    "positive_cheb_lcu_coef = np.abs(combined_sin_cos_coef)\n",
    "\n",
    "normalization_exp, lcu_size_exp, prepare_probs_exp = get_normalized_lcu_coef(\n",
    "    positive_cheb_lcu_coef\n",
    ")"
   ]
  },
  {
   "cell_type": "code",
   "execution_count": 10,
   "metadata": {},
   "outputs": [
    {
     "data": {
      "text/plain": [
       "2"
      ]
     },
     "execution_count": 10,
     "metadata": {},
     "output_type": "execute_result"
    }
   ],
   "source": [
    "poly_degree = int(\n",
    "        np.ceil(\n",
    "            EVOLUTION_TIME\n",
    "            + np.log(EPS ** (-1)) / np.log(np.exp(1) + np.log(EPS ** (-1)) / EVOLUTION_TIME)\n",
    "        )\n",
    "    )\n",
    "\n",
    "poly_degree"
   ]
  },
  {
   "cell_type": "markdown",
   "metadata": {},
   "source": [
    "#### Block encoding using LCU"
   ]
  },
  {
   "cell_type": "code",
   "execution_count": 11,
   "metadata": {},
   "outputs": [],
   "source": [
    "@qfunc\n",
    "def lcu_cheb(\n",
    "    coef: CArray[CReal],\n",
    "    generalized_signs: CArray[CInt],\n",
    "    walk_operator: QCallable[QNum, QArray],\n",
    "    walk_block: QNum,\n",
    "    walk_data: QArray,\n",
    "    cheb_block: QNum,\n",
    "):\n",
    "\n",
    "    within_apply(\n",
    "        lambda: inplace_prepare_state(coef, 0.0, cheb_block),\n",
    "        lambda: repeat(\n",
    "            generalized_signs.len,\n",
    "            lambda k: control(\n",
    "                cheb_block == k,\n",
    "                lambda: (\n",
    "                    U(0, 0, 0, np.pi / 2 * generalized_signs[k], walk_data[0]),\n",
    "                    power(k, lambda: walk_operator(walk_block, walk_data)),\n",
    "                ),\n",
    "            ),\n",
    "        ),\n",
    "    )"
   ]
  },
  {
   "cell_type": "code",
   "execution_count": 13,
   "metadata": {},
   "outputs": [
    {
     "name": "stdout",
     "output_type": "stream",
     "text": [
      "Opening: https://platform.classiq.io/circuit/ebc54b7c-bcbb-439f-a41a-c8d7f8ba0cc3?version=0.43.3\n"
     ]
    }
   ],
   "source": [
    "@qfunc\n",
    "def init_state_phase(state: QNum):\n",
    "    \"\"\"\n",
    "        Definition:\n",
    "            Imply -pi/2 phase to the last half (msb qubit) of the QNum state in order to add -i factor\n",
    "        Args:\n",
    "            state (QNum): Initial state with bare amplitudes\n",
    "        Outputs:\n",
    "            state (QNum): Initial state with phase\n",
    "    \"\"\"\n",
    "\n",
    "    state_in_qubit = QArray(\"state_in_qubit\")\n",
    "    msb = QArray(\"msb\", QBit)\n",
    "    \n",
    "    size = np.log2(init_state.size)\n",
    "    allocate(size, msb)\n",
    "\n",
    "    bind(state, state_in_qubit)\n",
    "    repeat(state_in_qubit.len, lambda i: CX(state_in_qubit[i], msb[i]))\n",
    "    control(msb[size-1], lambda: PHASE(-np.pi/2, state_in_qubit[size-1]))\n",
    "    bind(state_in_qubit, state)\n",
    "\n",
    "@qfunc\n",
    "def main(ham_block: Output[QNum], state: Output[QNum], exp_block: Output[QNum]):\n",
    "    prepare_amplitudes(amplitudes=list(normalized_init_state), out=state, bound=0.01)\n",
    "    init_state_phase(state)\n",
    "    allocate(lcu_size_exp, exp_block)\n",
    "    allocate(lcu_size_ham, ham_block)\n",
    "    lcu_cheb(\n",
    "        prepare_probs_exp,\n",
    "        generalized_signs,\n",
    "        lambda x, y: my_walk_operator(x, y),\n",
    "        ham_block,\n",
    "        state,\n",
    "        exp_block,\n",
    "    )\n",
    "    \n",
    "\n",
    "preferences = Preferences(\n",
    "   timeout_seconds= 600\n",
    ")\n",
    "Execution_Prefs = ExecutionPreferences(\n",
    "    num_shots=1,\n",
    "    backend_preferences=ClassiqBackendPreferences(\n",
    "        backend_name=ClassiqSimulatorBackendNames.SIMULATOR_STATEVECTOR\n",
    "    ),\n",
    ")\n",
    "# constraints= Constraints(\n",
    "#         optimization_parameter=OptimizationParameter.DEPTH,\n",
    "#         max_width= 25\n",
    "#     )\n",
    "\n",
    "model = create_model(main, execution_preferences=Execution_Prefs)\n",
    "# qmod = set_constraints(model)\n",
    "qmod = set_preferences(model, preferences)\n",
    "\n",
    "\n",
    "qprog = synthesize(qmod)\n",
    "show(qprog)\n",
    "write_qmod(qmod, \"HS\", decimal_precision=16)"
   ]
  },
  {
   "cell_type": "code",
   "execution_count": 16,
   "metadata": {},
   "outputs": [
    {
     "name": "stdout",
     "output_type": "stream",
     "text": [
      "Final Positions [[0.99058862+0.09655468j]\n",
      " [0.00941138-0.09655468j]]\n",
      "Final Velocities [[0.+0.j]\n",
      " [0.+0.j]]\n"
     ]
    },
    {
     "name": "stderr",
     "output_type": "stream",
     "text": [
      "/Users/virajdsouza/Library/CloudStorage/OneDrive-PlakshaUniversity/Main/Womanium Classiq Project/Abstract-Oscillators-Pvt-/ccho_helpers.py:366: FutureWarning: `rcond` parameter will change to the default of machine precision times ``max(M, N)`` where M and N are the input matrix dimensions.\n",
      "To use the future default and silence this warning we advise to pass `rcond=None`, to keep using the old, explicitly pass `rcond=-1`.\n",
      "  y_final_0_padded = np.linalg.lstsq(B.T,-1j*last_half, rcond=None)[0]\n"
     ]
    }
   ],
   "source": [
    "results = execute(qprog).result()\n",
    "# parsed_state_vector= results[0].value.parsed_state_vector \n",
    "state_result = get_projected_state_vector(\n",
    "    results, \"state\", {\"exp_block\": 0.0, \"ham_block\": 0.0}\n",
    ")\n",
    "# print(state_result)\n",
    "\n",
    "# # expected state after evolution\n",
    "expected_state = (1 / normalization_exp) * scipy.linalg.expm(1j * Ham * EVOLUTION_TIME) @ init_state\n",
    "relative_phase = np.angle(expected_state[0] / state_result[0])\n",
    "state_result = state_result * np.exp(\n",
    "    1j * relative_phase\n",
    ")  # rotate according to a global phase\n",
    "\n",
    "\n",
    "\n",
    "# print(\"expected state:\", np.transpose(expected_state))\n",
    "# print(\"resulting state:\", state_result)\n",
    "# assert np.linalg.norm(state_result - np.transpose(expected_state)) < EPS\n",
    "\n",
    "\n",
    "# Normalize the final state\n",
    "normalized_final_state = normalize_final_state2(state_result)\n",
    "\n",
    "# Simplify the final state by neglecting small terms\n",
    "simplified_final_state = simplify_final_state(normalized_final_state)\n",
    "\n",
    "# Correct the normalization factor that comes from the normalization of initial state and transform the row vector to column vector\n",
    "final_state = norm * simplified_final_state[..., None]\n",
    "# print(\"The final quantum state from quantum evolution\", final_state)\n",
    "\n",
    "# Get the final position and velocity vectors\n",
    "final_results = post_process_final_state(final_state, B_padded, N, y_0)\n",
    "y_final = final_results[\"y_final\"]\n",
    "ydot_final = final_results[\"ydot_final\"]\n",
    "\n",
    "# transform to original coordinates\n",
    "x_final_results = back_coordinate_transformation(M, y_final, ydot_final)\n",
    "x_final = x_final_results[\"x_final\"]\n",
    "xdot_final = x_final_results[\"xdot_final\"]\n",
    "\n",
    "print(\"Final Positions\", x_final)\n",
    "print(\"Final Velocities\", xdot_final)\n"
   ]
  }
 ],
 "metadata": {
  "kernelspec": {
   "display_name": "Python 3",
   "language": "python",
   "name": "python3"
  },
  "language_info": {
   "codemirror_mode": {
    "name": "ipython",
    "version": 3
   },
   "file_extension": ".py",
   "mimetype": "text/x-python",
   "name": "python",
   "nbconvert_exporter": "python",
   "pygments_lexer": "ipython3",
   "version": "3.11.9"
  }
 },
 "nbformat": 4,
 "nbformat_minor": 2
}
